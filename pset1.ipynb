{
 "cells": [
  {
   "cell_type": "code",
   "execution_count": 329,
   "metadata": {},
   "outputs": [],
   "source": [
    "import pandas as pd\n",
    "import numpy as np\n",
    "import math\n",
    "from scipy.stats import norm\n",
    "import matplotlib.pyplot as plt"
   ]
  },
  {
   "cell_type": "code",
   "execution_count": 6,
   "metadata": {},
   "outputs": [
    {
     "data": {
      "text/html": [
       "<div>\n",
       "<style scoped>\n",
       "    .dataframe tbody tr th:only-of-type {\n",
       "        vertical-align: middle;\n",
       "    }\n",
       "\n",
       "    .dataframe tbody tr th {\n",
       "        vertical-align: top;\n",
       "    }\n",
       "\n",
       "    .dataframe thead th {\n",
       "        text-align: right;\n",
       "    }\n",
       "</style>\n",
       "<table border=\"1\" class=\"dataframe\">\n",
       "  <thead>\n",
       "    <tr style=\"text-align: right;\">\n",
       "      <th></th>\n",
       "      <th>treat</th>\n",
       "      <th>wage</th>\n",
       "    </tr>\n",
       "  </thead>\n",
       "  <tbody>\n",
       "    <tr>\n",
       "      <th>0</th>\n",
       "      <td>0.0</td>\n",
       "      <td>0.0000</td>\n",
       "    </tr>\n",
       "    <tr>\n",
       "      <th>1</th>\n",
       "      <td>0.0</td>\n",
       "      <td>12.3837</td>\n",
       "    </tr>\n",
       "    <tr>\n",
       "      <th>2</th>\n",
       "      <td>0.0</td>\n",
       "      <td>0.0000</td>\n",
       "    </tr>\n",
       "    <tr>\n",
       "      <th>3</th>\n",
       "      <td>0.0</td>\n",
       "      <td>10.7401</td>\n",
       "    </tr>\n",
       "    <tr>\n",
       "      <th>4</th>\n",
       "      <td>0.0</td>\n",
       "      <td>11.7965</td>\n",
       "    </tr>\n",
       "    <tr>\n",
       "      <th>...</th>\n",
       "      <td>...</td>\n",
       "      <td>...</td>\n",
       "    </tr>\n",
       "    <tr>\n",
       "      <th>440</th>\n",
       "      <td>1.0</td>\n",
       "      <td>15.9526</td>\n",
       "    </tr>\n",
       "    <tr>\n",
       "      <th>441</th>\n",
       "      <td>1.0</td>\n",
       "      <td>36.6469</td>\n",
       "    </tr>\n",
       "    <tr>\n",
       "      <th>442</th>\n",
       "      <td>1.0</td>\n",
       "      <td>12.8040</td>\n",
       "    </tr>\n",
       "    <tr>\n",
       "      <th>443</th>\n",
       "      <td>1.0</td>\n",
       "      <td>3.7866</td>\n",
       "    </tr>\n",
       "    <tr>\n",
       "      <th>444</th>\n",
       "      <td>1.0</td>\n",
       "      <td>4.1819</td>\n",
       "    </tr>\n",
       "  </tbody>\n",
       "</table>\n",
       "<p>445 rows × 2 columns</p>\n",
       "</div>"
      ],
      "text/plain": [
       "     treat     wage\n",
       "0      0.0   0.0000\n",
       "1      0.0  12.3837\n",
       "2      0.0   0.0000\n",
       "3      0.0  10.7401\n",
       "4      0.0  11.7965\n",
       "..     ...      ...\n",
       "440    1.0  15.9526\n",
       "441    1.0  36.6469\n",
       "442    1.0  12.8040\n",
       "443    1.0   3.7866\n",
       "444    1.0   4.1819\n",
       "\n",
       "[445 rows x 2 columns]"
      ]
     },
     "execution_count": 6,
     "metadata": {},
     "output_type": "execute_result"
    }
   ],
   "source": [
    "file1_path = \"src/lalonde_experimental.txt\"\n",
    "data =  pd.DataFrame(np.loadtxt(file1_path))\n",
    "data.columns = [\"treat\", \"wage\"]\n",
    "data"
   ]
  },
  {
   "cell_type": "markdown",
   "metadata": {},
   "source": [
    "1. a. est null hypothesis that there is no effect of the training program on earnings using a t-stat"
   ]
  },
  {
   "cell_type": "markdown",
   "metadata": {},
   "source": [
    "Calculate difference in means"
   ]
  },
  {
   "cell_type": "code",
   "execution_count": 346,
   "metadata": {},
   "outputs": [],
   "source": [
    "Y_1 = data[data.treat== 1]['wage'].mean()\n",
    "Y_0 = data[data.treat== 0]['wage'].mean()\n",
    "N = float(len(data))\n",
    "M = float(len(data[data.treat == 1]))"
   ]
  },
  {
   "cell_type": "code",
   "execution_count": 335,
   "metadata": {},
   "outputs": [
    {
     "name": "stdout",
     "output_type": "stream",
     "text": [
      "Difference in means is: 1.79\n"
     ]
    }
   ],
   "source": [
    "diff = (Y_1- Y_0)\n",
    "print(f\"Difference in means is: {diff:.2f}\")"
   ]
  },
  {
   "cell_type": "markdown",
   "metadata": {},
   "source": [
    "Calculate unbiased variance and the variance of the difference in means"
   ]
  },
  {
   "cell_type": "code",
   "execution_count": 408,
   "metadata": {},
   "outputs": [],
   "source": [
    "s_0_sq =(1/(N-M-1)) * sum((data[data.treat == 0].wage - Y_0)**2)\n",
    "s_1_sq = 1/(M - 1) * sum((data[data.treat == 1].wage - Y_1)**2)"
   ]
  },
  {
   "cell_type": "code",
   "execution_count": 409,
   "metadata": {},
   "outputs": [
    {
     "name": "stdout",
     "output_type": "stream",
     "text": [
      "Variance of the difference in means is: 0.45\n"
     ]
    }
   ],
   "source": [
    "s_diff_sq = s_0_sq/(N-M) + s_1_sq/M\n",
    "print(f\"Variance of the difference in means is: {s_diff_sq:.2f}\")"
   ]
  },
  {
   "cell_type": "code",
   "execution_count": 341,
   "metadata": {},
   "outputs": [
    {
     "name": "stdout",
     "output_type": "stream",
     "text": [
      "t-test = 2.67414\n"
     ]
    }
   ],
   "source": [
    "ttest = float(diff/(math.sqrt(s_diff_sq)))\n",
    "print(f\"t-test = {ttest:.5f}\")"
   ]
  },
  {
   "cell_type": "code",
   "execution_count": 342,
   "metadata": {},
   "outputs": [
    {
     "name": "stdout",
     "output_type": "stream",
     "text": [
      "p-value = 0.00749\n"
     ]
    }
   ],
   "source": [
    "p = 2 * (1-norm.cdf(abs(ttest)))\n",
    "print(f\"p-value = {p:.5f}\")"
   ]
  },
  {
   "cell_type": "markdown",
   "metadata": {},
   "source": [
    "1.b."
   ]
  },
  {
   "cell_type": "code",
   "execution_count": 376,
   "metadata": {
    "vscode": {
     "languageId": "ruby"
    }
   },
   "outputs": [],
   "source": [
    "np.random.seed(123)\n",
    "base = np.array([1]*int(M) + [0]*int((N - M)))\n",
    "random_treat = np.array([np.random.permutation(base) for _ in range(1000000)])"
   ]
  },
  {
   "cell_type": "code",
   "execution_count": 353,
   "metadata": {
    "vscode": {
     "languageId": "ruby"
    }
   },
   "outputs": [
    {
     "data": {
      "text/plain": [
       "np.float64(0.004298)"
      ]
     },
     "execution_count": 353,
     "metadata": {},
     "output_type": "execute_result"
    }
   ],
   "source": [
    "p_value_exact = np.sum(abs(stat_distribution) > abs(observed))/1000000\n",
    "p_value_exact"
   ]
  },
  {
   "cell_type": "code",
   "execution_count": 377,
   "metadata": {
    "vscode": {
     "languageId": "ruby"
    }
   },
   "outputs": [],
   "source": [
    "wages = data[\"wage\"].to_numpy()\n",
    "wages_expand = wages[None, :]\n",
    "treated = random_treat == 1\n",
    "control = random_treat == 0\n",
    "\n",
    "treated_means = np.sum(treated * wages_expand, axis=1) / np.sum(treated, axis=1)\n",
    "control_means = np.sum(control * wages_expand, axis=1) / np.sum(control, axis=1)\n",
    "\n",
    "ates = treated_means - control_means"
   ]
  },
  {
   "cell_type": "code",
   "execution_count": 423,
   "metadata": {
    "vscode": {
     "languageId": "ruby"
    }
   },
   "outputs": [
    {
     "data": {
      "image/png": "[encoded data removed]",
      "text/plain": [
       "<Figure size 1000x600 with 1 Axes>"
      ]
     },
     "metadata": {},
     "output_type": "display_data"
    }
   ],
   "source": [
    "plt.figure(figsize=(10, 6))\n",
    "plt.hist(ates, bins=50, edgecolor='black')\n",
    "plt.axvline(-diff)\n",
    "plt.axvline(diff)\n",
    "plt.show()"
   ]
  },
  {
   "cell_type": "code",
   "execution_count": 381,
   "metadata": {
    "vscode": {
     "languageId": "ruby"
    }
   },
   "outputs": [
    {
     "name": "stdout",
     "output_type": "stream",
     "text": [
      "p-value =  0.004191\n"
     ]
    }
   ],
   "source": [
    "print(\"p-value = \", np.mean(abs(ates) > diff))"
   ]
  },
  {
   "cell_type": "markdown",
   "metadata": {},
   "source": [
    "c."
   ]
  },
  {
   "cell_type": "code",
   "execution_count": 383,
   "metadata": {
    "vscode": {
     "languageId": "ruby"
    }
   },
   "outputs": [],
   "source": [
    "data[\"rank\"] = data[\"wage\"].rank()"
   ]
  },
  {
   "cell_type": "code",
   "execution_count": 384,
   "metadata": {
    "vscode": {
     "languageId": "ruby"
    }
   },
   "outputs": [],
   "source": [
    "data[\"R\"]  = data['wage'].apply(lambda y: (data['wage'] < y).sum() + 0.5 * (1 + (data['wage'] == y).sum()) - (N + 1)/2)"
   ]
  },
  {
   "cell_type": "code",
   "execution_count": 390,
   "metadata": {
    "vscode": {
     "languageId": "ruby"
    }
   },
   "outputs": [
    {
     "data": {
      "text/plain": [
       "np.float64(0.0)"
      ]
     },
     "execution_count": 390,
     "metadata": {},
     "output_type": "execute_result"
    }
   ],
   "source": [
    "data[\"R\"].mean()"
   ]
  },
  {
   "cell_type": "code",
   "execution_count": 391,
   "metadata": {
    "vscode": {
     "languageId": "ruby"
    }
   },
   "outputs": [
    {
     "data": {
      "text/plain": [
       "np.float64(31.01585239085239)"
      ]
     },
     "execution_count": 391,
     "metadata": {},
     "output_type": "execute_result"
    }
   ],
   "source": [
    "diff_r = data[data.treat== 1]['R'].mean() -  data[data.treat== 0]['R'].mean()\n",
    "diff_r"
   ]
  },
  {
   "cell_type": "code",
   "execution_count": 386,
   "metadata": {
    "vscode": {
     "languageId": "ruby"
    }
   },
   "outputs": [],
   "source": [
    "rank = data[\"R\"].to_numpy()\n",
    "rank_expand = rank[None, :]"
   ]
  },
  {
   "cell_type": "code",
   "execution_count": null,
   "metadata": {
    "vscode": {
     "languageId": "ruby"
    }
   },
   "outputs": [],
   "source": [
    "treated = random_treat == 1\n",
    "control = random_treat == 0\n",
    "\n",
    "treated_means = np.sum(treated * wages_expand, axis=1) / np.sum(treated, axis=1)\n",
    "control_means = np.sum(control * wages_expand, axis=1) / np.sum(control, axis=1)\n",
    "\n",
    "ates = treated_means - control_means"
   ]
  },
  {
   "cell_type": "code",
   "execution_count": 387,
   "metadata": {
    "vscode": {
     "languageId": "ruby"
    }
   },
   "outputs": [],
   "source": [
    "treated_means_rank = np.sum(treated * rank_expand, axis=1) / np.sum(treated, axis=1)\n",
    "control_means_rank = np.sum(control * rank_expand, axis=1) / np.sum(control, axis=1)\n",
    "\n",
    "ates_rank = treated_means_rank - control_means_rank"
   ]
  },
  {
   "cell_type": "code",
   "execution_count": 422,
   "metadata": {
    "vscode": {
     "languageId": "ruby"
    }
   },
   "outputs": [
    {
     "data": {
      "image/png": "[encoded data removed]",
      "text/plain": [
       "<Figure size 1000x600 with 1 Axes>"
      ]
     },
     "metadata": {},
     "output_type": "display_data"
    }
   ],
   "source": [
    "plt.figure(figsize=(10, 6))\n",
    "plt.hist(ates_rank, bins=50, edgecolor='black')\n",
    "plt.axvline(-diff_r)\n",
    "plt.axvline(diff_r)\n",
    "plt.show()"
   ]
  },
  {
   "cell_type": "code",
   "execution_count": 395,
   "metadata": {
    "vscode": {
     "languageId": "ruby"
    }
   },
   "outputs": [
    {
     "name": "stdout",
     "output_type": "stream",
     "text": [
      "p-value =  0.011021\n"
     ]
    }
   ],
   "source": [
    "# count what the rate of ates are less than T_obs\n",
    "print(\"p-value = \", np.mean(abs(ates_rank) > abs(diff_r)))"
   ]
  },
  {
   "cell_type": "markdown",
   "metadata": {},
   "source": [
    "1.d."
   ]
  },
  {
   "cell_type": "code",
   "execution_count": 411,
   "metadata": {
    "vscode": {
     "languageId": "ruby"
    }
   },
   "outputs": [],
   "source": [
    "s_2c = (1/(N-M-1))*np.sum((data.wage[data.treat==0]-np.mean(data.wage[data.treat==0]))**2)\n",
    "s_2t = (1/(M-1))*np.sum((data.wage[data.treat==1]-np.mean(data.wage[data.treat==1]))**2)"
   ]
  },
  {
   "cell_type": "code",
   "execution_count": 412,
   "metadata": {
    "vscode": {
     "languageId": "ruby"
    }
   },
   "outputs": [
    {
     "data": {
      "text/plain": [
       "np.float64(0.21890970959320882)"
      ]
     },
     "execution_count": 412,
     "metadata": {},
     "output_type": "execute_result"
    }
   ],
   "source": [
    "var_hat = s_2t/M - s_2c/(N-M)\n",
    "var_hat"
   ]
  },
  {
   "cell_type": "code",
   "execution_count": 414,
   "metadata": {
    "vscode": {
     "languageId": "ruby"
    }
   },
   "outputs": [
    {
     "name": "stdout",
     "output_type": "stream",
     "text": [
      "0.47918825782718666 3.109494216185289\n"
     ]
    }
   ],
   "source": [
    "# 95% confidence intervals\n",
    "ci_lower = diff - 1.96 * np.sqrt(s_diff_sq)\n",
    "ci_upper = diff + 1.96 * np.sqrt(s_diff_sq)\n",
    "print(ci_lower, ci_upper)"
   ]
  },
  {
   "cell_type": "code",
   "execution_count": 197,
   "metadata": {
    "vscode": {
     "languageId": "ruby"
    }
   },
   "outputs": [],
   "source": [
    "mean_1 = np.mean(data.wage[data.treat==1])\n",
    "mean_0 = np.mean(data.wage[data.treat==0])\n",
    "\n",
    "def error_term(row):\n",
    "    if row['treat'] == 1:\n",
    "        return row.wage - mean_1\n",
    "    else:\n",
    "        return row.wage - mean_0\n",
    "\n",
    "# apply the error term function to each row of the data\n",
    "data['error'] = data.apply(error_term, axis=1)"
   ]
  },
  {
   "cell_type": "markdown",
   "metadata": {},
   "source": [
    "The homoskedastic varriance estimate is larger than the Neyman variance estimator."
   ]
  },
  {
   "cell_type": "code",
   "execution_count": 207,
   "metadata": {
    "vscode": {
     "languageId": "ruby"
    }
   },
   "outputs": [
    {
     "data": {
      "text/plain": [
       "np.float64(0.3987032422735858)"
      ]
     },
     "execution_count": 207,
     "metadata": {},
     "output_type": "execute_result"
    }
   ],
   "source": [
    "mean_treat = np.mean(data.treat)\n",
    "var_homo = np.sum((data.error)**2/N)/np.sum((data.treat-mean_treat)**2)\n",
    "var_homo"
   ]
  },
  {
   "cell_type": "code",
   "execution_count": 403,
   "metadata": {
    "vscode": {
     "languageId": "ruby"
    }
   },
   "outputs": [
    {
     "name": "stdout",
     "output_type": "stream",
     "text": [
      "0.5567393723024847 3.031943101709991\n"
     ]
    }
   ],
   "source": [
    "# 95% confidence intervals\n",
    "ci_lower_homo = treat_effect - 1.96 * np.sqrt(var_homo)\n",
    "ci_upper_homo = treat_effect + 1.96 * np.sqrt(var_homo)\n",
    "print(ci_lower_homo, ci_upper_homo)"
   ]
  },
  {
   "cell_type": "markdown",
   "metadata": {},
   "source": [
    "2."
   ]
  },
  {
   "cell_type": "code",
   "execution_count": 327,
   "metadata": {
    "vscode": {
     "languageId": "ruby"
    }
   },
   "outputs": [],
   "source": [
    "sig = 0.05\n",
    "std_dev = 6.63\n",
    "effect = 1.79\n",
    "power = 0.8\n",
    "gamma = data.treat.mean()"
   ]
  },
  {
   "cell_type": "code",
   "execution_count": 328,
   "metadata": {
    "vscode": {
     "languageId": "ruby"
    }
   },
   "outputs": [
    {
     "data": {
      "text/plain": [
       "np.float64(16.241088804573657)"
      ]
     },
     "execution_count": 328,
     "metadata": {},
     "output_type": "execute_result"
    }
   ],
   "source": [
    "n = (((norm.ppf(1-sig/2) + norm.ppf(0.8))**2)/((effect**2)/std_dev))\n",
    "n"
   ]
  },
  {
   "cell_type": "code",
   "execution_count": 324,
   "metadata": {
    "vscode": {
     "languageId": "ruby"
    }
   },
   "outputs": [
    {
     "data": {
      "text/plain": [
       "np.float64(66.86365094648022)"
      ]
     },
     "execution_count": 324,
     "metadata": {},
     "output_type": "execute_result"
    }
   ],
   "source": [
    "n_diff_obs = ((norm.ppf(1-sig/2) + norm.ppf(0.8))**2)/(gamma*(1-gamma)*effect**2/std_dev)\n",
    "n_diff_obs"
   ]
  },
  {
   "cell_type": "markdown",
   "metadata": {},
   "source": [
    "b."
   ]
  },
  {
   "cell_type": "code",
   "execution_count": 325,
   "metadata": {
    "vscode": {
     "languageId": "ruby"
    }
   },
   "outputs": [],
   "source": [
    "effect = 0.11\n",
    "std_dev = 0.46"
   ]
  },
  {
   "cell_type": "code",
   "execution_count": 321,
   "metadata": {
    "vscode": {
     "languageId": "ruby"
    }
   },
   "outputs": [
    {
     "data": {
      "text/plain": [
       "np.float64(298.38716345459346)"
      ]
     },
     "execution_count": 321,
     "metadata": {},
     "output_type": "execute_result"
    }
   ],
   "source": [
    "n = (((norm.ppf(1-sig/2) + norm.ppf(0.8))**2)/((effect**2)/std_dev))\n",
    "n"
   ]
  },
  {
   "cell_type": "code",
   "execution_count": 326,
   "metadata": {
    "vscode": {
     "languageId": "ruby"
    }
   },
   "outputs": [
    {
     "data": {
      "text/plain": [
       "np.float64(1228.4432025591657)"
      ]
     },
     "execution_count": 326,
     "metadata": {},
     "output_type": "execute_result"
    }
   ],
   "source": [
    "n_diff_obs = ((norm.ppf(1-sig/2) + norm.ppf(0.8))**2)/(gamma*(1-gamma)*effect**2/std_dev)\n",
    "n_diff_obs"
   ]
  },
  {
   "cell_type": "markdown",
   "metadata": {},
   "source": [
    "The difference in sample size is required to find a significant effect is related to the size of the effect desired. Since the second effect size is smaller, it requires a larger sample size for significance to be found. This is because in order to have the same amount of power, you need a larger sample size to ensure the result is not being driven by the noise of the random sample rather than the underlying true relationship. "
   ]
  }
 ],
 "metadata": {
  "kernelspec": {
   "display_name": "Python 3",
   "language": "python",
   "name": "python3"
  },
  "language_info": {
   "codemirror_mode": {
    "name": "ipython",
    "version": 3
   },
   "file_extension": ".py",
   "mimetype": "text/x-python",
   "name": "python",
   "nbconvert_exporter": "python",
   "pygments_lexer": "ipython3",
   "version": "3.9.6"
  }
 },
 "nbformat": 4,
 "nbformat_minor": 2
}
