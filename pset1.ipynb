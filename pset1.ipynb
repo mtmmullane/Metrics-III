{
 "cells": [
  {
   "cell_type": "code",
   "execution_count": 101,
   "metadata": {},
   "outputs": [
    {
     "name": "stderr",
     "output_type": "stream",
     "text": [
      "Matplotlib is building the font cache; this may take a moment.\n"
     ]
    }
   ],
   "source": [
    "import pandas as pd\n",
    "import numpy as np\n",
    "import math\n",
    "from scipy.stats import norm\n",
    "import matplotlib.pyplot as plt"
   ]
  },
  {
   "cell_type": "code",
   "execution_count": 6,
   "metadata": {},
   "outputs": [
    {
     "data": {
      "text/html": [
       "<div>\n",
       "<style scoped>\n",
       "    .dataframe tbody tr th:only-of-type {\n",
       "        vertical-align: middle;\n",
       "    }\n",
       "\n",
       "    .dataframe tbody tr th {\n",
       "        vertical-align: top;\n",
       "    }\n",
       "\n",
       "    .dataframe thead th {\n",
       "        text-align: right;\n",
       "    }\n",
       "</style>\n",
       "<table border=\"1\" class=\"dataframe\">\n",
       "  <thead>\n",
       "    <tr style=\"text-align: right;\">\n",
       "      <th></th>\n",
       "      <th>treat</th>\n",
       "      <th>wage</th>\n",
       "    </tr>\n",
       "  </thead>\n",
       "  <tbody>\n",
       "    <tr>\n",
       "      <th>0</th>\n",
       "      <td>0.0</td>\n",
       "      <td>0.0000</td>\n",
       "    </tr>\n",
       "    <tr>\n",
       "      <th>1</th>\n",
       "      <td>0.0</td>\n",
       "      <td>12.3837</td>\n",
       "    </tr>\n",
       "    <tr>\n",
       "      <th>2</th>\n",
       "      <td>0.0</td>\n",
       "      <td>0.0000</td>\n",
       "    </tr>\n",
       "    <tr>\n",
       "      <th>3</th>\n",
       "      <td>0.0</td>\n",
       "      <td>10.7401</td>\n",
       "    </tr>\n",
       "    <tr>\n",
       "      <th>4</th>\n",
       "      <td>0.0</td>\n",
       "      <td>11.7965</td>\n",
       "    </tr>\n",
       "    <tr>\n",
       "      <th>...</th>\n",
       "      <td>...</td>\n",
       "      <td>...</td>\n",
       "    </tr>\n",
       "    <tr>\n",
       "      <th>440</th>\n",
       "      <td>1.0</td>\n",
       "      <td>15.9526</td>\n",
       "    </tr>\n",
       "    <tr>\n",
       "      <th>441</th>\n",
       "      <td>1.0</td>\n",
       "      <td>36.6469</td>\n",
       "    </tr>\n",
       "    <tr>\n",
       "      <th>442</th>\n",
       "      <td>1.0</td>\n",
       "      <td>12.8040</td>\n",
       "    </tr>\n",
       "    <tr>\n",
       "      <th>443</th>\n",
       "      <td>1.0</td>\n",
       "      <td>3.7866</td>\n",
       "    </tr>\n",
       "    <tr>\n",
       "      <th>444</th>\n",
       "      <td>1.0</td>\n",
       "      <td>4.1819</td>\n",
       "    </tr>\n",
       "  </tbody>\n",
       "</table>\n",
       "<p>445 rows × 2 columns</p>\n",
       "</div>"
      ],
      "text/plain": [
       "     treat     wage\n",
       "0      0.0   0.0000\n",
       "1      0.0  12.3837\n",
       "2      0.0   0.0000\n",
       "3      0.0  10.7401\n",
       "4      0.0  11.7965\n",
       "..     ...      ...\n",
       "440    1.0  15.9526\n",
       "441    1.0  36.6469\n",
       "442    1.0  12.8040\n",
       "443    1.0   3.7866\n",
       "444    1.0   4.1819\n",
       "\n",
       "[445 rows x 2 columns]"
      ]
     },
     "execution_count": 6,
     "metadata": {},
     "output_type": "execute_result"
    }
   ],
   "source": [
    "# path = \"/Users/tmullane/Library/CloudStorage/OneDrive-Stanford/Class/Metrics/pset\"\n",
    "file1_path = \"src/lalonde_experimental.txt\"\n",
    "data =  pd.DataFrame(np.loadtxt(file1_path))\n",
    "data.columns = [\"treat\", \"wage\"]\n",
    "data"
   ]
  },
  {
   "cell_type": "markdown",
   "metadata": {},
   "source": [
    "1. a. est null hypothesis that there is no effect of the training program on earnings using a t-stat"
   ]
  },
  {
   "cell_type": "code",
   "execution_count": 298,
   "metadata": {},
   "outputs": [],
   "source": [
    "# H0: Y_i(C) = Y_i(T) for all i\n",
    "Y_1 = data[data.treat== 1]['wage'].mean()\n",
    "Y_0 = data[data.treat== 0]['wage'].mean()\n",
    "N = float(len(data))\n",
    "M = float(len(data[data.treat == 1]))\n"
   ]
  },
  {
   "cell_type": "code",
   "execution_count": 303,
   "metadata": {},
   "outputs": [
    {
     "data": {
      "text/plain": [
       "np.float64(1.794341237006238)"
      ]
     },
     "execution_count": 303,
     "metadata": {},
     "output_type": "execute_result"
    }
   ],
   "source": [
    "diff = (Y_1- Y_0)\n",
    "diff"
   ]
  },
  {
   "cell_type": "code",
   "execution_count": 305,
   "metadata": {},
   "outputs": [
    {
     "name": "stdout",
     "output_type": "stream",
     "text": [
      "30.072442829845404 61.895995980595195\n"
     ]
    }
   ],
   "source": [
    "s_0_sq =(1/(N-M-1)) * sum((data[data.treat == 0].wage - Y_0)**2)\n",
    "s_1_sq = 1/(M - 1) * sum((data[data.treat == 1].wage - Y_1)**2)\n",
    "\n",
    "print(s_0_sq, s_1_sq)"
   ]
  },
  {
   "cell_type": "code",
   "execution_count": 306,
   "metadata": {},
   "outputs": [],
   "source": [
    "s_diff_sq = s_0_sq/(N-M) + s_1_sq/M"
   ]
  },
  {
   "cell_type": "code",
   "execution_count": 307,
   "metadata": {},
   "outputs": [
    {
     "name": "stdout",
     "output_type": "stream",
     "text": [
      "t-test =  2.6741442860339806\n"
     ]
    }
   ],
   "source": [
    "ttest = float(diff/(math.sqrt(s_diff_sq)))\n",
    "print(\"t-test = \" ,ttest)"
   ]
  },
  {
   "cell_type": "code",
   "execution_count": 308,
   "metadata": {},
   "outputs": [
    {
     "name": "stdout",
     "output_type": "stream",
     "text": [
      "p-value =  0.007492020981215264\n"
     ]
    }
   ],
   "source": [
    "p = 2 * (1-norm.cdf(abs(ttest)))\n",
    "print(\"p-value = \" ,float(p))"
   ]
  },
  {
   "cell_type": "markdown",
   "metadata": {},
   "source": [
    "1.b."
   ]
  },
  {
   "cell_type": "code",
   "execution_count": 247,
   "metadata": {
    "vscode": {
     "languageId": "ruby"
    }
   },
   "outputs": [
    {
     "data": {
      "text/plain": [
       "1000000"
      ]
     },
     "execution_count": 247,
     "metadata": {},
     "output_type": "execute_result"
    }
   ],
   "source": [
    "# randomly assign binary treatment to each individual and calculate the average treatment effect 100 times\n",
    "# 1. Generate random treatment assignment\n",
    "np.random.seed(123)\n",
    "random_treat = np.random.choice([0, 1], size=(1000000,int(N)), p=[1-M/N, M/N])\n",
    "len(random_treat)"
   ]
  },
  {
   "cell_type": "code",
   "execution_count": 276,
   "metadata": {
    "vscode": {
     "languageId": "ruby"
    }
   },
   "outputs": [],
   "source": [
    "base = np.array([1]*int(M) + [0]*int((N - M)))\n",
    "random_treat = np.tile(base, (1000000, 1))\n",
    "\n",
    "# Shuffle each row independently\n",
    "for row in random_treat:\n",
    "    np.random.shuffle(row)\n",
    "\n",
    "# Y_1 = data[data.treat == 1].wage.to_numpy()\n",
    "# Y_0 = data[data.treat == 0].wage.to_numpy()\n",
    "\n",
    "# observed = (random_treat * Y_1) + ((1 - random_treat) * Y_0)\n",
    "\n",
    "# # wages = data[\"wage\"].to_numpy()\n",
    "# # wages_expand = wages[None, :]\n",
    "# treated = random_treat == 1\n",
    "# control = random_treat == 0\n",
    "\n",
    "# treated_means = np.sum(treated * observed, axis=1) / np.sum(treated, axis=1)\n",
    "# control_means = np.sum(control * observed, axis=1) / np.sum(control, axis=1)\n",
    "\n",
    "# ates = treated_means - control_means"
   ]
  },
  {
   "cell_type": "code",
   "execution_count": 277,
   "metadata": {
    "vscode": {
     "languageId": "ruby"
    }
   },
   "outputs": [
    {
     "data": {
      "text/plain": [
       "np.int64(185)"
      ]
     },
     "execution_count": 277,
     "metadata": {},
     "output_type": "execute_result"
    }
   ],
   "source": [
    "np.sum(random_treat[0] == 1)"
   ]
  },
  {
   "cell_type": "code",
   "execution_count": 278,
   "metadata": {
    "vscode": {
     "languageId": "ruby"
    }
   },
   "outputs": [],
   "source": [
    "wages = data[\"wage\"].to_numpy()\n",
    "wages_expand = wages[None, :]\n",
    "treated = random_treat == 1\n",
    "control = random_treat == 0\n",
    "\n",
    "treated_means = np.sum(treated * wages_expand, axis=1) / np.sum(treated, axis=1)\n",
    "control_means = np.sum(control * wages_expand, axis=1) / np.sum(control, axis=1)\n",
    "\n",
    "ates = treated_means - control_means"
   ]
  },
  {
   "cell_type": "code",
   "execution_count": 279,
   "metadata": {
    "vscode": {
     "languageId": "ruby"
    }
   },
   "outputs": [
    {
     "data": {
      "image/png": "[encoded data removed]",
      "text/plain": [
       "<Figure size 1000x600 with 1 Axes>"
      ]
     },
     "metadata": {},
     "output_type": "display_data"
    }
   ],
   "source": [
    "plt.figure(figsize=(10, 6))\n",
    "plt.hist(ates, bins=50, edgecolor='black')\n",
    "plt.show()"
   ]
  },
  {
   "cell_type": "code",
   "execution_count": 280,
   "metadata": {
    "vscode": {
     "languageId": "ruby"
    }
   },
   "outputs": [
    {
     "name": "stdout",
     "output_type": "stream",
     "text": [
      "p-value =  0.001273974969615385\n"
     ]
    }
   ],
   "source": [
    "print(\"p-value = \", np.sum(ates[abs(ates) > diff])/1000000)"
   ]
  },
  {
   "cell_type": "markdown",
   "metadata": {},
   "source": [
    "c."
   ]
  },
  {
   "cell_type": "code",
   "execution_count": 171,
   "metadata": {
    "vscode": {
     "languageId": "ruby"
    }
   },
   "outputs": [],
   "source": [
    "data[\"rank\"] = data[\"wage\"].rank()"
   ]
  },
  {
   "cell_type": "code",
   "execution_count": 282,
   "metadata": {
    "vscode": {
     "languageId": "ruby"
    }
   },
   "outputs": [],
   "source": [
    "data[\"R\"]  = data['wage'].apply(lambda y: (data['wage'] < y).sum() + 0.5 * (1 + (data['wage'] == y).sum()) - (N + 1)/2)"
   ]
  },
  {
   "cell_type": "code",
   "execution_count": 289,
   "metadata": {
    "vscode": {
     "languageId": "ruby"
    }
   },
   "outputs": [
    {
     "data": {
      "text/plain": [
       "np.float64(31.015852390852388)"
      ]
     },
     "execution_count": 289,
     "metadata": {},
     "output_type": "execute_result"
    }
   ],
   "source": [
    "y_w1 = data[data.treat == 1].aggregate({\"rank\": \"sum\", \"treat\": \"count\"})\n",
    "y_w0 = data[data.treat == 0].aggregate({\"rank\": \"sum\", \"treat\": \"count\"})\n",
    "diff_r = (y_w1[\"rank\"]/y_w1[\"treat\"] - y_w0[\"rank\"]/y_w0[\"treat\"])\n",
    "diff_r"
   ]
  },
  {
   "cell_type": "code",
   "execution_count": 172,
   "metadata": {
    "vscode": {
     "languageId": "ruby"
    }
   },
   "outputs": [],
   "source": [
    "rank = data[\"rank\"].to_numpy()\n",
    "rank_expand = rank[None, :]"
   ]
  },
  {
   "cell_type": "code",
   "execution_count": 283,
   "metadata": {
    "vscode": {
     "languageId": "ruby"
    }
   },
   "outputs": [],
   "source": [
    "treated_means_rank = np.sum(treated * rank_expand, axis=1) / np.sum(treated, axis=1)\n",
    "control_means_rank = np.sum(control * rank_expand, axis=1) / np.sum(control, axis=1)\n",
    "\n",
    "ates_rank = treated_means_rank - control_means_rank"
   ]
  },
  {
   "cell_type": "code",
   "execution_count": 284,
   "metadata": {
    "vscode": {
     "languageId": "ruby"
    }
   },
   "outputs": [
    {
     "data": {
      "image/png": "[encoded data removed]",
      "text/plain": [
       "<Figure size 1000x600 with 1 Axes>"
      ]
     },
     "metadata": {},
     "output_type": "display_data"
    }
   ],
   "source": [
    "plt.figure(figsize=(10, 6))\n",
    "plt.hist(ates_rank, bins=50, edgecolor='black')\n",
    "plt.show()"
   ]
  },
  {
   "cell_type": "code",
   "execution_count": 290,
   "metadata": {
    "vscode": {
     "languageId": "ruby"
    }
   },
   "outputs": [
    {
     "name": "stdout",
     "output_type": "stream",
     "text": [
      "p-value =  0.02349617115384616\n"
     ]
    }
   ],
   "source": [
    "# count what the rate of ates are less than T_obs\n",
    "print(\"p-value = \", np.sum(ates_rank[abs(ates_rank) < diff_r])/1000000)"
   ]
  },
  {
   "cell_type": "markdown",
   "metadata": {},
   "source": [
    "1.d."
   ]
  },
  {
   "cell_type": "code",
   "execution_count": 177,
   "metadata": {
    "vscode": {
     "languageId": "ruby"
    }
   },
   "outputs": [
    {
     "data": {
      "text/plain": [
       "np.float64(1.794341237006238)"
      ]
     },
     "execution_count": 177,
     "metadata": {},
     "output_type": "execute_result"
    }
   ],
   "source": [
    "np.sum(data.wage[data.treat==1])/M - np.sum(data.wage[data.treat==0])/(N-M)"
   ]
  },
  {
   "cell_type": "code",
   "execution_count": 293,
   "metadata": {
    "vscode": {
     "languageId": "ruby"
    }
   },
   "outputs": [],
   "source": [
    "s_2c = (1/(N-M-1))*np.sum((data.wage[data.treat==0]-np.mean(data.wage[data.treat==0]))**2)\n",
    "s_2t = (1/(M-1))*np.sum((data.wage[data.treat==1]-np.mean(data.wage[data.treat==1]))**2)"
   ]
  },
  {
   "cell_type": "code",
   "execution_count": 294,
   "metadata": {
    "vscode": {
     "languageId": "ruby"
    }
   },
   "outputs": [
    {
     "data": {
      "text/plain": [
       "np.float64(0.21890970959320882)"
      ]
     },
     "execution_count": 294,
     "metadata": {},
     "output_type": "execute_result"
    }
   ],
   "source": [
    "var_hat = s_2t/M - s_2c/(N-M)\n",
    "var_hat"
   ]
  },
  {
   "cell_type": "code",
   "execution_count": 296,
   "metadata": {
    "vscode": {
     "languageId": "ruby"
    }
   },
   "outputs": [],
   "source": [
    "treat_effect = Y_1 - Y_0"
   ]
  },
  {
   "cell_type": "code",
   "execution_count": 297,
   "metadata": {
    "vscode": {
     "languageId": "ruby"
    }
   },
   "outputs": [
    {
     "name": "stdout",
     "output_type": "stream",
     "text": [
      "0.47918825782718666 3.109494216185289\n"
     ]
    }
   ],
   "source": [
    "# 95% confidence intervals\n",
    "ci_lower = treat_effect - 1.96 * np.sqrt(s_diff_sq)\n",
    "ci_upper = treat_effect + 1.96 * np.sqrt(s_diff_sq)\n",
    "print(ci_lower, ci_upper)"
   ]
  },
  {
   "cell_type": "code",
   "execution_count": 197,
   "metadata": {
    "vscode": {
     "languageId": "ruby"
    }
   },
   "outputs": [],
   "source": [
    "mean_1 = np.mean(data.wage[data.treat==1])\n",
    "mean_0 = np.mean(data.wage[data.treat==0])\n",
    "\n",
    "def error_term(row):\n",
    "    if row['treat'] == 1:\n",
    "        return row.wage - mean_1\n",
    "    else:\n",
    "        return row.wage - mean_0\n",
    "\n",
    "# apply the error term function to each row of the data\n",
    "data['error'] = data.apply(error_term, axis=1)"
   ]
  },
  {
   "cell_type": "markdown",
   "metadata": {},
   "source": [
    "The homoskedastic varriance estimate is larger than the Neyman variance estimator."
   ]
  },
  {
   "cell_type": "code",
   "execution_count": 207,
   "metadata": {
    "vscode": {
     "languageId": "ruby"
    }
   },
   "outputs": [
    {
     "data": {
      "text/plain": [
       "np.float64(0.3987032422735858)"
      ]
     },
     "execution_count": 207,
     "metadata": {},
     "output_type": "execute_result"
    }
   ],
   "source": [
    "mean_treat = np.mean(data.treat)\n",
    "var_homo = np.sum((data.error)**2/N)/np.sum((data.treat-mean_treat)**2)\n",
    "var_homo"
   ]
  },
  {
   "cell_type": "code",
   "execution_count": 309,
   "metadata": {
    "vscode": {
     "languageId": "ruby"
    }
   },
   "outputs": [
    {
     "name": "stdout",
     "output_type": "stream",
     "text": [
      "0.47918825782718666 3.109494216185289\n"
     ]
    }
   ],
   "source": [
    "# 95% confidence intervals\n",
    "ci_lower_homo = treat_effect - 1.96 * np.sqrt(var_homo)\n",
    "ci_upper_homo = treat_effect + 1.96 * np.sqrt(var_homo)\n",
    "print(ci_lower, ci_upper)"
   ]
  },
  {
   "cell_type": "markdown",
   "metadata": {},
   "source": [
    "2."
   ]
  },
  {
   "cell_type": "code",
   "execution_count": 217,
   "metadata": {
    "vscode": {
     "languageId": "ruby"
    }
   },
   "outputs": [],
   "source": [
    "sig = 0.05\n",
    "std_dev = 6.63\n",
    "effect = 1.79\n",
    "power = 0.8"
   ]
  },
  {
   "cell_type": "code",
   "execution_count": 226,
   "metadata": {
    "vscode": {
     "languageId": "ruby"
    }
   },
   "outputs": [
    {
     "data": {
      "text/plain": [
       "np.float64(-0.8416212335729143)"
      ]
     },
     "execution_count": 226,
     "metadata": {},
     "output_type": "execute_result"
    }
   ],
   "source": [
    "norm.ppf(1-0.8)"
   ]
  },
  {
   "cell_type": "code",
   "execution_count": 227,
   "metadata": {
    "vscode": {
     "languageId": "ruby"
    }
   },
   "outputs": [
    {
     "data": {
      "text/plain": [
       "np.float64(107.67841877432336)"
      ]
     },
     "execution_count": 227,
     "metadata": {},
     "output_type": "execute_result"
    }
   ],
   "source": [
    "n = (((norm.ppf(1-sig/2) + abs(norm.ppf(1-0.8)))*std_dev)/effect)**2\n",
    "n"
   ]
  },
  {
   "cell_type": "markdown",
   "metadata": {},
   "source": [
    "b."
   ]
  },
  {
   "cell_type": "code",
   "execution_count": 228,
   "metadata": {
    "vscode": {
     "languageId": "ruby"
    }
   },
   "outputs": [],
   "source": [
    "effect = 0.11\n",
    "std_dev = 0.46"
   ]
  },
  {
   "cell_type": "code",
   "execution_count": 229,
   "metadata": {
    "vscode": {
     "languageId": "ruby"
    }
   },
   "outputs": [
    {
     "data": {
      "text/plain": [
       "np.float64(137.258095189113)"
      ]
     },
     "execution_count": 229,
     "metadata": {},
     "output_type": "execute_result"
    }
   ],
   "source": [
    "n = (((norm.ppf(1-sig/2) + abs(norm.ppf(1-0.8)))*std_dev)/effect)**2\n",
    "n"
   ]
  },
  {
   "cell_type": "markdown",
   "metadata": {},
   "source": [
    "The difference in sample size is related to ____"
   ]
  }
 ],
 "metadata": {
  "kernelspec": {
   "display_name": "Python 3",
   "language": "python",
   "name": "python3"
  },
  "language_info": {
   "codemirror_mode": {
    "name": "ipython",
    "version": 3
   },
   "file_extension": ".py",
   "mimetype": "text/x-python",
   "name": "python",
   "nbconvert_exporter": "python",
   "pygments_lexer": "ipython3",
   "version": "3.9.6"
  }
 },
 "nbformat": 4,
 "nbformat_minor": 2
}
