{
 "cells": [
  {
   "cell_type": "markdown",
   "metadata": {},
   "source": [
    "Problem Set 2\n",
    "Maire Taegan Mullane\n",
    "4/13/25"
   ]
  },
  {
   "cell_type": "code",
   "execution_count": 2,
   "metadata": {},
   "outputs": [],
   "source": [
    "import pandas as pd\n",
    "import numpy as np\n",
    "import math\n",
    "import scipy as sp\n",
    "import matplotlib.pyplot as plt\n",
    "from itertools import combinations"
   ]
  },
  {
   "cell_type": "code",
   "execution_count": 3,
   "metadata": {},
   "outputs": [],
   "source": [
    "file1_path = \"census.mat\"\n",
    "mat_data = sp.io.loadmat(file1_path)"
   ]
  },
  {
   "cell_type": "code",
   "execution_count": 4,
   "metadata": {},
   "outputs": [
    {
     "data": {
      "text/html": [
       "<div>\n",
       "<style scoped>\n",
       "    .dataframe tbody tr th:only-of-type {\n",
       "        vertical-align: middle;\n",
       "    }\n",
       "\n",
       "    .dataframe tbody tr th {\n",
       "        vertical-align: top;\n",
       "    }\n",
       "\n",
       "    .dataframe thead th {\n",
       "        text-align: right;\n",
       "    }\n",
       "</style>\n",
       "<table border=\"1\" class=\"dataframe\">\n",
       "  <thead>\n",
       "    <tr style=\"text-align: right;\">\n",
       "      <th></th>\n",
       "      <th>educ</th>\n",
       "      <th>y</th>\n",
       "      <th>yob</th>\n",
       "    </tr>\n",
       "  </thead>\n",
       "  <tbody>\n",
       "    <tr>\n",
       "      <th>0</th>\n",
       "      <td>0</td>\n",
       "      <td>5.790019</td>\n",
       "      <td>30</td>\n",
       "    </tr>\n",
       "    <tr>\n",
       "      <th>1</th>\n",
       "      <td>0</td>\n",
       "      <td>5.952494</td>\n",
       "      <td>30</td>\n",
       "    </tr>\n",
       "    <tr>\n",
       "      <th>2</th>\n",
       "      <td>0</td>\n",
       "      <td>5.315949</td>\n",
       "      <td>30</td>\n",
       "    </tr>\n",
       "    <tr>\n",
       "      <th>3</th>\n",
       "      <td>0</td>\n",
       "      <td>5.595926</td>\n",
       "      <td>30</td>\n",
       "    </tr>\n",
       "    <tr>\n",
       "      <th>4</th>\n",
       "      <td>0</td>\n",
       "      <td>6.068915</td>\n",
       "      <td>30</td>\n",
       "    </tr>\n",
       "    <tr>\n",
       "      <th>...</th>\n",
       "      <td>...</td>\n",
       "      <td>...</td>\n",
       "      <td>...</td>\n",
       "    </tr>\n",
       "    <tr>\n",
       "      <th>329504</th>\n",
       "      <td>1</td>\n",
       "      <td>6.323980</td>\n",
       "      <td>39</td>\n",
       "    </tr>\n",
       "    <tr>\n",
       "      <th>329505</th>\n",
       "      <td>1</td>\n",
       "      <td>5.847161</td>\n",
       "      <td>39</td>\n",
       "    </tr>\n",
       "    <tr>\n",
       "      <th>329506</th>\n",
       "      <td>0</td>\n",
       "      <td>5.909597</td>\n",
       "      <td>39</td>\n",
       "    </tr>\n",
       "    <tr>\n",
       "      <th>329507</th>\n",
       "      <td>0</td>\n",
       "      <td>6.047781</td>\n",
       "      <td>39</td>\n",
       "    </tr>\n",
       "    <tr>\n",
       "      <th>329508</th>\n",
       "      <td>1</td>\n",
       "      <td>5.766817</td>\n",
       "      <td>39</td>\n",
       "    </tr>\n",
       "  </tbody>\n",
       "</table>\n",
       "<p>329509 rows × 3 columns</p>\n",
       "</div>"
      ],
      "text/plain": [
       "        educ         y  yob\n",
       "0          0  5.790019   30\n",
       "1          0  5.952494   30\n",
       "2          0  5.315949   30\n",
       "3          0  5.595926   30\n",
       "4          0  6.068915   30\n",
       "...      ...       ...  ...\n",
       "329504     1  6.323980   39\n",
       "329505     1  5.847161   39\n",
       "329506     0  5.909597   39\n",
       "329507     0  6.047781   39\n",
       "329508     1  5.766817   39\n",
       "\n",
       "[329509 rows x 3 columns]"
      ]
     },
     "execution_count": 4,
     "metadata": {},
     "output_type": "execute_result"
    }
   ],
   "source": [
    "# Extract the variables\n",
    "educ = mat_data['educ'].flatten()\n",
    "y = mat_data['y'].flatten()\n",
    "yob = mat_data['yob'].flatten()\n",
    "\n",
    "# Create a DataFrame\n",
    "df = pd.DataFrame({\n",
    "    'educ': educ,\n",
    "    'y': y,\n",
    "    'yob': yob\n",
    "})\n",
    "df"
   ]
  },
  {
   "cell_type": "markdown",
   "metadata": {},
   "source": [
    "1.a."
   ]
  },
  {
   "cell_type": "code",
   "execution_count": 5,
   "metadata": {},
   "outputs": [
    {
     "name": "stdout",
     "output_type": "stream",
     "text": [
      "Difference in means is: 0.38\n"
     ]
    }
   ],
   "source": [
    "Y_1 = df[df.educ== 1]['y'].mean()\n",
    "Y_0 = df[df.educ== 0]['y'].mean()\n",
    "\n",
    "diff = (Y_1- Y_0)\n",
    "print(f\"Difference in means is: {diff:.2f}\")\n"
   ]
  },
  {
   "cell_type": "code",
   "execution_count": 9,
   "metadata": {},
   "outputs": [
    {
     "name": "stdout",
     "output_type": "stream",
     "text": [
      "Variance of the difference in means is: 0.00231002\n"
     ]
    }
   ],
   "source": [
    "N = float(len(df))\n",
    "M = float(len(df[df.educ == 1]))\n",
    "\n",
    "# Calculate the variance of the difference in means\n",
    "se_0 =(1/(N-M-1)) * sum((df[df.educ == 0].y - Y_0)**2)\n",
    "se_1 = (1/(M - 1)) * sum((df[df.educ == 1].y - Y_1)**2)\n",
    "var = math.sqrt(se_0/(N-M) + se_1/M)\n",
    "print(f\"Variance of the difference in means is: {var:.8f}\")"
   ]
  },
  {
   "cell_type": "markdown",
   "metadata": {},
   "source": [
    "1.b."
   ]
  },
  {
   "cell_type": "code",
   "execution_count": 17,
   "metadata": {},
   "outputs": [
    {
     "name": "stdout",
     "output_type": "stream",
     "text": [
      "Bootstrap standard error of the difference in means is: 0.00226623\n"
     ]
    }
   ],
   "source": [
    "def bootstrap_diff(df, n=None):\n",
    "    df_b = df.sample(n, replace=True)\n",
    "    \n",
    "    Y_1_b = df_b[df_b.educ == 1]['y'].mean()\n",
    "    Y_0_b = df_b[df_b.educ == 0]['y'].mean()\n",
    "    return Y_1_b - Y_0_b\n",
    "\n",
    "def bootstrap_se(df, B=1000):\n",
    "    n = len(df)\n",
    "    diffs = np.zeros(B)\n",
    "    for i in range(B):\n",
    "        diffs[i] = bootstrap_diff(df, n)\n",
    "    return np.std(diffs)\n",
    "\n",
    "# Set the number of bootstrap samples\n",
    "B = 1000\n",
    "# Calculate the bootstrap standard error\n",
    "bootstrap_se_value = bootstrap_se(df, B=B)\n",
    "print(f\"Bootstrap standard error of the difference in means is: {bootstrap_se_value:.8f}\")\n"
   ]
  },
  {
   "cell_type": "markdown",
   "metadata": {},
   "source": [
    "1.c."
   ]
  },
  {
   "cell_type": "code",
   "execution_count": 47,
   "metadata": {},
   "outputs": [],
   "source": [
    "yob_values = df['yob'].unique()"
   ]
  },
  {
   "cell_type": "code",
   "execution_count": 23,
   "metadata": {},
   "outputs": [],
   "source": [
    "df['const'] = 1\n",
    "X = df[[\"const\", \"educ\"]].to_numpy()\n",
    "Y = df[[\"y\"]].to_numpy()\n",
    "beta = np.linalg.inv(X.transpose()@X) @ X.transpose()@Y\n",
    "errors = Y - X @ beta\n",
    "# Calculate the inverse matrix once and store it\n",
    "X_T_X_inv = np.linalg.inv(X.T @ X)"
   ]
  },
  {
   "cell_type": "code",
   "execution_count": 26,
   "metadata": {},
   "outputs": [
    {
     "data": {
      "text/plain": [
       "np.float64(0.008415067653131372)"
      ]
     },
     "execution_count": 26,
     "metadata": {},
     "output_type": "execute_result"
    }
   ],
   "source": [
    "middle_cluster = np.zeros([X.shape[1], X.shape[1]])\n",
    "\n",
    "for cluster in df[\"yob\"].unique():\n",
    "    \n",
    "    X_g = X[df[\"yob\"] == cluster,:]\n",
    "    errors_g = errors[df[\"yob\"] == cluster,:]\n",
    "    middle_cluster += np.sum(X_g * errors_g, axis = 0).T @ np.sum(X_g * errors_g, axis = 0)\n",
    "    \n",
    "V_LZ = X_T_X_inv @ middle_cluster @ X_T_X_inv\n",
    "V_LZ[1,1]**0.5"
   ]
  },
  {
   "cell_type": "markdown",
   "metadata": {},
   "source": [
    "1.d."
   ]
  },
  {
   "cell_type": "code",
   "execution_count": 28,
   "metadata": {},
   "outputs": [
    {
     "data": {
      "text/plain": [
       "array([0.36417475, 0.38279436, 0.38831455, 0.39406849, 0.39660358,\n",
       "       0.40316724, 0.40537397, 0.40713592, 0.41498453, 0.41974585])"
      ]
     },
     "execution_count": 28,
     "metadata": {},
     "output_type": "execute_result"
    }
   ],
   "source": [
    "w_k = np.zeros(len(yob_values))\n",
    "for i in range(len(yob_values)):\n",
    "    w_k[i] = np.mean(df[df['yob']==yob_values[i]].educ)\n",
    "w_k"
   ]
  },
  {
   "cell_type": "code",
   "execution_count": 49,
   "metadata": {},
   "outputs": [
    {
     "name": "stdout",
     "output_type": "stream",
     "text": [
      "Cluster bootstrap standard error of the difference in means is: 0.00249042\n"
     ]
    }
   ],
   "source": [
    "def cluster_diff(df, i=None):\n",
    "    df_c = df[df.yob == i].copy()\n",
    "    # df_c_1 = df_c[df_c.educ == 1]\n",
    "    # df_c_0 = df_c[df_c.educ == 0]\n",
    "\n",
    "    w_kg = np.random.choice(w_k, size=1, replace=True)[0]\n",
    "    n_c = len(df_c)\n",
    "    n_treat = int(n_c * w_kg)\n",
    "    # df_cb_1 = df_c_1.sample(int(n_c*w_kg), replace=True)\n",
    "    # df_cb_0 = df_c_0.sample(int(n_c*(1-w_kg)), replace=True)\n",
    "\n",
    "    # df_cb = pd.concat([df_cb_1, df_cb_0])\n",
    "\n",
    "    df_c['educ'] = 0\n",
    "    treated_indices = np.random.choice(df_c.index, size=n_treat, replace=False)\n",
    "    df_c.loc[treated_indices, 'educ'] = 1\n",
    "\n",
    "    return df_c\n",
    "\n",
    "def cluster_se(df, cluster = None):\n",
    "    full_sample = pd.DataFrame()\n",
    "\n",
    "    for i in range(len(cluster)):\n",
    "        df_i = cluster_diff(df, cluster[i])\n",
    "        full_sample = pd.concat([full_sample, df_i], ignore_index=True)\n",
    "\n",
    "    full_sample['const'] = 1\n",
    "    X = full_sample[[\"const\", \"educ\"]].to_numpy()\n",
    "    Y = full_sample[[\"y\"]].to_numpy()\n",
    "    beta = np.linalg.inv(X.transpose()@X) @ X.transpose()@Y\n",
    "        \n",
    "    return beta[1][0]\n",
    "\n",
    "def bootstrap_cluster_se(df, B=1000):\n",
    "    diffs = np.zeros(B)\n",
    "    for i in range(B):\n",
    "        diffs[i] = cluster_se(df, yob_values)\n",
    "    return np.std(diffs)\n",
    "\n",
    "# Set the number of bootstrap samples\n",
    "B = 1000\n",
    "# Calculate the bootstrap standard error\n",
    "bootstrap_se_value = bootstrap_cluster_se(df, B=B)\n",
    "\n",
    "print(f\"Cluster bootstrap standard error of the difference in means is: {bootstrap_se_value:.8f}\")\n"
   ]
  },
  {
   "cell_type": "code",
   "execution_count": null,
   "metadata": {},
   "outputs": [],
   "source": [
    "old version\n",
    "# def cluster_diff(df, cluster_id, w_k):\n",
    "#     df_c = df[df.yob == cluster_id]\n",
    "#     n_c = len(df_c)\n",
    "#     w_kg = np.random.choice(w_k, size=1)[0]\n",
    "\n",
    "#     df_treated = df_c[df_c.educ == 1]\n",
    "#     df_control = df_c[df_c.educ == 0]\n",
    "\n",
    "#     n_treat = int(n_c * w_kg)\n",
    "#     n_control = n_c - n_treat\n",
    "\n",
    "#     sample_treat = df_treated.sample(n=n_treat, replace=True)\n",
    "#     sample_control = df_control.sample(n=n_control, replace=True)\n",
    "\n",
    "#     return pd.concat([sample_treat, sample_control])\n",
    "\n",
    "# def hybrid_cluster_bootstrap(df, B=1000, w_k=np.linspace(0.1, 0.9, 9)):\n",
    "#     clusters = df['yob'].unique()\n",
    "#     boot_coefs = []\n",
    "\n",
    "#     for _ in range(B):\n",
    "#         sampled_clusters = np.random.choice(clusters, size=len(clusters), replace=True)\n",
    "#         boot_sample = pd.DataFrame()\n",
    "\n",
    "#         for cluster_id in sampled_clusters:\n",
    "#             cluster_data = cluster_diff(df, cluster_id, w_k)\n",
    "#             boot_sample = pd.concat([boot_sample, cluster_data])\n",
    "\n",
    "#         boot_sample['const'] = 1\n",
    "#         X = boot_sample[['const', 'educ']].to_numpy()\n",
    "#         Y = boot_sample[['y']].to_numpy()\n",
    "\n",
    "#         beta = np.linalg.inv(X.T @ X) @ X.T @ Y\n",
    "#         boot_coefs.append(beta[1, 0])  # Coefficient on educ\n",
    "\n",
    "#     return np.std(boot_coefs)\n",
    "\n",
    "\n",
    "# se = hybrid_cluster_bootstrap(df, B=B, w_k=w_k)\n",
    "# print(f\"Cluster bootstrap SE with treatment resampling: {se:.8f}\")"
   ]
  },
  {
   "cell_type": "markdown",
   "metadata": {},
   "source": [
    "1.e."
   ]
  },
  {
   "cell_type": "code",
   "execution_count": 40,
   "metadata": {},
   "outputs": [
    {
     "name": "stdout",
     "output_type": "stream",
     "text": [
      "Within-cluster share of variance (Y): 0.9999700951390741\n",
      "ICC (between-cluster correlation): 2.990486092591116e-05\n"
     ]
    }
   ],
   "source": [
    "df2 = df.copy()\n",
    "# Group-mean center y (within-cluster)\n",
    "df2['y_group_mean'] = df2.groupby('yob')['y'].transform('mean')\n",
    "df2['y_within'] = df2['y'] - df2['y_group_mean']\n",
    "\n",
    "# Total variance\n",
    "var_total = df2['y'].var(ddof=0)\n",
    "\n",
    "# Within-cluster variance\n",
    "var_within = df2['y_within'].var(ddof=0)\n",
    "\n",
    "# Ratio = share of variance that is within clusters (i.e., 1 - ICC)\n",
    "within_cluster_share = var_within / var_total\n",
    "print(\"Within-cluster share of variance (Y):\", within_cluster_share)\n",
    "\n",
    "# Calculate the ICC for y   \n",
    "icc = 1 - (var_within / var_total)\n",
    "print(\"ICC (between-cluster correlation):\", icc)\n"
   ]
  },
  {
   "cell_type": "code",
   "execution_count": 46,
   "metadata": {},
   "outputs": [
    {
     "name": "stderr",
     "output_type": "stream",
     "text": [
      "/Users/tmullane/Library/Python/3.9/lib/python/site-packages/statsmodels/base/model.py:607: ConvergenceWarning: Maximum Likelihood optimization failed to converge. Check mle_retvals\n",
      "  warnings.warn(\"Maximum Likelihood optimization failed to \"\n",
      "/Users/tmullane/Library/Python/3.9/lib/python/site-packages/statsmodels/regression/mixed_linear_model.py:2200: ConvergenceWarning: Retrying MixedLM optimization with lbfgs\n",
      "  warnings.warn(\n",
      "/Users/tmullane/Library/Python/3.9/lib/python/site-packages/statsmodels/base/model.py:607: ConvergenceWarning: Maximum Likelihood optimization failed to converge. Check mle_retvals\n",
      "  warnings.warn(\"Maximum Likelihood optimization failed to \"\n",
      "/Users/tmullane/Library/Python/3.9/lib/python/site-packages/statsmodels/regression/mixed_linear_model.py:2200: ConvergenceWarning: Retrying MixedLM optimization with cg\n",
      "  warnings.warn(\n"
     ]
    },
    {
     "name": "stdout",
     "output_type": "stream",
     "text": [
      "Random-effects ICC for y (log-earnings): 0.0008\n"
     ]
    },
    {
     "name": "stderr",
     "output_type": "stream",
     "text": [
      "/Users/tmullane/Library/Python/3.9/lib/python/site-packages/statsmodels/base/model.py:607: ConvergenceWarning: Maximum Likelihood optimization failed to converge. Check mle_retvals\n",
      "  warnings.warn(\"Maximum Likelihood optimization failed to \"\n",
      "/Users/tmullane/Library/Python/3.9/lib/python/site-packages/statsmodels/regression/mixed_linear_model.py:2206: ConvergenceWarning: MixedLM optimization failed, trying a different optimizer may help.\n",
      "  warnings.warn(msg, ConvergenceWarning)\n",
      "/Users/tmullane/Library/Python/3.9/lib/python/site-packages/statsmodels/regression/mixed_linear_model.py:2218: ConvergenceWarning: Gradient optimization failed, |grad| = 297.089556\n",
      "  warnings.warn(msg, ConvergenceWarning)\n",
      "/Users/tmullane/Library/Python/3.9/lib/python/site-packages/statsmodels/regression/mixed_linear_model.py:2237: ConvergenceWarning: The MLE may be on the boundary of the parameter space.\n",
      "  warnings.warn(msg, ConvergenceWarning)\n",
      "/Users/tmullane/Library/Python/3.9/lib/python/site-packages/statsmodels/regression/mixed_linear_model.py:2261: ConvergenceWarning: The Hessian matrix at the estimated parameter values is not positive definite.\n",
      "  warnings.warn(msg, ConvergenceWarning)\n"
     ]
    }
   ],
   "source": [
    "# ICC for log earnings (y)\n",
    "model_y = mixedlm(\"y ~ 1\", df, groups=df[\"yob\"])\n",
    "result_y = model_y.fit()\n",
    "\n",
    "var_between_y = result_y.cov_re.iloc[0, 0]\n",
    "var_within_y = result_y.scale\n",
    "icc_y = var_between_y / (var_between_y + var_within_y)\n",
    "print(f\"Random-effects ICC for y (log-earnings): {icc_y:.4f}\")\n"
   ]
  },
  {
   "cell_type": "markdown",
   "metadata": {},
   "source": [
    "1.f."
   ]
  },
  {
   "cell_type": "code",
   "execution_count": 45,
   "metadata": {},
   "outputs": [
    {
     "name": "stdout",
     "output_type": "stream",
     "text": [
      "Random-effects ICC for educ: 0.0011\n"
     ]
    },
    {
     "name": "stderr",
     "output_type": "stream",
     "text": [
      "/Users/tmullane/Library/Python/3.9/lib/python/site-packages/statsmodels/regression/mixed_linear_model.py:2237: ConvergenceWarning: The MLE may be on the boundary of the parameter space.\n",
      "  warnings.warn(msg, ConvergenceWarning)\n"
     ]
    }
   ],
   "source": [
    "# ICC for education (educ)\n",
    "model_educ = mixedlm(\"educ ~ 1\", df, groups=df[\"yob\"])\n",
    "result_educ = model_educ.fit()\n",
    "\n",
    "var_between_educ = result_educ.cov_re.iloc[0, 0]\n",
    "var_within_educ = result_educ.scale\n",
    "icc_educ = var_between_educ / (var_between_educ + var_within_educ)\n",
    "print(f\"Random-effects ICC for educ: {icc_educ:.4f}\")"
   ]
  },
  {
   "cell_type": "code",
   "execution_count": 42,
   "metadata": {},
   "outputs": [
    {
     "name": "stdout",
     "output_type": "stream",
     "text": [
      "Within-cluster share of variance educ: 0.9989657813580346\n",
      "ICC (between-cluster correlation): 0.001034218641965401\n"
     ]
    }
   ],
   "source": [
    "df2 = df.copy()\n",
    "# Group-mean center y (within-cluster)\n",
    "df2['educ_group_mean'] = df2.groupby('yob')['educ'].transform('mean')\n",
    "df2['educ_within'] = df2['educ'] - df2['educ_group_mean']\n",
    "\n",
    "# Total variance\n",
    "var_total = df2['educ'].var(ddof=0)\n",
    "\n",
    "# Within-cluster variance\n",
    "var_within = df2['educ_within'].var(ddof=0)\n",
    "\n",
    "# Ratio = share of variance that is within clusters (i.e., 1 - ICC)\n",
    "within_cluster_share = var_within / var_total\n",
    "print(\"Within-cluster share of variance educ:\", within_cluster_share)\n",
    "\n",
    "# Calculate the ICC for educ   \n",
    "icc = 1 - (var_within / var_total)\n",
    "print(\"ICC (between-cluster correlation):\", icc)\n"
   ]
  },
  {
   "cell_type": "markdown",
   "metadata": {},
   "source": [
    "1.g. We could also report the two stage clustered bootstrapped standard error."
   ]
  },
  {
   "cell_type": "markdown",
   "metadata": {},
   "source": [
    "2.a. I'd report EHW. "
   ]
  },
  {
   "cell_type": "code",
   "execution_count": 53,
   "metadata": {},
   "outputs": [
    {
     "data": {
      "text/plain": [
       "yob\n",
       "30    0.364175\n",
       "31    0.382794\n",
       "32    0.388315\n",
       "33    0.394068\n",
       "34    0.396604\n",
       "35    0.403167\n",
       "36    0.405374\n",
       "37    0.407136\n",
       "38    0.414985\n",
       "39    0.419746\n",
       "Name: educ, dtype: float64"
      ]
     },
     "execution_count": 53,
     "metadata": {},
     "output_type": "execute_result"
    }
   ],
   "source": [
    "fract = df.groupby(\"yob\")[\"educ\"].mean()\n",
    "fract"
   ]
  },
  {
   "cell_type": "code",
   "execution_count": 54,
   "metadata": {},
   "outputs": [
    {
     "data": {
      "text/plain": [
       "np.float64(0.3976363242160999)"
      ]
     },
     "execution_count": 54,
     "metadata": {},
     "output_type": "execute_result"
    }
   ],
   "source": [
    "fract.mean()"
   ]
  },
  {
   "cell_type": "code",
   "execution_count": 55,
   "metadata": {},
   "outputs": [
    {
     "data": {
      "text/plain": [
       "np.float64(0.30861386806538577)"
      ]
     },
     "execution_count": 55,
     "metadata": {},
     "output_type": "execute_result"
    }
   ],
   "source": [
    "fract.mean() * (1-fract.mean()) ** 0.5"
   ]
  },
  {
   "cell_type": "code",
   "execution_count": 56,
   "metadata": {},
   "outputs": [
    {
     "data": {
      "text/plain": [
       "np.float64(0.0002679053097953354)"
      ]
     },
     "execution_count": 56,
     "metadata": {},
     "output_type": "execute_result"
    }
   ],
   "source": [
    "fract.var()"
   ]
  }
 ],
 "metadata": {
  "kernelspec": {
   "display_name": "Python 3",
   "language": "python",
   "name": "python3"
  },
  "language_info": {
   "codemirror_mode": {
    "name": "ipython",
    "version": 3
   },
   "file_extension": ".py",
   "mimetype": "text/x-python",
   "name": "python",
   "nbconvert_exporter": "python",
   "pygments_lexer": "ipython3",
   "version": "3.9.6"
  }
 },
 "nbformat": 4,
 "nbformat_minor": 2
}
