{
 "cells": [
  {
   "cell_type": "markdown",
   "metadata": {},
   "source": [
    "Problem Set 2\n",
    "Maire Taegan Mullane\n",
    "4/13/25"
   ]
  },
  {
   "cell_type": "code",
   "execution_count": 47,
   "metadata": {},
   "outputs": [],
   "source": [
    "import pandas as pd\n",
    "import numpy as np\n",
    "import math\n",
    "import scipy as sp\n",
    "import matplotlib.pyplot as plt\n",
    "from itertools import combinations"
   ]
  },
  {
   "cell_type": "code",
   "execution_count": 4,
   "metadata": {},
   "outputs": [],
   "source": [
    "file1_path = \"census.mat\"\n",
    "#read .mat file without a dictionary into dataframe\n",
    "# Note: The .mat file should be in the same directory as this script\n",
    "\n",
    "mat_data = sp.io.loadmat(file1_path)"
   ]
  },
  {
   "cell_type": "code",
   "execution_count": 7,
   "metadata": {},
   "outputs": [
    {
     "data": {
      "text/html": [
       "<div>\n",
       "<style scoped>\n",
       "    .dataframe tbody tr th:only-of-type {\n",
       "        vertical-align: middle;\n",
       "    }\n",
       "\n",
       "    .dataframe tbody tr th {\n",
       "        vertical-align: top;\n",
       "    }\n",
       "\n",
       "    .dataframe thead th {\n",
       "        text-align: right;\n",
       "    }\n",
       "</style>\n",
       "<table border=\"1\" class=\"dataframe\">\n",
       "  <thead>\n",
       "    <tr style=\"text-align: right;\">\n",
       "      <th></th>\n",
       "      <th>educ</th>\n",
       "      <th>y</th>\n",
       "      <th>yob</th>\n",
       "    </tr>\n",
       "  </thead>\n",
       "  <tbody>\n",
       "    <tr>\n",
       "      <th>0</th>\n",
       "      <td>0</td>\n",
       "      <td>5.790019</td>\n",
       "      <td>30</td>\n",
       "    </tr>\n",
       "    <tr>\n",
       "      <th>1</th>\n",
       "      <td>0</td>\n",
       "      <td>5.952494</td>\n",
       "      <td>30</td>\n",
       "    </tr>\n",
       "    <tr>\n",
       "      <th>2</th>\n",
       "      <td>0</td>\n",
       "      <td>5.315949</td>\n",
       "      <td>30</td>\n",
       "    </tr>\n",
       "    <tr>\n",
       "      <th>3</th>\n",
       "      <td>0</td>\n",
       "      <td>5.595926</td>\n",
       "      <td>30</td>\n",
       "    </tr>\n",
       "    <tr>\n",
       "      <th>4</th>\n",
       "      <td>0</td>\n",
       "      <td>6.068915</td>\n",
       "      <td>30</td>\n",
       "    </tr>\n",
       "    <tr>\n",
       "      <th>...</th>\n",
       "      <td>...</td>\n",
       "      <td>...</td>\n",
       "      <td>...</td>\n",
       "    </tr>\n",
       "    <tr>\n",
       "      <th>329504</th>\n",
       "      <td>1</td>\n",
       "      <td>6.323980</td>\n",
       "      <td>39</td>\n",
       "    </tr>\n",
       "    <tr>\n",
       "      <th>329505</th>\n",
       "      <td>1</td>\n",
       "      <td>5.847161</td>\n",
       "      <td>39</td>\n",
       "    </tr>\n",
       "    <tr>\n",
       "      <th>329506</th>\n",
       "      <td>0</td>\n",
       "      <td>5.909597</td>\n",
       "      <td>39</td>\n",
       "    </tr>\n",
       "    <tr>\n",
       "      <th>329507</th>\n",
       "      <td>0</td>\n",
       "      <td>6.047781</td>\n",
       "      <td>39</td>\n",
       "    </tr>\n",
       "    <tr>\n",
       "      <th>329508</th>\n",
       "      <td>1</td>\n",
       "      <td>5.766817</td>\n",
       "      <td>39</td>\n",
       "    </tr>\n",
       "  </tbody>\n",
       "</table>\n",
       "<p>329509 rows × 3 columns</p>\n",
       "</div>"
      ],
      "text/plain": [
       "        educ         y  yob\n",
       "0          0  5.790019   30\n",
       "1          0  5.952494   30\n",
       "2          0  5.315949   30\n",
       "3          0  5.595926   30\n",
       "4          0  6.068915   30\n",
       "...      ...       ...  ...\n",
       "329504     1  6.323980   39\n",
       "329505     1  5.847161   39\n",
       "329506     0  5.909597   39\n",
       "329507     0  6.047781   39\n",
       "329508     1  5.766817   39\n",
       "\n",
       "[329509 rows x 3 columns]"
      ]
     },
     "execution_count": 7,
     "metadata": {},
     "output_type": "execute_result"
    }
   ],
   "source": [
    "# Extract the variables\n",
    "educ = mat_data['educ'].flatten()\n",
    "y = mat_data['y'].flatten()\n",
    "yob = mat_data['yob'].flatten()\n",
    "\n",
    "# Create a DataFrame\n",
    "df = pd.DataFrame({\n",
    "    'educ': educ,\n",
    "    'y': y,\n",
    "    'yob': yob\n",
    "})\n",
    "\n",
    "df"
   ]
  },
  {
   "cell_type": "markdown",
   "metadata": {},
   "source": [
    "1.a."
   ]
  },
  {
   "cell_type": "code",
   "execution_count": 13,
   "metadata": {},
   "outputs": [
    {
     "name": "stdout",
     "output_type": "stream",
     "text": [
      "Difference in means is: 0.38\n"
     ]
    }
   ],
   "source": [
    "Y_1 = df[df.educ== 1]['y'].mean()\n",
    "Y_0 = df[df.educ== 0]['y'].mean()\n",
    "\n",
    "diff = (Y_1- Y_0)\n",
    "print(f\"Difference in means is: {diff:.2f}\")\n"
   ]
  },
  {
   "cell_type": "code",
   "execution_count": 15,
   "metadata": {},
   "outputs": [
    {
     "name": "stdout",
     "output_type": "stream",
     "text": [
      "Variance of the difference in means is: 0.00000534\n"
     ]
    }
   ],
   "source": [
    "N = float(len(df))\n",
    "M = float(len(df[df.educ == 1]))\n",
    "\n",
    "# Calculate the variance of the difference in means\n",
    "se_0 =(1/(N-M-1)) * sum((df[df.educ == 0].y - Y_0)**2)\n",
    "se_1 = 1/(M - 1) * sum((df[df.educ == 1].y - Y_1)**2)\n",
    "var = se_0/(N-M) + se_1/M\n",
    "print(f\"Variance of the difference in means is: {var:.8f}\")"
   ]
  },
  {
   "cell_type": "markdown",
   "metadata": {},
   "source": [
    "1.b."
   ]
  },
  {
   "cell_type": "code",
   "execution_count": 17,
   "metadata": {},
   "outputs": [
    {
     "name": "stdout",
     "output_type": "stream",
     "text": [
      "Bootstrap standard error of the difference in means is: 0.00226623\n"
     ]
    }
   ],
   "source": [
    "def bootstrap_diff(df, n=None):\n",
    "    df_b = df.sample(n, replace=True)\n",
    "    \n",
    "    Y_1_b = df_b[df_b.educ == 1]['y'].mean()\n",
    "    Y_0_b = df_b[df_b.educ == 0]['y'].mean()\n",
    "    return Y_1_b - Y_0_b\n",
    "\n",
    "def bootstrap_se(df, B=1000):\n",
    "    n = len(df)\n",
    "    diffs = np.zeros(B)\n",
    "    for i in range(B):\n",
    "        diffs[i] = bootstrap_diff(df, n)\n",
    "    return np.std(diffs)\n",
    "\n",
    "# Set the number of bootstrap samples\n",
    "B = 1000\n",
    "# Calculate the bootstrap standard error\n",
    "bootstrap_se_value = bootstrap_se(df, B=B)\n",
    "print(f\"Bootstrap standard error of the difference in means is: {bootstrap_se_value:.8f}\")\n"
   ]
  },
  {
   "cell_type": "markdown",
   "metadata": {},
   "source": [
    "1.c."
   ]
  },
  {
   "cell_type": "code",
   "execution_count": 19,
   "metadata": {},
   "outputs": [
    {
     "data": {
      "text/plain": [
       "array([0., 0., 0., 0., 0., 0., 0., 0., 0., 0.])"
      ]
     },
     "execution_count": 19,
     "metadata": {},
     "output_type": "execute_result"
    }
   ],
   "source": [
    "yob_values = df['yob'].unique()\n",
    "np.zeros(len(yob_values))"
   ]
  },
  {
   "cell_type": "code",
   "execution_count": 21,
   "metadata": {},
   "outputs": [
    {
     "name": "stdout",
     "output_type": "stream",
     "text": [
      "LZ standard error of the difference in means is: 0.37873455\n"
     ]
    }
   ],
   "source": [
    "def cluster_diff(df, i=None):\n",
    "    df_c = df[df.yob == i]\n",
    "    \n",
    "    Y_1_b = df_c[df_c.educ == 1]['y'].mean()\n",
    "    Y_0_b = df_c[df_c.educ == 0]['y'].mean()\n",
    "    return Y_1_b - Y_0_b\n",
    "\n",
    "def cluster_se(df, cluster = None):\n",
    "    diffs = np.zeros(len(cluster))\n",
    "    for i in range(len(cluster)):\n",
    "        diffs[i] = cluster_diff(df, cluster[i])\n",
    "    return np.mean(diffs)\n",
    "\n",
    "# Calculate the LZ standard error\n",
    "lz_se = cluster_se(df, cluster = yob_values)\n",
    "print(f\"LZ standard error of the difference in means is: {lz_se:.8f}\")\n"
   ]
  },
  {
   "cell_type": "markdown",
   "metadata": {},
   "source": [
    "1.d."
   ]
  },
  {
   "cell_type": "code",
   "execution_count": 25,
   "metadata": {},
   "outputs": [
    {
     "data": {
      "text/plain": [
       "array([0.36417475, 0.38279436, 0.38831455, 0.39406849, 0.39660358,\n",
       "       0.40316724, 0.40537397, 0.40713592, 0.41498453, 0.41974585])"
      ]
     },
     "execution_count": 25,
     "metadata": {},
     "output_type": "execute_result"
    }
   ],
   "source": [
    "w_k = np.zeros(len(yob_values))\n",
    "for i in range(len(yob_values)):\n",
    "    w_k[i] = np.mean(df[df['yob']==yob_values[i]].educ)\n",
    "w_k"
   ]
  },
  {
   "cell_type": "code",
   "execution_count": 42,
   "metadata": {},
   "outputs": [
    {
     "data": {
      "text/plain": [
       "np.float64(138310.03382209188)"
      ]
     },
     "execution_count": 42,
     "metadata": {},
     "output_type": "execute_result"
    }
   ],
   "source": [
    "np.random.choice(w_k, size=1, replace=True)[0]*len(df)"
   ]
  },
  {
   "cell_type": "code",
   "execution_count": 45,
   "metadata": {},
   "outputs": [
    {
     "name": "stdout",
     "output_type": "stream",
     "text": [
      "Cluster bootstrap standard error of the difference in means is: 0.00232883\n"
     ]
    }
   ],
   "source": [
    "def cluster_diff(df, i=None):\n",
    "    df_c = df[df.yob == i]\n",
    "    df_c_1 = df_c[df_c.educ == 1]\n",
    "    df_c_0 = df_c[df_c.educ == 0]\n",
    "\n",
    "    w_kg = np.random.choice(w_k, size=1, replace=True)[0]\n",
    "    n_c = len(df_c)\n",
    "    df_cb_1 = df_c_1.sample(int(n_c*w_kg), replace=True)\n",
    "    df_cb_0 = df_c_0.sample(int(n_c*(1-w_kg)), replace=True)\n",
    "\n",
    "    Y_1_b = df_cb_1['y'].mean()\n",
    "    Y_0_b = df_cb_0['y'].mean()\n",
    "    \n",
    "    return Y_1_b - Y_0_b\n",
    "\n",
    "def cluster_se(df, cluster = None):\n",
    "    diffs_c = np.zeros(len(cluster))\n",
    "    for i in range(len(cluster)):\n",
    "        diffs_c[i] = cluster_diff(df, cluster[i])\n",
    "    return np.mean(diffs_c)\n",
    "\n",
    "def bootstrap_cluster_se(df, B=1000):\n",
    "    diffs = np.zeros(B)\n",
    "    for i in range(B):\n",
    "        diffs[i] = cluster_se(df, yob_values)\n",
    "    return np.std(diffs)\n",
    "\n",
    "# Set the number of bootstrap samples\n",
    "B = 1000\n",
    "# Calculate the bootstrap standard error\n",
    "bootstrap_se_value = bootstrap_cluster_se(df, B=B)\n",
    "\n",
    "print(f\"Cluster bootstrap standard error of the difference in means is: {bootstrap_se_value:.8f}\")\n"
   ]
  },
  {
   "cell_type": "markdown",
   "metadata": {},
   "source": [
    "1.e."
   ]
  },
  {
   "cell_type": "code",
   "execution_count": 50,
   "metadata": {},
   "outputs": [],
   "source": [
    "# Assuming df has columns: 'yob' and 'y'\n",
    "results = {}\n",
    "yob_values = df['yob'].unique()\n",
    "\n",
    "for yob in yob_values:\n",
    "    df_c = df[df['yob'] == yob]\n",
    "    \n",
    "    if len(df_c) < 2:\n",
    "        results[yob] = np.nan\n",
    "        continue\n",
    "    \n",
    "    y_norm = (df_c['y'] - df_c['y'].mean()) / df_c['y'].std(ddof=0)\n",
    "    \n",
    "    pair_products = [y_norm.iloc[i] * y_norm.iloc[j] for i, j in combinations(range(len(df_c)), 2)]\n",
    "    \n",
    "    results[yob] = np.mean(pair_products)\n",
    "\n",
    "within_cluster_corr = pd.Series(results, name=\"within_cluster_corr\")\n",
    "print(within_cluster_corr)\n"
   ]
  },
  {
   "cell_type": "code",
   "execution_count": null,
   "metadata": {},
   "outputs": [],
   "source": [
    "results = {}\n",
    "for i in range(len(yob_values)):\n",
    "    df_c = df[df.yob == yob_values[i]]\n",
    "    y_norm = (df_c['y'] - df_c['y'].mean())/df_c['y'].std()\n",
    "    pair_products = [y_norm[i] * y_norm[j] for i, j in combinations(range(len(df_c)), 2)]\n",
    "    results[i] = np.mean(pair_products)\n",
    "pd.Series(results)\n"
   ]
  },
  {
   "cell_type": "markdown",
   "metadata": {},
   "source": [
    "1.f."
   ]
  },
  {
   "cell_type": "code",
   "execution_count": null,
   "metadata": {},
   "outputs": [],
   "source": [
    "# Assuming df has columns: 'yob' and 'y'\n",
    "results = {}\n",
    "yob_values = df['yob'].unique()\n",
    "\n",
    "for yob in yob_values:\n",
    "    df_c = df[df['yob'] == yob]\n",
    "    \n",
    "    if len(df_c) < 2:\n",
    "        results[yob] = np.nan\n",
    "        continue\n",
    "    \n",
    "    y_norm = (df_c['educ'] - df_c['educ'].mean()) / df_c['educ'].std(ddof=0)\n",
    "    \n",
    "    pair_products = [y_norm.iloc[i] * y_norm.iloc[j] for i, j in combinations(range(len(df_c)), 2)]\n",
    "    \n",
    "    results[yob] = np.mean(pair_products)\n",
    "\n",
    "within_cluster_corr = pd.Series(results, name=\"within_cluster_corr\")\n",
    "print(within_cluster_corr)\n"
   ]
  },
  {
   "cell_type": "code",
   "execution_count": null,
   "metadata": {},
   "outputs": [],
   "source": [
    "results = {}\n",
    "for i in range(len(yob_values)):\n",
    "    df_c = df[df.yob == yob_values[i]]\n",
    "    y_norm = (df_c['educ'] - df_c['educ'].mean())/df_c['educ'].std()\n",
    "    pair_products = [y_norm[i] * y_norm[j] for i, j in combinations(range(len(df_c)), 2)]\n",
    "    results[i] = np.mean(pair_products)\n",
    "pd.Series(results)"
   ]
  },
  {
   "cell_type": "markdown",
   "metadata": {},
   "source": [
    "1.g. Another standard error to report, yes probably. Would want to include a measure of the distribution of cluster size."
   ]
  },
  {
   "cell_type": "markdown",
   "metadata": {},
   "source": [
    "2.a. Since this is a random sample of the full census, although there is a correlation between education and log earnings, "
   ]
  }
 ],
 "metadata": {
  "kernelspec": {
   "display_name": "Python 3",
   "language": "python",
   "name": "python3"
  },
  "language_info": {
   "codemirror_mode": {
    "name": "ipython",
    "version": 3
   },
   "file_extension": ".py",
   "mimetype": "text/x-python",
   "name": "python",
   "nbconvert_exporter": "python",
   "pygments_lexer": "ipython3",
   "version": "3.9.6"
  }
 },
 "nbformat": 4,
 "nbformat_minor": 2
}
