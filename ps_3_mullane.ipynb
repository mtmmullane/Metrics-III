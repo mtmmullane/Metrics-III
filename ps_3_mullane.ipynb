{
 "cells": [
  {
   "cell_type": "code",
   "execution_count": 1,
   "metadata": {},
   "outputs": [],
   "source": [
    "import pandas as pd\n",
    "import numpy as np"
   ]
  },
  {
   "cell_type": "code",
   "execution_count": 2,
   "metadata": {},
   "outputs": [
    {
     "data": {
      "text/plain": [
       "[(0, 0.2, 189, 0.18962075848303392, 0.012377605224842433),\n",
       " (1, 0.5, 493, 0.4930139720558882, 0.015786183346825328),\n",
       " (2, 0.45, 451, 0.45109780439121755, 0.015712032693149178),\n",
       " (3, 0.3, 285, 0.28542914171656686, 0.014260059567858552),\n",
       " (4, 0.1, 104, 0.10479041916167664, 0.009671028942732168),\n",
       " (5, 0.45, 430, 0.4301397205588822, 0.01563286225263242)]"
      ]
     },
     "execution_count": 2,
     "metadata": {},
     "output_type": "execute_result"
    }
   ],
   "source": [
    "# Simulate experiment\n",
    "p = [0.2, 0.5, 0.45, 0.3, 0.1, 0.45]\n",
    "n = 1000\n",
    "\n",
    "def sim_experiment(p, n):\n",
    "\n",
    "    #flat priors\n",
    "    a = 1 \n",
    "    b = 1\n",
    "\n",
    "    results = []\n",
    "    beta = []\n",
    "    for i in range(0, 6):\n",
    "        #get number of successes for arm i\n",
    "        k = np.random.binomial(n, p[i])\n",
    "        #update the prior\n",
    "        a = 1 + k\n",
    "        b = 1 + n - k\n",
    "        #save parameters of beta distribution\n",
    "        beta.append((a, b))\n",
    "        #calculate posterior mean and sd\n",
    "        post_mean = a/(a+b)\n",
    "        post_sd = (a*b/((a+b)**2*(a+b+1)))**0.5\n",
    "        results.append((i, p[i], k, post_mean, post_sd))\n",
    "\n",
    "    return results, beta\n",
    "\n",
    "#run the experiment\n",
    "results, beta = sim_experiment(p, n)\n",
    "results"
   ]
  },
  {
   "cell_type": "markdown",
   "metadata": {},
   "source": [
    "B"
   ]
  },
  {
   "cell_type": "code",
   "execution_count": 4,
   "metadata": {},
   "outputs": [
    {
     "data": {
      "text/html": [
       "<div>\n",
       "<style scoped>\n",
       "    .dataframe tbody tr th:only-of-type {\n",
       "        vertical-align: middle;\n",
       "    }\n",
       "\n",
       "    .dataframe tbody tr th {\n",
       "        vertical-align: top;\n",
       "    }\n",
       "\n",
       "    .dataframe thead th {\n",
       "        text-align: right;\n",
       "    }\n",
       "</style>\n",
       "<table border=\"1\" class=\"dataframe\">\n",
       "  <thead>\n",
       "    <tr style=\"text-align: right;\">\n",
       "      <th></th>\n",
       "      <th>0</th>\n",
       "    </tr>\n",
       "  </thead>\n",
       "  <tbody>\n",
       "    <tr>\n",
       "      <th>0</th>\n",
       "      <td>0.00000</td>\n",
       "    </tr>\n",
       "    <tr>\n",
       "      <th>1</th>\n",
       "      <td>0.96866</td>\n",
       "    </tr>\n",
       "    <tr>\n",
       "      <th>2</th>\n",
       "      <td>0.02926</td>\n",
       "    </tr>\n",
       "    <tr>\n",
       "      <th>3</th>\n",
       "      <td>0.00000</td>\n",
       "    </tr>\n",
       "    <tr>\n",
       "      <th>4</th>\n",
       "      <td>0.00000</td>\n",
       "    </tr>\n",
       "    <tr>\n",
       "      <th>5</th>\n",
       "      <td>0.00208</td>\n",
       "    </tr>\n",
       "  </tbody>\n",
       "</table>\n",
       "</div>"
      ],
      "text/plain": [
       "         0\n",
       "0  0.00000\n",
       "1  0.96866\n",
       "2  0.02926\n",
       "3  0.00000\n",
       "4  0.00000\n",
       "5  0.00208"
      ]
     },
     "execution_count": 4,
     "metadata": {},
     "output_type": "execute_result"
    }
   ],
   "source": [
    "#get post probabilities that arm i is best\n",
    "samples = np.array([np.random.beta(beta[i][0],beta[i][1], size=100000) for i in range(0, 6)])\n",
    "# Count how many times each arm has the max sample\n",
    "best_counts = (samples == samples.max(axis=0)).sum(axis=1)\n",
    "posterior_best_probs = best_counts / 100000\n",
    "pd.DataFrame(posterior_best_probs)"
   ]
  },
  {
   "cell_type": "markdown",
   "metadata": {},
   "source": [
    "C"
   ]
  },
  {
   "cell_type": "code",
   "execution_count": 6,
   "metadata": {},
   "outputs": [
    {
     "data": {
      "text/plain": [
       "[(array([0.07692308, 0.50147221, 0.42211055, 0.14285714, 0.07692308,\n",
       "         0.4246988 ]),\n",
       "  array([0.07121693, 0.00678216, 0.03492372, 0.07460471, 0.07121693,\n",
       "         0.02708732]))]"
      ]
     },
     "execution_count": 6,
     "metadata": {},
     "output_type": "execute_result"
    }
   ],
   "source": [
    "# Simulate experiment\n",
    "def thompson_experiment(p, n):\n",
    "    #flat priors\n",
    "    a = np.ones(len(p))\n",
    "    b = np.ones(len(p))\n",
    "    counts = np.zeros(len(p))\n",
    "\n",
    "    results_thompson = []\n",
    "    betas_thompson = []\n",
    "    counts_rate = []\n",
    "\n",
    "    for _ in range(6000):\n",
    "        #get number of successes for arm i\n",
    "        k = np.argmax(np.random.beta(a, b))\n",
    "        counts[k] += 1\n",
    "\n",
    "        y = np.random.binomial(1, p[k])\n",
    "        #update the prior\n",
    "        a[k] += y\n",
    "        b[k] += (1 - y)\n",
    "        #save parameters of beta distribution\n",
    "\n",
    "    post_means = a / (a + b)\n",
    "    post_sds  = np.sqrt(a * b / ((a + b)**2 * (a + b + 1)))\n",
    "    results_thompson.append((post_means, post_sds))\n",
    "    counts_rate.append(counts)\n",
    "    betas_thompson.append((a, b))\n",
    "\n",
    "    return results_thompson, betas_thompson[0], counts_rate[0]\n",
    "\n",
    "p = [0.2, 0.5, 0.45, 0.3, 0.1, 0.45]\n",
    "n = 1000\n",
    "\n",
    "results_thompson, betas_thompson, counts_rate = thompson_experiment(p, n)\n",
    "results_thompson"
   ]
  },
  {
   "cell_type": "code",
   "execution_count": 7,
   "metadata": {},
   "outputs": [
    {
     "data": {
      "text/plain": [
       "array([  11., 5432.,  197.,   19.,   11.,  330.])"
      ]
     },
     "execution_count": 7,
     "metadata": {},
     "output_type": "execute_result"
    }
   ],
   "source": [
    "counts_rate"
   ]
  },
  {
   "cell_type": "code",
   "execution_count": 20,
   "metadata": {},
   "outputs": [
    {
     "data": {
      "text/plain": [
       "array([1.9000e-04, 9.8258e-01, 1.3590e-02, 2.3000e-04, 2.2000e-04,\n",
       "       3.1900e-03])"
      ]
     },
     "execution_count": 20,
     "metadata": {},
     "output_type": "execute_result"
    }
   ],
   "source": [
    "#get post probabilities that arm i is best\n",
    "samples = np.array([np.random.beta(betas_thompson[0][i],betas_thompson[1][i], size=100000) for i in range(0, 6)])\n",
    "# Count how many times each arm has the max sample\n",
    "best_counts = (samples == samples.max(axis=0)).sum(axis=1)\n",
    "posterior_best_probs = best_counts / 100000\n",
    "\n",
    "fractions = counts_rate / 6000\n",
    "posterior_best_probs"
   ]
  },
  {
   "cell_type": "code",
   "execution_count": 9,
   "metadata": {},
   "outputs": [
    {
     "data": {
      "text/plain": [
       "array([0.00183333, 0.90533333, 0.03283333, 0.00316667, 0.00183333,\n",
       "       0.055     ])"
      ]
     },
     "execution_count": 9,
     "metadata": {},
     "output_type": "execute_result"
    }
   ],
   "source": [
    "fractions"
   ]
  },
  {
   "cell_type": "markdown",
   "metadata": {},
   "source": [
    "D"
   ]
  },
  {
   "cell_type": "code",
   "execution_count": 31,
   "metadata": {},
   "outputs": [
    {
     "data": {
      "text/plain": [
       "array([2, 2, 2, 2, 2, 2, 2, 2, 2, 2, 2, 2, 2, 2, 2, 2, 2, 2, 2, 2, 2, 2,\n",
       "       2, 2, 6, 2, 2, 2, 2, 2, 2, 2, 2, 2, 2, 2, 2, 2, 2, 2, 2, 2, 2, 2,\n",
       "       2, 2, 2, 2, 2, 2, 2, 2, 2, 2, 2, 2, 2, 2, 2, 2, 2, 2, 2, 2, 2, 2,\n",
       "       2, 2, 2, 2, 2, 2, 2, 2, 2, 2, 2, 2, 2, 2, 2, 2, 2, 2, 2, 2, 2, 2,\n",
       "       2, 2, 2, 2, 2, 2, 2, 2, 2, 2, 2, 2])"
      ]
     },
     "execution_count": 31,
     "metadata": {},
     "output_type": "execute_result"
    }
   ],
   "source": [
    "iterations = []\n",
    "results_iter = []\n",
    "rates = []\n",
    "top_mean = []\n",
    "for _ in range(100):\n",
    "    results,betas = sim_experiment(p, n)\n",
    "    \n",
    "    #to get highest posterior probility\n",
    "    #get post probabilities that arm i is best\n",
    "    samples = np.array([np.random.beta(betas[i][0],betas[i][1], size=100) for i in range(0, 6)])\n",
    "    \n",
    "    # Count how many times each arm has the max sample\n",
    "    best_counts = (samples == samples.max(axis=0)).sum(axis=1)\n",
    "    results_iter.append(best_counts)\n",
    "    iterations.append(np.argmax(best_counts) + 1)\n",
    "\n",
    "    rate_iter = best_counts.max() / 100\n",
    "    rates.append(rate_iter)\n",
    "\n",
    "iterations = np.array(iterations)\n",
    "iterations"
   ]
  },
  {
   "cell_type": "code",
   "execution_count": 59,
   "metadata": {},
   "outputs": [
    {
     "data": {
      "text/html": [
       "<div>\n",
       "<style scoped>\n",
       "    .dataframe tbody tr th:only-of-type {\n",
       "        vertical-align: middle;\n",
       "    }\n",
       "\n",
       "    .dataframe tbody tr th {\n",
       "        vertical-align: top;\n",
       "    }\n",
       "\n",
       "    .dataframe thead th {\n",
       "        text-align: right;\n",
       "    }\n",
       "</style>\n",
       "<table border=\"1\" class=\"dataframe\">\n",
       "  <thead>\n",
       "    <tr style=\"text-align: right;\">\n",
       "      <th></th>\n",
       "      <th>true_prob</th>\n",
       "      <th>fraction</th>\n",
       "    </tr>\n",
       "  </thead>\n",
       "  <tbody>\n",
       "    <tr>\n",
       "      <th>0</th>\n",
       "      <td>0.20</td>\n",
       "      <td>0.00</td>\n",
       "    </tr>\n",
       "    <tr>\n",
       "      <th>1</th>\n",
       "      <td>0.50</td>\n",
       "      <td>0.99</td>\n",
       "    </tr>\n",
       "    <tr>\n",
       "      <th>2</th>\n",
       "      <td>0.45</td>\n",
       "      <td>0.00</td>\n",
       "    </tr>\n",
       "    <tr>\n",
       "      <th>3</th>\n",
       "      <td>0.30</td>\n",
       "      <td>0.00</td>\n",
       "    </tr>\n",
       "    <tr>\n",
       "      <th>4</th>\n",
       "      <td>0.10</td>\n",
       "      <td>0.00</td>\n",
       "    </tr>\n",
       "    <tr>\n",
       "      <th>5</th>\n",
       "      <td>0.45</td>\n",
       "      <td>0.01</td>\n",
       "    </tr>\n",
       "  </tbody>\n",
       "</table>\n",
       "</div>"
      ],
      "text/plain": [
       "   true_prob  fraction\n",
       "0       0.20      0.00\n",
       "1       0.50      0.99\n",
       "2       0.45      0.00\n",
       "3       0.30      0.00\n",
       "4       0.10      0.00\n",
       "5       0.45      0.01"
      ]
     },
     "execution_count": 59,
     "metadata": {},
     "output_type": "execute_result"
    }
   ],
   "source": [
    "#get dataframe of the fraction of times each arm appears in list\n",
    "df = pd.DataFrame()\n",
    "df['true_prob'] = p\n",
    "# create column of the fraction of times each arm value is in list iterations\n",
    "df['fraction'] = [list(iterations).count(i)/100 for i in range(1,7)]\n",
    "df\n"
   ]
  },
  {
   "cell_type": "code",
   "execution_count": null,
   "metadata": {},
   "outputs": [],
   "source": [
    "# samples = np.random.beta(\n",
    "#     betas_thompson[0][np.newaxis, :],\n",
    "#     betas_thompson[1][np.newaxis, :],\n",
    "#     size=(100, 6)\n",
    "# )\n",
    "# best_idx = np.argmax(samples, axis=1)   # length-M array of ints in 0..K-1\n",
    "\n",
    "# # 3) count and normalize\n",
    "# counts = np.bincount(best_idx, minlength=6)\n",
    "# posterior_best_prob = counts / 100\n",
    "# results_iter.append(best_idx)"
   ]
  },
  {
   "cell_type": "code",
   "execution_count": 60,
   "metadata": {},
   "outputs": [
    {
     "data": {
      "text/plain": [
       "array([2, 2, 2, 2, 2, 2, 2, 2, 2, 2, 2, 2, 2, 2, 2, 2, 2, 2, 2, 2, 2, 2,\n",
       "       2, 2, 2, 2, 2, 2, 2, 2, 2, 2, 2, 2, 2, 2, 2, 2, 2, 2, 2, 2, 2, 2,\n",
       "       2, 2, 2, 2, 2, 2, 2, 2, 2, 2, 2, 2, 2, 2, 2, 2, 2, 2, 2, 2, 2, 2,\n",
       "       2, 2, 2, 2, 2, 2, 2, 2, 2, 2, 2, 2, 2, 2, 2, 2, 2, 2, 2, 2, 2, 2,\n",
       "       2, 2, 2, 2, 2, 2, 2, 2, 6, 2, 6, 2])"
      ]
     },
     "execution_count": 60,
     "metadata": {},
     "output_type": "execute_result"
    }
   ],
   "source": [
    "iterations = []\n",
    "results_iter = []\n",
    "rates = []\n",
    "for _ in range(100):\n",
    "    results_thompson,betas_thompson, counts_rate = thompson_experiment(p, n)\n",
    "    \n",
    "    #get post probabilities that arm i is best\n",
    "    samples = np.array([np.random.beta(betas_thompson[0][i],betas_thompson[1][i], size=(100)) for i in range(6)])\n",
    "    \n",
    "    # Count how many times each arm has the max sample\n",
    "    best_counts = (samples == samples.max(axis=0)).sum(axis=1)\n",
    "    results_iter.append(best_counts)\n",
    "\n",
    "    # iterations.append(best_counts.max())\n",
    "    iterations.append(np.argmax(best_counts)+1)\n",
    "    rate_iter = best_counts.max() / 100\n",
    "    rates.append(rate_iter)\n",
    "\n",
    "iterations = np.array(iterations)\n",
    "iterations"
   ]
  },
  {
   "cell_type": "code",
   "execution_count": 61,
   "metadata": {},
   "outputs": [
    {
     "data": {
      "text/html": [
       "<div>\n",
       "<style scoped>\n",
       "    .dataframe tbody tr th:only-of-type {\n",
       "        vertical-align: middle;\n",
       "    }\n",
       "\n",
       "    .dataframe tbody tr th {\n",
       "        vertical-align: top;\n",
       "    }\n",
       "\n",
       "    .dataframe thead th {\n",
       "        text-align: right;\n",
       "    }\n",
       "</style>\n",
       "<table border=\"1\" class=\"dataframe\">\n",
       "  <thead>\n",
       "    <tr style=\"text-align: right;\">\n",
       "      <th></th>\n",
       "      <th>true_prob</th>\n",
       "      <th>fraction</th>\n",
       "    </tr>\n",
       "  </thead>\n",
       "  <tbody>\n",
       "    <tr>\n",
       "      <th>0</th>\n",
       "      <td>0.20</td>\n",
       "      <td>0.00</td>\n",
       "    </tr>\n",
       "    <tr>\n",
       "      <th>1</th>\n",
       "      <td>0.50</td>\n",
       "      <td>0.98</td>\n",
       "    </tr>\n",
       "    <tr>\n",
       "      <th>2</th>\n",
       "      <td>0.45</td>\n",
       "      <td>0.00</td>\n",
       "    </tr>\n",
       "    <tr>\n",
       "      <th>3</th>\n",
       "      <td>0.30</td>\n",
       "      <td>0.00</td>\n",
       "    </tr>\n",
       "    <tr>\n",
       "      <th>4</th>\n",
       "      <td>0.10</td>\n",
       "      <td>0.00</td>\n",
       "    </tr>\n",
       "    <tr>\n",
       "      <th>5</th>\n",
       "      <td>0.45</td>\n",
       "      <td>0.02</td>\n",
       "    </tr>\n",
       "  </tbody>\n",
       "</table>\n",
       "</div>"
      ],
      "text/plain": [
       "   true_prob  fraction\n",
       "0       0.20      0.00\n",
       "1       0.50      0.98\n",
       "2       0.45      0.00\n",
       "3       0.30      0.00\n",
       "4       0.10      0.00\n",
       "5       0.45      0.02"
      ]
     },
     "execution_count": 61,
     "metadata": {},
     "output_type": "execute_result"
    }
   ],
   "source": [
    "#get dataframe of the fraction of times each arm appears in list\n",
    "df = pd.DataFrame()\n",
    "df['true_prob'] = p\n",
    "# create column of the fraction of times each arm value is in list iterations\n",
    "df['fraction'] = [list(iterations).count(i)/100 for i in range(1,7)]\n",
    "df"
   ]
  }
 ],
 "metadata": {
  "kernelspec": {
   "display_name": "Python 3",
   "language": "python",
   "name": "python3"
  },
  "language_info": {
   "codemirror_mode": {
    "name": "ipython",
    "version": 3
   },
   "file_extension": ".py",
   "mimetype": "text/x-python",
   "name": "python",
   "nbconvert_exporter": "python",
   "pygments_lexer": "ipython3",
   "version": "3.9.6"
  }
 },
 "nbformat": 4,
 "nbformat_minor": 2
}
