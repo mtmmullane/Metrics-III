{
 "cells": [
  {
   "cell_type": "code",
   "execution_count": 1,
   "metadata": {},
   "outputs": [],
   "source": [
    "import pandas as pd\n",
    "import numpy as np"
   ]
  },
  {
   "cell_type": "code",
   "execution_count": 2,
   "metadata": {},
   "outputs": [
    {
     "data": {
      "text/plain": [
       "[(0, 0.2, 210, 0.21057884231536927, 0.012873934089766234),\n",
       " (1, 0.5, 511, 0.5109780439121756, 0.01578391859751511),\n",
       " (2, 0.45, 448, 0.4481037924151697, 0.015702454661330464),\n",
       " (3, 0.3, 289, 0.2894211576846307, 0.014319267679893881),\n",
       " (4, 0.1, 96, 0.0968063872255489, 0.00933666913018483),\n",
       " (5, 0.45, 466, 0.4660678642714571, 0.015751326841668942)]"
      ]
     },
     "execution_count": 2,
     "metadata": {},
     "output_type": "execute_result"
    }
   ],
   "source": [
    "# Simulate experiment\n",
    "p = [0.2, 0.5, 0.45, 0.3, 0.1, 0.45]\n",
    "n = 1000\n",
    "\n",
    "def sim_experiment(p, n):\n",
    "    \n",
    "    #flat priors\n",
    "    a = 1 \n",
    "    b = 1\n",
    "    counts = np.zeros(len(p))\n",
    "    \n",
    "    results = []\n",
    "    beta = []\n",
    "    counts_rate = []\n",
    "\n",
    "    for i in range(0, 6):\n",
    "        #get number of successes for arm i\n",
    "        k = np.random.binomial(n, p[i])\n",
    "        counts[i] += 1\n",
    "        #update the prior\n",
    "        a = 1 + k\n",
    "        b = 1 + n - k\n",
    "        #save parameters of beta distribution\n",
    "        beta.append((a, b))\n",
    "        #calculate posterior mean and sd\n",
    "        post_mean = a/(a+b)\n",
    "        post_sd = (a*b/((a+b)**2*(a+b+1)))**0.5\n",
    "        counts_rate.append(counts)\n",
    "        results.append((i, p[i], k, post_mean, post_sd))\n",
    "\n",
    "    return results, beta, counts_rate[0]\n",
    "\n",
    "#run the experiment\n",
    "results, beta, counts_rate = sim_experiment(p, n)\n",
    "results"
   ]
  },
  {
   "cell_type": "code",
   "execution_count": 3,
   "metadata": {},
   "outputs": [
    {
     "data": {
      "text/plain": [
       "array([1., 1., 1., 1., 1., 1.])"
      ]
     },
     "execution_count": 3,
     "metadata": {},
     "output_type": "execute_result"
    }
   ],
   "source": [
    "counts_rate"
   ]
  },
  {
   "cell_type": "markdown",
   "metadata": {},
   "source": [
    "B"
   ]
  },
  {
   "cell_type": "code",
   "execution_count": 15,
   "metadata": {},
   "outputs": [
    {
     "data": {
      "text/html": [
       "<div>\n",
       "<style scoped>\n",
       "    .dataframe tbody tr th:only-of-type {\n",
       "        vertical-align: middle;\n",
       "    }\n",
       "\n",
       "    .dataframe tbody tr th {\n",
       "        vertical-align: top;\n",
       "    }\n",
       "\n",
       "    .dataframe thead th {\n",
       "        text-align: right;\n",
       "    }\n",
       "</style>\n",
       "<table border=\"1\" class=\"dataframe\">\n",
       "  <thead>\n",
       "    <tr style=\"text-align: right;\">\n",
       "      <th></th>\n",
       "      <th>0</th>\n",
       "    </tr>\n",
       "  </thead>\n",
       "  <tbody>\n",
       "    <tr>\n",
       "      <th>0</th>\n",
       "      <td>0.0000</td>\n",
       "    </tr>\n",
       "    <tr>\n",
       "      <th>1</th>\n",
       "      <td>0.9727</td>\n",
       "    </tr>\n",
       "    <tr>\n",
       "      <th>2</th>\n",
       "      <td>0.0025</td>\n",
       "    </tr>\n",
       "    <tr>\n",
       "      <th>3</th>\n",
       "      <td>0.0000</td>\n",
       "    </tr>\n",
       "    <tr>\n",
       "      <th>4</th>\n",
       "      <td>0.0000</td>\n",
       "    </tr>\n",
       "    <tr>\n",
       "      <th>5</th>\n",
       "      <td>0.0248</td>\n",
       "    </tr>\n",
       "  </tbody>\n",
       "</table>\n",
       "</div>"
      ],
      "text/plain": [
       "        0\n",
       "0  0.0000\n",
       "1  0.9727\n",
       "2  0.0025\n",
       "3  0.0000\n",
       "4  0.0000\n",
       "5  0.0248"
      ]
     },
     "execution_count": 15,
     "metadata": {},
     "output_type": "execute_result"
    }
   ],
   "source": [
    "#get post probabilities that arm i is best\n",
    "samples = np.array([np.random.beta(beta[i][0],beta[i][1], size=10000) for i in range(0, 6)])\n",
    "# Count how many times each arm has the max sample\n",
    "best_counts = (samples == samples.max(axis=0)).sum(axis=1)\n",
    "posterior_best_probs = best_counts / 10000\n",
    "pd.DataFrame(posterior_best_probs)"
   ]
  },
  {
   "cell_type": "markdown",
   "metadata": {},
   "source": [
    "C"
   ]
  },
  {
   "cell_type": "code",
   "execution_count": 21,
   "metadata": {},
   "outputs": [
    {
     "data": {
      "text/plain": [
       "[(array([0.20833333, 0.50023496, 0.45258621, 0.34883721, 0.20689655,\n",
       "         0.46313964]),\n",
       "  array([0.08122329, 0.00766334, 0.02308246, 0.05109714, 0.07395728,\n",
       "         0.01467857]))]"
      ]
     },
     "execution_count": 21,
     "metadata": {},
     "output_type": "execute_result"
    }
   ],
   "source": [
    "# Simulate experiment\n",
    "def thompson_experiment(p, n):\n",
    "    #flat priors\n",
    "    a = np.ones(len(p))\n",
    "    b = np.ones(len(p))\n",
    "    counts = np.zeros(len(p))\n",
    "\n",
    "    results_thompson = []\n",
    "    betas_thompson = []\n",
    "    counts_rate = []\n",
    "\n",
    "    for _ in range(6000):\n",
    "        #get number of successes for arm i\n",
    "        k = np.argmax(np.random.beta(a, b))\n",
    "        counts[k] += 1\n",
    "\n",
    "        y = np.random.binomial(1, p[k])\n",
    "        #update the prior\n",
    "        a[k] += y\n",
    "        b[k] += (1 - y)\n",
    "        #save parameters of beta distribution\n",
    "\n",
    "    post_means = a / (a + b)\n",
    "    post_sds  = np.sqrt(a * b / ((a + b)**2 * (a + b + 1)))\n",
    "    results_thompson.append((post_means, post_sds))\n",
    "    counts_rate.append(counts)\n",
    "\n",
    "    betas_thompson.append((a, b))\n",
    "\n",
    "    return results_thompson, betas_thompson[0], counts_rate[0]\n",
    "\n",
    "p = [0.2, 0.5, 0.45, 0.3, 0.1, 0.45]\n",
    "n = 1000\n",
    "\n",
    "results_thompson, betas_thompson, counts_rate = thompson_experiment(p, n)\n",
    "results_thompson"
   ]
  },
  {
   "cell_type": "code",
   "execution_count": 19,
   "metadata": {},
   "outputs": [
    {
     "data": {
      "text/plain": [
       "array([  31., 5146.,  338.,   38.,   11.,  436.])"
      ]
     },
     "execution_count": 19,
     "metadata": {},
     "output_type": "execute_result"
    }
   ],
   "source": [
    "counts_rate"
   ]
  },
  {
   "cell_type": "code",
   "execution_count": 22,
   "metadata": {},
   "outputs": [
    {
     "data": {
      "text/plain": [
       "array([6.000e-04, 9.597e-01, 2.390e-02, 2.400e-03, 9.000e-04, 1.250e-02])"
      ]
     },
     "execution_count": 22,
     "metadata": {},
     "output_type": "execute_result"
    }
   ],
   "source": [
    "#get post probabilities that arm i is best\n",
    "samples = np.array([np.random.beta(betas_thompson[0][i],betas_thompson[1][i], size=10000) for i in range(0, 6)])\n",
    "# Count how many times each arm has the max sample\n",
    "best_counts = (samples == samples.max(axis=0)).sum(axis=1)\n",
    "posterior_best_probs = best_counts / 10000\n",
    "\n",
    "fractions = counts_rate / 6000\n",
    "posterior_best_probs"
   ]
  },
  {
   "cell_type": "code",
   "execution_count": 23,
   "metadata": {},
   "outputs": [
    {
     "data": {
      "text/plain": [
       "array([0.00366667, 0.709     , 0.077     , 0.014     , 0.0045    ,\n",
       "       0.19183333])"
      ]
     },
     "execution_count": 23,
     "metadata": {},
     "output_type": "execute_result"
    }
   ],
   "source": [
    "fractions"
   ]
  },
  {
   "cell_type": "markdown",
   "metadata": {},
   "source": [
    "D"
   ]
  },
  {
   "cell_type": "code",
   "execution_count": 24,
   "metadata": {},
   "outputs": [
    {
     "data": {
      "text/plain": [
       "array([2, 2, 2, 2, 2, 2, 2, 2, 2, 2, 2, 2, 2, 2, 2, 2, 2, 2, 2, 3, 2, 2,\n",
       "       2, 2, 2, 2, 2, 2, 2, 2, 2, 2, 2, 2, 2, 2, 2, 2, 2, 2, 2, 2, 2, 2,\n",
       "       2, 2, 2, 2, 2, 2, 2, 2, 2, 2, 2, 2, 2, 2, 2, 2, 2, 2, 2, 2, 2, 2,\n",
       "       2, 2, 2, 2, 2, 2, 2, 2, 2, 2, 2, 2, 2, 2, 2, 2, 2, 2, 2, 2, 2, 2,\n",
       "       2, 2, 2, 2, 2, 2, 2, 2, 2, 2, 2, 2])"
      ]
     },
     "execution_count": 24,
     "metadata": {},
     "output_type": "execute_result"
    }
   ],
   "source": [
    "iterations = []\n",
    "results_iter = []\n",
    "rates = []\n",
    "top_mean = []\n",
    "regret_ran = []\n",
    "for _ in range(100):\n",
    "    results,betas, counts_rate = sim_experiment(p, n)\n",
    "    # results_iter.append(np.argmax(results[0]))\n",
    "\n",
    "    probs = np.sum(counts_rate*p/6)\n",
    "    regret_ran.append(max(p) - probs)\n",
    "\n",
    "    #to get highest posterior probility\n",
    "    #get post probabilities that arm i is best\n",
    "    samples = np.array([np.random.beta(betas[i][0],betas[i][1], size=10000) for i in range(0, 6)])\n",
    "    \n",
    "    # Count how many times each arm has the max sample\n",
    "    best_counts = (samples == samples.max(axis=0)).sum(axis=1)\n",
    "\n",
    "    iterations.append(np.argmax(best_counts) + 1)\n",
    "\n",
    "    rate_iter = best_counts.max() / 100\n",
    "    rates.append(rate_iter)\n",
    "\n",
    "iterations_rand = np.array(iterations)\n",
    "iterations_rand"
   ]
  },
  {
   "cell_type": "code",
   "execution_count": 25,
   "metadata": {},
   "outputs": [
    {
     "data": {
      "text/html": [
       "<div>\n",
       "<style scoped>\n",
       "    .dataframe tbody tr th:only-of-type {\n",
       "        vertical-align: middle;\n",
       "    }\n",
       "\n",
       "    .dataframe tbody tr th {\n",
       "        vertical-align: top;\n",
       "    }\n",
       "\n",
       "    .dataframe thead th {\n",
       "        text-align: right;\n",
       "    }\n",
       "</style>\n",
       "<table border=\"1\" class=\"dataframe\">\n",
       "  <thead>\n",
       "    <tr style=\"text-align: right;\">\n",
       "      <th></th>\n",
       "      <th>true_prob</th>\n",
       "      <th>fraction</th>\n",
       "    </tr>\n",
       "  </thead>\n",
       "  <tbody>\n",
       "    <tr>\n",
       "      <th>0</th>\n",
       "      <td>0.20</td>\n",
       "      <td>0.00</td>\n",
       "    </tr>\n",
       "    <tr>\n",
       "      <th>1</th>\n",
       "      <td>0.50</td>\n",
       "      <td>0.99</td>\n",
       "    </tr>\n",
       "    <tr>\n",
       "      <th>2</th>\n",
       "      <td>0.45</td>\n",
       "      <td>0.01</td>\n",
       "    </tr>\n",
       "    <tr>\n",
       "      <th>3</th>\n",
       "      <td>0.30</td>\n",
       "      <td>0.00</td>\n",
       "    </tr>\n",
       "    <tr>\n",
       "      <th>4</th>\n",
       "      <td>0.10</td>\n",
       "      <td>0.00</td>\n",
       "    </tr>\n",
       "    <tr>\n",
       "      <th>5</th>\n",
       "      <td>0.45</td>\n",
       "      <td>0.00</td>\n",
       "    </tr>\n",
       "  </tbody>\n",
       "</table>\n",
       "</div>"
      ],
      "text/plain": [
       "   true_prob  fraction\n",
       "0       0.20      0.00\n",
       "1       0.50      0.99\n",
       "2       0.45      0.01\n",
       "3       0.30      0.00\n",
       "4       0.10      0.00\n",
       "5       0.45      0.00"
      ]
     },
     "execution_count": 25,
     "metadata": {},
     "output_type": "execute_result"
    }
   ],
   "source": [
    "#get dataframe of the fraction of times each arm appears in list\n",
    "df = pd.DataFrame()\n",
    "df['true_prob'] = p\n",
    "# create column of the fraction of times each arm value is in list iterations\n",
    "df['fraction'] = [list(iterations_rand).count(i)/100 for i in range(1,7)]\n",
    "df\n"
   ]
  },
  {
   "cell_type": "code",
   "execution_count": 26,
   "metadata": {},
   "outputs": [
    {
     "data": {
      "text/plain": [
       "array([2, 2, 2, 2, 2, 2, 2, 2, 2, 2, 2, 2, 2, 2, 2, 2, 2, 2, 2, 2, 2, 2,\n",
       "       2, 2, 2, 2, 2, 2, 2, 2, 2, 2, 2, 2, 2, 2, 2, 2, 2, 2, 2, 2, 2, 2,\n",
       "       2, 2, 2, 2, 2, 2, 2, 2, 2, 2, 2, 2, 2, 2, 2, 2, 2, 2, 2, 2, 2, 2,\n",
       "       2, 2, 2, 2, 2, 2, 2, 2, 2, 2, 2, 2, 2, 2, 2, 2, 2, 2, 2, 2, 2, 2,\n",
       "       2, 2, 2, 2, 2, 2, 2, 2, 2, 2, 2, 2])"
      ]
     },
     "execution_count": 26,
     "metadata": {},
     "output_type": "execute_result"
    }
   ],
   "source": [
    "iterations = []\n",
    "results_iter = []\n",
    "rates = []\n",
    "regret_thom = []\n",
    "for _ in range(100):\n",
    "    results_thompson,betas_thompson, counts_rate = thompson_experiment(p, n)\n",
    "    \n",
    "    probs = np.sum(counts_rate*p/6000)\n",
    "    regret_thom.append(max(p) - probs)\n",
    "\n",
    "    #get post probabilities that arm i is best\n",
    "    samples = np.array([np.random.beta(betas_thompson[0][i],betas_thompson[1][i], size=(10000)) for i in range(6)])\n",
    "    \n",
    "    # Count how many times each arm has the max sample\n",
    "    best_counts = (samples == samples.max(axis=0)).sum(axis=1)\n",
    "    results_iter.append(best_counts)\n",
    "\n",
    "    # iterations.append(best_counts.max())\n",
    "    iterations.append(np.argmax(best_counts)+1)\n",
    "    rate_iter = best_counts.max() / 10000\n",
    "    rates.append(rate_iter)\n",
    "\n",
    "iterations_thom = np.array(iterations)\n",
    "iterations_thom"
   ]
  },
  {
   "cell_type": "code",
   "execution_count": 27,
   "metadata": {},
   "outputs": [
    {
     "data": {
      "text/html": [
       "<div>\n",
       "<style scoped>\n",
       "    .dataframe tbody tr th:only-of-type {\n",
       "        vertical-align: middle;\n",
       "    }\n",
       "\n",
       "    .dataframe tbody tr th {\n",
       "        vertical-align: top;\n",
       "    }\n",
       "\n",
       "    .dataframe thead th {\n",
       "        text-align: right;\n",
       "    }\n",
       "</style>\n",
       "<table border=\"1\" class=\"dataframe\">\n",
       "  <thead>\n",
       "    <tr style=\"text-align: right;\">\n",
       "      <th></th>\n",
       "      <th>true_prob</th>\n",
       "      <th>fraction</th>\n",
       "    </tr>\n",
       "  </thead>\n",
       "  <tbody>\n",
       "    <tr>\n",
       "      <th>0</th>\n",
       "      <td>0.20</td>\n",
       "      <td>0.0</td>\n",
       "    </tr>\n",
       "    <tr>\n",
       "      <th>1</th>\n",
       "      <td>0.50</td>\n",
       "      <td>1.0</td>\n",
       "    </tr>\n",
       "    <tr>\n",
       "      <th>2</th>\n",
       "      <td>0.45</td>\n",
       "      <td>0.0</td>\n",
       "    </tr>\n",
       "    <tr>\n",
       "      <th>3</th>\n",
       "      <td>0.30</td>\n",
       "      <td>0.0</td>\n",
       "    </tr>\n",
       "    <tr>\n",
       "      <th>4</th>\n",
       "      <td>0.10</td>\n",
       "      <td>0.0</td>\n",
       "    </tr>\n",
       "    <tr>\n",
       "      <th>5</th>\n",
       "      <td>0.45</td>\n",
       "      <td>0.0</td>\n",
       "    </tr>\n",
       "  </tbody>\n",
       "</table>\n",
       "</div>"
      ],
      "text/plain": [
       "   true_prob  fraction\n",
       "0       0.20       0.0\n",
       "1       0.50       1.0\n",
       "2       0.45       0.0\n",
       "3       0.30       0.0\n",
       "4       0.10       0.0\n",
       "5       0.45       0.0"
      ]
     },
     "execution_count": 27,
     "metadata": {},
     "output_type": "execute_result"
    }
   ],
   "source": [
    "#get dataframe of the fraction of times each arm appears in list\n",
    "df = pd.DataFrame()\n",
    "df['true_prob'] = p\n",
    "# create column of the fraction of times each arm value is in list iterations\n",
    "df['fraction'] = [list(iterations_thom).count(i)/100 for i in range(1,7)]\n",
    "df"
   ]
  },
  {
   "cell_type": "markdown",
   "metadata": {},
   "source": [
    "E"
   ]
  },
  {
   "cell_type": "code",
   "execution_count": 28,
   "metadata": {},
   "outputs": [
    {
     "data": {
      "text/plain": [
       "np.float64(0.16666666666666674)"
      ]
     },
     "execution_count": 28,
     "metadata": {},
     "output_type": "execute_result"
    }
   ],
   "source": [
    "np.mean(regret_ran)"
   ]
  },
  {
   "cell_type": "code",
   "execution_count": 29,
   "metadata": {},
   "outputs": [
    {
     "data": {
      "text/plain": [
       "np.float64(0.012434750000000001)"
      ]
     },
     "execution_count": 29,
     "metadata": {},
     "output_type": "execute_result"
    }
   ],
   "source": [
    "np.mean(regret_thom)"
   ]
  }
 ],
 "metadata": {
  "kernelspec": {
   "display_name": "Python 3",
   "language": "python",
   "name": "python3"
  },
  "language_info": {
   "codemirror_mode": {
    "name": "ipython",
    "version": 3
   },
   "file_extension": ".py",
   "mimetype": "text/x-python",
   "name": "python",
   "nbconvert_exporter": "python",
   "pygments_lexer": "ipython3",
   "version": "3.9.6"
  }
 },
 "nbformat": 4,
 "nbformat_minor": 2
}
