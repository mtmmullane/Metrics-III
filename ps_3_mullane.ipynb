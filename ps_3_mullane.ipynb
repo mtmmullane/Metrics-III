{
 "cells": [
  {
   "cell_type": "code",
   "execution_count": 1,
   "metadata": {},
   "outputs": [],
   "source": [
    "import pandas as pd\n",
    "import numpy as np"
   ]
  },
  {
   "cell_type": "code",
   "execution_count": 223,
   "metadata": {},
   "outputs": [
    {
     "data": {
      "text/plain": [
       "[(0, 0.2, 196, 0.1966067864271457, 0.012549108239437615),\n",
       " (1, 0.5, 504, 0.5039920159680639, 0.0157872212483476),\n",
       " (2, 0.45, 414, 0.41417165668662675, 0.015553384588814712),\n",
       " (3, 0.3, 320, 0.3203592814371258, 0.014733566380863672),\n",
       " (4, 0.1, 103, 0.10379241516966067, 0.0096302297867534),\n",
       " (5, 0.45, 446, 0.44610778443113774, 0.015695749724776158)]"
      ]
     },
     "execution_count": 223,
     "metadata": {},
     "output_type": "execute_result"
    }
   ],
   "source": [
    "# Simulate experiment\n",
    "p = [0.2, 0.5, 0.45, 0.3, 0.1, 0.45]\n",
    "n = 1000\n",
    "\n",
    "def sim_experiment(p, n):\n",
    "\n",
    "    # k = np.argmax(np.random.beta(a, b))\n",
    "    #     counts[k] += 1\n",
    "\n",
    "    #     y = np.random.binomial(1, p[k])\n",
    "    #     #update the prior\n",
    "    #     a[k] += y\n",
    "    #     b[k] += (1 - y)\n",
    "    \n",
    "    #flat priors\n",
    "    a = 1 \n",
    "    b = 1\n",
    "    counts = np.zeros(len(p))\n",
    "    \n",
    "    results = []\n",
    "    beta = []\n",
    "    counts_rate = []\n",
    "\n",
    "    for i in range(0, 6):\n",
    "        #get number of successes for arm i\n",
    "        k = np.random.binomial(n, p[i])\n",
    "        counts[i] += 1\n",
    "        #update the prior\n",
    "        a = 1 + k\n",
    "        b = 1 + n - k\n",
    "        #save parameters of beta distribution\n",
    "        beta.append((a, b))\n",
    "        #calculate posterior mean and sd\n",
    "        post_mean = a/(a+b)\n",
    "        post_sd = (a*b/((a+b)**2*(a+b+1)))**0.5\n",
    "        counts_rate.append(counts)\n",
    "        results.append((i, p[i], k, post_mean, post_sd))\n",
    "\n",
    "    return results, beta, counts_rate[0]\n",
    "\n",
    "#run the experiment\n",
    "results, beta, counts_rate = sim_experiment(p, n)\n",
    "results"
   ]
  },
  {
   "cell_type": "code",
   "execution_count": 224,
   "metadata": {},
   "outputs": [
    {
     "data": {
      "text/plain": [
       "array([1., 1., 1., 1., 1., 1.])"
      ]
     },
     "execution_count": 224,
     "metadata": {},
     "output_type": "execute_result"
    }
   ],
   "source": [
    "counts_rate"
   ]
  },
  {
   "cell_type": "markdown",
   "metadata": {},
   "source": [
    "B"
   ]
  },
  {
   "cell_type": "code",
   "execution_count": 151,
   "metadata": {},
   "outputs": [
    {
     "data": {
      "text/html": [
       "<div>\n",
       "<style scoped>\n",
       "    .dataframe tbody tr th:only-of-type {\n",
       "        vertical-align: middle;\n",
       "    }\n",
       "\n",
       "    .dataframe tbody tr th {\n",
       "        vertical-align: top;\n",
       "    }\n",
       "\n",
       "    .dataframe thead th {\n",
       "        text-align: right;\n",
       "    }\n",
       "</style>\n",
       "<table border=\"1\" class=\"dataframe\">\n",
       "  <thead>\n",
       "    <tr style=\"text-align: right;\">\n",
       "      <th></th>\n",
       "      <th>0</th>\n",
       "    </tr>\n",
       "  </thead>\n",
       "  <tbody>\n",
       "    <tr>\n",
       "      <th>0</th>\n",
       "      <td>0.00000</td>\n",
       "    </tr>\n",
       "    <tr>\n",
       "      <th>1</th>\n",
       "      <td>0.99913</td>\n",
       "    </tr>\n",
       "    <tr>\n",
       "      <th>2</th>\n",
       "      <td>0.00077</td>\n",
       "    </tr>\n",
       "    <tr>\n",
       "      <th>3</th>\n",
       "      <td>0.00000</td>\n",
       "    </tr>\n",
       "    <tr>\n",
       "      <th>4</th>\n",
       "      <td>0.00000</td>\n",
       "    </tr>\n",
       "    <tr>\n",
       "      <th>5</th>\n",
       "      <td>0.00010</td>\n",
       "    </tr>\n",
       "  </tbody>\n",
       "</table>\n",
       "</div>"
      ],
      "text/plain": [
       "         0\n",
       "0  0.00000\n",
       "1  0.99913\n",
       "2  0.00077\n",
       "3  0.00000\n",
       "4  0.00000\n",
       "5  0.00010"
      ]
     },
     "execution_count": 151,
     "metadata": {},
     "output_type": "execute_result"
    }
   ],
   "source": [
    "#get post probabilities that arm i is best\n",
    "samples = np.array([np.random.beta(beta[i][0],beta[i][1], size=100000) for i in range(0, 6)])\n",
    "# Count how many times each arm has the max sample\n",
    "best_counts = (samples == samples.max(axis=0)).sum(axis=1)\n",
    "posterior_best_probs = best_counts / 100000\n",
    "pd.DataFrame(posterior_best_probs)"
   ]
  },
  {
   "cell_type": "markdown",
   "metadata": {},
   "source": [
    "C"
   ]
  },
  {
   "cell_type": "code",
   "execution_count": 190,
   "metadata": {},
   "outputs": [
    {
     "data": {
      "text/plain": [
       "[(array([0.2       , 0.49507817, 0.46222222, 0.11111111, 0.11764706,\n",
       "         0.38461538]),\n",
       "  array([0.07184212, 0.00694545, 0.0191758 , 0.07209841, 0.07594085,\n",
       "         0.05072157]))]"
      ]
     },
     "execution_count": 190,
     "metadata": {},
     "output_type": "execute_result"
    }
   ],
   "source": [
    "# Simulate experiment\n",
    "def thompson_experiment(p, n):\n",
    "    #flat priors\n",
    "    a = np.ones(len(p))\n",
    "    b = np.ones(len(p))\n",
    "    counts = np.zeros(len(p))\n",
    "\n",
    "    results_thompson = []\n",
    "    betas_thompson = []\n",
    "    counts_rate = []\n",
    "    regret_thom = []\n",
    "\n",
    "    for _ in range(6000):\n",
    "        #get number of successes for arm i\n",
    "        k = np.argmax(np.random.beta(a, b))\n",
    "        counts[k] += 1\n",
    "\n",
    "        y = np.random.binomial(1, p[k])\n",
    "        #update the prior\n",
    "        a[k] += y\n",
    "        b[k] += (1 - y)\n",
    "        #save parameters of beta distribution\n",
    "\n",
    "    post_means = a / (a + b)\n",
    "    post_sds  = np.sqrt(a * b / ((a + b)**2 * (a + b + 1)))\n",
    "    results_thompson.append((post_means, post_sds))\n",
    "    counts_rate.append(counts)\n",
    "\n",
    "    betas_thompson.append((a, b))\n",
    "\n",
    "    return results_thompson, betas_thompson[0], counts_rate[0]\n",
    "\n",
    "p = [0.2, 0.5, 0.45, 0.3, 0.1, 0.45]\n",
    "n = 1000\n",
    "\n",
    "results_thompson, betas_thompson, counts_rate = thompson_experiment(p, n)\n",
    "results_thompson"
   ]
  },
  {
   "cell_type": "code",
   "execution_count": 191,
   "metadata": {},
   "outputs": [
    {
     "data": {
      "text/plain": [
       "array([  28., 5179.,  673.,   16.,   15.,   89.])"
      ]
     },
     "execution_count": 191,
     "metadata": {},
     "output_type": "execute_result"
    }
   ],
   "source": [
    "counts_rate"
   ]
  },
  {
   "cell_type": "code",
   "execution_count": 154,
   "metadata": {},
   "outputs": [
    {
     "data": {
      "text/plain": [
       "array([1.620e-03, 9.540e-01, 2.420e-02, 6.990e-03, 4.200e-04, 1.277e-02])"
      ]
     },
     "execution_count": 154,
     "metadata": {},
     "output_type": "execute_result"
    }
   ],
   "source": [
    "#get post probabilities that arm i is best\n",
    "samples = np.array([np.random.beta(betas_thompson[0][i],betas_thompson[1][i], size=100000) for i in range(0, 6)])\n",
    "# Count how many times each arm has the max sample\n",
    "best_counts = (samples == samples.max(axis=0)).sum(axis=1)\n",
    "posterior_best_probs = best_counts / 100000\n",
    "\n",
    "fractions = counts_rate / 6000\n",
    "posterior_best_probs"
   ]
  },
  {
   "cell_type": "code",
   "execution_count": 155,
   "metadata": {},
   "outputs": [
    {
     "data": {
      "text/plain": [
       "array([0.00416667, 0.6945    , 0.18583333, 0.015     , 0.00516667,\n",
       "       0.09533333])"
      ]
     },
     "execution_count": 155,
     "metadata": {},
     "output_type": "execute_result"
    }
   ],
   "source": [
    "fractions"
   ]
  },
  {
   "cell_type": "markdown",
   "metadata": {},
   "source": [
    "D"
   ]
  },
  {
   "cell_type": "code",
   "execution_count": 231,
   "metadata": {},
   "outputs": [
    {
     "data": {
      "text/plain": [
       "array([2, 2, 2, 2, 2, 2, 2, 2, 2, 2, 2, 2, 2, 2, 2, 2, 2, 2, 2, 2, 2, 2,\n",
       "       2, 2, 2, 2, 2, 2, 2, 2, 2, 2, 2, 2, 2, 2, 2, 2, 2, 2, 2, 2, 2, 2,\n",
       "       2, 2, 2, 2, 2, 2, 2, 2, 2, 2, 2, 2, 2, 2, 2, 2, 2, 2, 2, 2, 3, 2,\n",
       "       2, 2, 2, 2, 2, 2, 3, 2, 2, 2, 2, 2, 2, 2, 2, 2, 2, 2, 2, 2, 2, 2,\n",
       "       2, 2, 2, 2, 2, 2, 2, 2, 3, 2, 2, 2])"
      ]
     },
     "execution_count": 231,
     "metadata": {},
     "output_type": "execute_result"
    }
   ],
   "source": [
    "iterations = []\n",
    "results_iter = []\n",
    "rates = []\n",
    "top_mean = []\n",
    "regret = []\n",
    "for _ in range(100):\n",
    "    results,betas, counts_rate = sim_experiment(p, n)\n",
    "    # results_iter.append(np.argmax(results[0]))\n",
    "\n",
    "    probs = np.sum(counts_rate*p/6)\n",
    "    regret.append(max(p) - probs)\n",
    "\n",
    "    #to get highest posterior probility\n",
    "    #get post probabilities that arm i is best\n",
    "    samples = np.array([np.random.beta(betas[i][0],betas[i][1], size=100) for i in range(0, 6)])\n",
    "    \n",
    "    # Count how many times each arm has the max sample\n",
    "    best_counts = (samples == samples.max(axis=0)).sum(axis=1)\n",
    "\n",
    "    iterations.append(np.argmax(best_counts) + 1)\n",
    "\n",
    "    rate_iter = best_counts.max() / 100\n",
    "    rates.append(rate_iter)\n",
    "\n",
    "iterations_rand = np.array(iterations)\n",
    "iterations_rand"
   ]
  },
  {
   "cell_type": "code",
   "execution_count": 232,
   "metadata": {},
   "outputs": [
    {
     "data": {
      "text/plain": [
       "np.float64(0.16666666666666674)"
      ]
     },
     "execution_count": 232,
     "metadata": {},
     "output_type": "execute_result"
    }
   ],
   "source": [
    "np.mean(regret)"
   ]
  },
  {
   "cell_type": "code",
   "execution_count": 157,
   "metadata": {},
   "outputs": [
    {
     "data": {
      "text/html": [
       "<div>\n",
       "<style scoped>\n",
       "    .dataframe tbody tr th:only-of-type {\n",
       "        vertical-align: middle;\n",
       "    }\n",
       "\n",
       "    .dataframe tbody tr th {\n",
       "        vertical-align: top;\n",
       "    }\n",
       "\n",
       "    .dataframe thead th {\n",
       "        text-align: right;\n",
       "    }\n",
       "</style>\n",
       "<table border=\"1\" class=\"dataframe\">\n",
       "  <thead>\n",
       "    <tr style=\"text-align: right;\">\n",
       "      <th></th>\n",
       "      <th>true_prob</th>\n",
       "      <th>fraction</th>\n",
       "    </tr>\n",
       "  </thead>\n",
       "  <tbody>\n",
       "    <tr>\n",
       "      <th>0</th>\n",
       "      <td>0.20</td>\n",
       "      <td>0.00</td>\n",
       "    </tr>\n",
       "    <tr>\n",
       "      <th>1</th>\n",
       "      <td>0.50</td>\n",
       "      <td>0.95</td>\n",
       "    </tr>\n",
       "    <tr>\n",
       "      <th>2</th>\n",
       "      <td>0.45</td>\n",
       "      <td>0.02</td>\n",
       "    </tr>\n",
       "    <tr>\n",
       "      <th>3</th>\n",
       "      <td>0.30</td>\n",
       "      <td>0.00</td>\n",
       "    </tr>\n",
       "    <tr>\n",
       "      <th>4</th>\n",
       "      <td>0.10</td>\n",
       "      <td>0.00</td>\n",
       "    </tr>\n",
       "    <tr>\n",
       "      <th>5</th>\n",
       "      <td>0.45</td>\n",
       "      <td>0.03</td>\n",
       "    </tr>\n",
       "  </tbody>\n",
       "</table>\n",
       "</div>"
      ],
      "text/plain": [
       "   true_prob  fraction\n",
       "0       0.20      0.00\n",
       "1       0.50      0.95\n",
       "2       0.45      0.02\n",
       "3       0.30      0.00\n",
       "4       0.10      0.00\n",
       "5       0.45      0.03"
      ]
     },
     "execution_count": 157,
     "metadata": {},
     "output_type": "execute_result"
    }
   ],
   "source": [
    "#get dataframe of the fraction of times each arm appears in list\n",
    "df = pd.DataFrame()\n",
    "df['true_prob'] = p\n",
    "# create column of the fraction of times each arm value is in list iterations\n",
    "df['fraction'] = [list(iterations_rand).count(i)/100 for i in range(1,7)]\n",
    "df\n"
   ]
  },
  {
   "cell_type": "code",
   "execution_count": null,
   "metadata": {},
   "outputs": [],
   "source": [
    "# samples = np.random.beta(\n",
    "#     betas_thompson[0][np.newaxis, :],\n",
    "#     betas_thompson[1][np.newaxis, :],\n",
    "#     size=(100, 6)\n",
    "# )\n",
    "# best_idx = np.argmax(samples, axis=1)   # length-M array of ints in 0..K-1\n",
    "\n",
    "# # 3) count and normalize\n",
    "# counts = np.bincount(best_idx, minlength=6)\n",
    "# posterior_best_prob = counts / 100\n",
    "# results_iter.append(best_idx)"
   ]
  },
  {
   "cell_type": "code",
   "execution_count": 198,
   "metadata": {},
   "outputs": [
    {
     "data": {
      "text/plain": [
       "array([2, 2, 2, 2, 2, 2, 2, 2, 2, 2, 2, 2, 2, 2, 2, 2, 2, 2, 2, 2, 2, 2,\n",
       "       2, 2, 2, 2, 2, 2, 2, 2, 2, 2, 2, 2, 2, 2, 2, 2, 2, 2, 2, 2, 2, 2,\n",
       "       2, 2, 2, 2, 2, 2, 2, 2, 2, 2, 2, 2, 2, 2, 2, 2, 2, 2, 2, 6, 2, 2,\n",
       "       2, 2, 2, 2, 2, 2, 2, 2, 2, 2, 2, 2, 2, 2, 2, 2, 2, 2, 3, 2, 2, 2,\n",
       "       2, 2, 2, 2, 2, 2, 2, 2, 2, 2, 2, 2])"
      ]
     },
     "execution_count": 198,
     "metadata": {},
     "output_type": "execute_result"
    }
   ],
   "source": [
    "iterations = []\n",
    "results_iter = []\n",
    "rates = []\n",
    "regret = []\n",
    "for _ in range(100):\n",
    "    results_thompson,betas_thompson, counts_rate = thompson_experiment(p, n)\n",
    "    \n",
    "    probs = np.sum(counts_rate*p/6000)\n",
    "    regret.append(max(p) - probs)\n",
    "\n",
    "    #get post probabilities that arm i is best\n",
    "    samples = np.array([np.random.beta(betas_thompson[0][i],betas_thompson[1][i], size=(100)) for i in range(6)])\n",
    "    # reg = np.array(max([p[i] - np.mean(samples[i]) for i in range(6)]))\n",
    "    # regret.append(reg)\n",
    "    \n",
    "    # Count how many times each arm has the max sample\n",
    "    best_counts = (samples == samples.max(axis=0)).sum(axis=1)\n",
    "    results_iter.append(best_counts)\n",
    "\n",
    "    # probs = np.sum(best_counts*p/100)\n",
    "    # regret.append(max(p) - probs)\n",
    "\n",
    "    # iteration_rand2 = iterations_rand - 1\n",
    "    # p_values = np.array([p[i] for i in iteration_rand2])\n",
    "    # max(p)-np.mean(p_values)\n",
    "\n",
    "    # iterations.append(best_counts.max())\n",
    "    iterations.append(np.argmax(best_counts)+1)\n",
    "    rate_iter = best_counts.max() / 100\n",
    "    rates.append(rate_iter)\n",
    "\n",
    "iterations_thom = np.array(iterations)\n",
    "iterations_thom"
   ]
  },
  {
   "cell_type": "code",
   "execution_count": 199,
   "metadata": {},
   "outputs": [
    {
     "data": {
      "text/plain": [
       "np.float64(0.013098416666666668)"
      ]
     },
     "execution_count": 199,
     "metadata": {},
     "output_type": "execute_result"
    }
   ],
   "source": [
    "np.mean(regret)"
   ]
  },
  {
   "cell_type": "code",
   "execution_count": 169,
   "metadata": {},
   "outputs": [
    {
     "data": {
      "text/plain": [
       "array([ 0.  , 45.  ,  1.35,  0.  ,  0.  ,  3.15])"
      ]
     },
     "execution_count": 169,
     "metadata": {},
     "output_type": "execute_result"
    }
   ],
   "source": [
    "best_counts*p"
   ]
  },
  {
   "cell_type": "code",
   "execution_count": 161,
   "metadata": {},
   "outputs": [
    {
     "data": {
      "text/plain": [
       "np.float64(0.3348333333333333)"
      ]
     },
     "execution_count": 161,
     "metadata": {},
     "output_type": "execute_result"
    }
   ],
   "source": [
    "probs = best_counts*p/100\n",
    "np.mean(max(p) - probs[probs!=0])\n"
   ]
  },
  {
   "cell_type": "code",
   "execution_count": 162,
   "metadata": {},
   "outputs": [
    {
     "data": {
      "text/html": [
       "<div>\n",
       "<style scoped>\n",
       "    .dataframe tbody tr th:only-of-type {\n",
       "        vertical-align: middle;\n",
       "    }\n",
       "\n",
       "    .dataframe tbody tr th {\n",
       "        vertical-align: top;\n",
       "    }\n",
       "\n",
       "    .dataframe thead th {\n",
       "        text-align: right;\n",
       "    }\n",
       "</style>\n",
       "<table border=\"1\" class=\"dataframe\">\n",
       "  <thead>\n",
       "    <tr style=\"text-align: right;\">\n",
       "      <th></th>\n",
       "      <th>true_prob</th>\n",
       "      <th>fraction</th>\n",
       "    </tr>\n",
       "  </thead>\n",
       "  <tbody>\n",
       "    <tr>\n",
       "      <th>0</th>\n",
       "      <td>0.20</td>\n",
       "      <td>0.0</td>\n",
       "    </tr>\n",
       "    <tr>\n",
       "      <th>1</th>\n",
       "      <td>0.50</td>\n",
       "      <td>1.0</td>\n",
       "    </tr>\n",
       "    <tr>\n",
       "      <th>2</th>\n",
       "      <td>0.45</td>\n",
       "      <td>0.0</td>\n",
       "    </tr>\n",
       "    <tr>\n",
       "      <th>3</th>\n",
       "      <td>0.30</td>\n",
       "      <td>0.0</td>\n",
       "    </tr>\n",
       "    <tr>\n",
       "      <th>4</th>\n",
       "      <td>0.10</td>\n",
       "      <td>0.0</td>\n",
       "    </tr>\n",
       "    <tr>\n",
       "      <th>5</th>\n",
       "      <td>0.45</td>\n",
       "      <td>0.0</td>\n",
       "    </tr>\n",
       "  </tbody>\n",
       "</table>\n",
       "</div>"
      ],
      "text/plain": [
       "   true_prob  fraction\n",
       "0       0.20       0.0\n",
       "1       0.50       1.0\n",
       "2       0.45       0.0\n",
       "3       0.30       0.0\n",
       "4       0.10       0.0\n",
       "5       0.45       0.0"
      ]
     },
     "execution_count": 162,
     "metadata": {},
     "output_type": "execute_result"
    }
   ],
   "source": [
    "#get dataframe of the fraction of times each arm appears in list\n",
    "df = pd.DataFrame()\n",
    "df['true_prob'] = p\n",
    "# create column of the fraction of times each arm value is in list iterations\n",
    "df['fraction'] = [list(iterations_thom).count(i)/100 for i in range(1,7)]\n",
    "df"
   ]
  },
  {
   "cell_type": "markdown",
   "metadata": {},
   "source": [
    "E"
   ]
  },
  {
   "cell_type": "code",
   "execution_count": 163,
   "metadata": {},
   "outputs": [
    {
     "data": {
      "text/plain": [
       "np.float64(0.0025000000000000022)"
      ]
     },
     "execution_count": 163,
     "metadata": {},
     "output_type": "execute_result"
    }
   ],
   "source": [
    "iteration_rand2 = iterations_rand - 1\n",
    "p_values = np.array([p[i] for i in iteration_rand2])\n",
    "max(p)-np.mean(p_values)\n"
   ]
  },
  {
   "cell_type": "code",
   "execution_count": 164,
   "metadata": {},
   "outputs": [
    {
     "data": {
      "text/plain": [
       "np.float64(0.0)"
      ]
     },
     "execution_count": 164,
     "metadata": {},
     "output_type": "execute_result"
    }
   ],
   "source": [
    "iterations_thom2 = iterations_thom - 1\n",
    "p_values = np.array([p[i] for i in iterations_thom2])\n",
    "max(p)-np.mean(p_values)"
   ]
  }
 ],
 "metadata": {
  "kernelspec": {
   "display_name": "Python 3",
   "language": "python",
   "name": "python3"
  },
  "language_info": {
   "codemirror_mode": {
    "name": "ipython",
    "version": 3
   },
   "file_extension": ".py",
   "mimetype": "text/x-python",
   "name": "python",
   "nbconvert_exporter": "python",
   "pygments_lexer": "ipython3",
   "version": "3.9.6"
  }
 },
 "nbformat": 4,
 "nbformat_minor": 2
}
