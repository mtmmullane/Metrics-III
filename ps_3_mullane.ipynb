{
 "cells": [
  {
   "cell_type": "code",
   "execution_count": 1,
   "metadata": {},
   "outputs": [],
   "source": [
    "import pandas as pd\n",
    "import numpy as np"
   ]
  },
  {
   "cell_type": "code",
   "execution_count": 150,
   "metadata": {},
   "outputs": [
    {
     "data": {
      "text/plain": [
       "[(0, 0.2, 191, 0.19161676646706588, 0.012427247155351472),\n",
       " (1, 0.5, 530, 0.5299401197604791, 0.015759394458153053),\n",
       " (2, 0.45, 458, 0.45808383233532934, 0.01573214967156243),\n",
       " (3, 0.3, 284, 0.2844311377245509, 0.01424504481257016),\n",
       " (4, 0.1, 102, 0.1027944111776447, 0.009589153487896764),\n",
       " (5, 0.45, 445, 0.44510978043912175, 0.01569230126017336)]"
      ]
     },
     "execution_count": 150,
     "metadata": {},
     "output_type": "execute_result"
    }
   ],
   "source": [
    "# Simulate experiment\n",
    "p = [0.2, 0.5, 0.45, 0.3, 0.1, 0.45]\n",
    "n = 1000\n",
    "\n",
    "def sim_experiment(p, n):\n",
    "\n",
    "    #flat priors\n",
    "    a = 1 \n",
    "    b = 1\n",
    "\n",
    "    results = []\n",
    "    beta = []\n",
    "    for i in range(0, 6):\n",
    "        #get number of successes for arm i\n",
    "        k = np.random.binomial(n, p[i])\n",
    "        #update the prior\n",
    "        a = 1 + k\n",
    "        b = 1 + n - k\n",
    "        #save parameters of beta distribution\n",
    "        beta.append((a, b))\n",
    "        #calculate posterior mean and sd\n",
    "        post_mean = a/(a+b)\n",
    "        post_sd = (a*b/((a+b)**2*(a+b+1)))**0.5\n",
    "        results.append((i, p[i], k, post_mean, post_sd))\n",
    "\n",
    "    return results, beta\n",
    "\n",
    "#run the experiment\n",
    "results, beta = sim_experiment(p, n)\n",
    "results"
   ]
  },
  {
   "cell_type": "markdown",
   "metadata": {},
   "source": [
    "B"
   ]
  },
  {
   "cell_type": "code",
   "execution_count": 151,
   "metadata": {},
   "outputs": [
    {
     "data": {
      "text/html": [
       "<div>\n",
       "<style scoped>\n",
       "    .dataframe tbody tr th:only-of-type {\n",
       "        vertical-align: middle;\n",
       "    }\n",
       "\n",
       "    .dataframe tbody tr th {\n",
       "        vertical-align: top;\n",
       "    }\n",
       "\n",
       "    .dataframe thead th {\n",
       "        text-align: right;\n",
       "    }\n",
       "</style>\n",
       "<table border=\"1\" class=\"dataframe\">\n",
       "  <thead>\n",
       "    <tr style=\"text-align: right;\">\n",
       "      <th></th>\n",
       "      <th>0</th>\n",
       "    </tr>\n",
       "  </thead>\n",
       "  <tbody>\n",
       "    <tr>\n",
       "      <th>0</th>\n",
       "      <td>0.00000</td>\n",
       "    </tr>\n",
       "    <tr>\n",
       "      <th>1</th>\n",
       "      <td>0.99913</td>\n",
       "    </tr>\n",
       "    <tr>\n",
       "      <th>2</th>\n",
       "      <td>0.00077</td>\n",
       "    </tr>\n",
       "    <tr>\n",
       "      <th>3</th>\n",
       "      <td>0.00000</td>\n",
       "    </tr>\n",
       "    <tr>\n",
       "      <th>4</th>\n",
       "      <td>0.00000</td>\n",
       "    </tr>\n",
       "    <tr>\n",
       "      <th>5</th>\n",
       "      <td>0.00010</td>\n",
       "    </tr>\n",
       "  </tbody>\n",
       "</table>\n",
       "</div>"
      ],
      "text/plain": [
       "         0\n",
       "0  0.00000\n",
       "1  0.99913\n",
       "2  0.00077\n",
       "3  0.00000\n",
       "4  0.00000\n",
       "5  0.00010"
      ]
     },
     "execution_count": 151,
     "metadata": {},
     "output_type": "execute_result"
    }
   ],
   "source": [
    "#get post probabilities that arm i is best\n",
    "samples = np.array([np.random.beta(beta[i][0],beta[i][1], size=100000) for i in range(0, 6)])\n",
    "# Count how many times each arm has the max sample\n",
    "best_counts = (samples == samples.max(axis=0)).sum(axis=1)\n",
    "posterior_best_probs = best_counts / 100000\n",
    "pd.DataFrame(posterior_best_probs)"
   ]
  },
  {
   "cell_type": "markdown",
   "metadata": {},
   "source": [
    "C"
   ]
  },
  {
   "cell_type": "code",
   "execution_count": 152,
   "metadata": {},
   "outputs": [
    {
     "data": {
      "text/plain": [
       "[(array([0.22222222, 0.48620772, 0.4529991 , 0.35869565, 0.21212121,\n",
       "         0.43728223]),\n",
       "  array([0.07856742, 0.00773992, 0.0148875 , 0.04973403, 0.07011038,\n",
       "         0.02068675]))]"
      ]
     },
     "execution_count": 152,
     "metadata": {},
     "output_type": "execute_result"
    }
   ],
   "source": [
    "# Simulate experiment\n",
    "def thompson_experiment(p, n):\n",
    "    #flat priors\n",
    "    a = np.ones(len(p))\n",
    "    b = np.ones(len(p))\n",
    "    counts = np.zeros(len(p))\n",
    "\n",
    "    results_thompson = []\n",
    "    betas_thompson = []\n",
    "    counts_rate = []\n",
    "\n",
    "    for _ in range(6000):\n",
    "        #get number of successes for arm i\n",
    "        k = np.argmax(np.random.beta(a, b))\n",
    "        counts[k] += 1\n",
    "\n",
    "        y = np.random.binomial(1, p[k])\n",
    "        #update the prior\n",
    "        a[k] += y\n",
    "        b[k] += (1 - y)\n",
    "        #save parameters of beta distribution\n",
    "\n",
    "    post_means = a / (a + b)\n",
    "    post_sds  = np.sqrt(a * b / ((a + b)**2 * (a + b + 1)))\n",
    "    results_thompson.append((post_means, post_sds))\n",
    "    counts_rate.append(counts)\n",
    "    betas_thompson.append((a, b))\n",
    "\n",
    "    return results_thompson, betas_thompson[0], counts_rate[0]\n",
    "\n",
    "p = [0.2, 0.5, 0.45, 0.3, 0.1, 0.45]\n",
    "n = 1000\n",
    "\n",
    "results_thompson, betas_thompson, counts_rate = thompson_experiment(p, n)\n",
    "results_thompson"
   ]
  },
  {
   "cell_type": "code",
   "execution_count": 153,
   "metadata": {},
   "outputs": [
    {
     "data": {
      "text/plain": [
       "array([  25., 4167., 1115.,   90.,   31.,  572.])"
      ]
     },
     "execution_count": 153,
     "metadata": {},
     "output_type": "execute_result"
    }
   ],
   "source": [
    "counts_rate"
   ]
  },
  {
   "cell_type": "code",
   "execution_count": 154,
   "metadata": {},
   "outputs": [
    {
     "data": {
      "text/plain": [
       "array([1.620e-03, 9.540e-01, 2.420e-02, 6.990e-03, 4.200e-04, 1.277e-02])"
      ]
     },
     "execution_count": 154,
     "metadata": {},
     "output_type": "execute_result"
    }
   ],
   "source": [
    "#get post probabilities that arm i is best\n",
    "samples = np.array([np.random.beta(betas_thompson[0][i],betas_thompson[1][i], size=100000) for i in range(0, 6)])\n",
    "# Count how many times each arm has the max sample\n",
    "best_counts = (samples == samples.max(axis=0)).sum(axis=1)\n",
    "posterior_best_probs = best_counts / 100000\n",
    "\n",
    "fractions = counts_rate / 6000\n",
    "posterior_best_probs"
   ]
  },
  {
   "cell_type": "code",
   "execution_count": 155,
   "metadata": {},
   "outputs": [
    {
     "data": {
      "text/plain": [
       "array([0.00416667, 0.6945    , 0.18583333, 0.015     , 0.00516667,\n",
       "       0.09533333])"
      ]
     },
     "execution_count": 155,
     "metadata": {},
     "output_type": "execute_result"
    }
   ],
   "source": [
    "fractions"
   ]
  },
  {
   "cell_type": "markdown",
   "metadata": {},
   "source": [
    "D"
   ]
  },
  {
   "cell_type": "code",
   "execution_count": 156,
   "metadata": {},
   "outputs": [
    {
     "data": {
      "text/plain": [
       "array([2, 2, 2, 2, 2, 2, 2, 2, 2, 2, 2, 2, 2, 2, 2, 2, 2, 2, 2, 2, 2, 2,\n",
       "       2, 2, 2, 2, 2, 2, 2, 2, 2, 2, 2, 2, 2, 2, 2, 2, 2, 2, 2, 2, 2, 2,\n",
       "       6, 2, 2, 2, 2, 2, 2, 6, 2, 2, 2, 2, 2, 2, 2, 2, 2, 2, 2, 2, 6, 2,\n",
       "       2, 2, 2, 2, 2, 2, 2, 2, 2, 2, 2, 2, 2, 2, 2, 3, 2, 2, 2, 3, 2, 2,\n",
       "       2, 2, 2, 2, 2, 2, 2, 2, 2, 2, 2, 2])"
      ]
     },
     "execution_count": 156,
     "metadata": {},
     "output_type": "execute_result"
    }
   ],
   "source": [
    "iterations = []\n",
    "results_iter = []\n",
    "rates = []\n",
    "top_mean = []\n",
    "for _ in range(100):\n",
    "    results,betas = sim_experiment(p, n)\n",
    "    # results_iter.append(np.argmax(results[0]))\n",
    "\n",
    "    #to get highest posterior probility\n",
    "    #get post probabilities that arm i is best\n",
    "    samples = np.array([np.random.beta(betas[i][0],betas[i][1], size=100) for i in range(0, 6)])\n",
    "    \n",
    "    # Count how many times each arm has the max sample\n",
    "    best_counts = (samples == samples.max(axis=0)).sum(axis=1)\n",
    "    iterations.append(np.argmax(best_counts) + 1)\n",
    "\n",
    "    rate_iter = best_counts.max() / 100\n",
    "    rates.append(rate_iter)\n",
    "\n",
    "iterations_rand = np.array(iterations)\n",
    "iterations_rand"
   ]
  },
  {
   "cell_type": "code",
   "execution_count": 157,
   "metadata": {},
   "outputs": [
    {
     "data": {
      "text/html": [
       "<div>\n",
       "<style scoped>\n",
       "    .dataframe tbody tr th:only-of-type {\n",
       "        vertical-align: middle;\n",
       "    }\n",
       "\n",
       "    .dataframe tbody tr th {\n",
       "        vertical-align: top;\n",
       "    }\n",
       "\n",
       "    .dataframe thead th {\n",
       "        text-align: right;\n",
       "    }\n",
       "</style>\n",
       "<table border=\"1\" class=\"dataframe\">\n",
       "  <thead>\n",
       "    <tr style=\"text-align: right;\">\n",
       "      <th></th>\n",
       "      <th>true_prob</th>\n",
       "      <th>fraction</th>\n",
       "    </tr>\n",
       "  </thead>\n",
       "  <tbody>\n",
       "    <tr>\n",
       "      <th>0</th>\n",
       "      <td>0.20</td>\n",
       "      <td>0.00</td>\n",
       "    </tr>\n",
       "    <tr>\n",
       "      <th>1</th>\n",
       "      <td>0.50</td>\n",
       "      <td>0.95</td>\n",
       "    </tr>\n",
       "    <tr>\n",
       "      <th>2</th>\n",
       "      <td>0.45</td>\n",
       "      <td>0.02</td>\n",
       "    </tr>\n",
       "    <tr>\n",
       "      <th>3</th>\n",
       "      <td>0.30</td>\n",
       "      <td>0.00</td>\n",
       "    </tr>\n",
       "    <tr>\n",
       "      <th>4</th>\n",
       "      <td>0.10</td>\n",
       "      <td>0.00</td>\n",
       "    </tr>\n",
       "    <tr>\n",
       "      <th>5</th>\n",
       "      <td>0.45</td>\n",
       "      <td>0.03</td>\n",
       "    </tr>\n",
       "  </tbody>\n",
       "</table>\n",
       "</div>"
      ],
      "text/plain": [
       "   true_prob  fraction\n",
       "0       0.20      0.00\n",
       "1       0.50      0.95\n",
       "2       0.45      0.02\n",
       "3       0.30      0.00\n",
       "4       0.10      0.00\n",
       "5       0.45      0.03"
      ]
     },
     "execution_count": 157,
     "metadata": {},
     "output_type": "execute_result"
    }
   ],
   "source": [
    "#get dataframe of the fraction of times each arm appears in list\n",
    "df = pd.DataFrame()\n",
    "df['true_prob'] = p\n",
    "# create column of the fraction of times each arm value is in list iterations\n",
    "df['fraction'] = [list(iterations_rand).count(i)/100 for i in range(1,7)]\n",
    "df\n"
   ]
  },
  {
   "cell_type": "code",
   "execution_count": null,
   "metadata": {},
   "outputs": [],
   "source": [
    "# samples = np.random.beta(\n",
    "#     betas_thompson[0][np.newaxis, :],\n",
    "#     betas_thompson[1][np.newaxis, :],\n",
    "#     size=(100, 6)\n",
    "# )\n",
    "# best_idx = np.argmax(samples, axis=1)   # length-M array of ints in 0..K-1\n",
    "\n",
    "# # 3) count and normalize\n",
    "# counts = np.bincount(best_idx, minlength=6)\n",
    "# posterior_best_prob = counts / 100\n",
    "# results_iter.append(best_idx)"
   ]
  },
  {
   "cell_type": "code",
   "execution_count": 158,
   "metadata": {},
   "outputs": [
    {
     "data": {
      "text/plain": [
       "array([2, 2, 2, 2, 2, 2, 2, 2, 2, 2, 2, 2, 2, 2, 2, 2, 2, 2, 2, 2, 2, 2,\n",
       "       2, 2, 2, 2, 2, 2, 2, 2, 2, 2, 2, 2, 2, 2, 2, 2, 2, 2, 2, 2, 2, 2,\n",
       "       2, 2, 2, 2, 2, 2, 2, 2, 2, 2, 2, 2, 2, 2, 2, 2, 2, 2, 2, 2, 2, 2,\n",
       "       2, 2, 2, 2, 2, 2, 2, 2, 2, 2, 2, 2, 2, 2, 2, 2, 2, 2, 2, 2, 2, 2,\n",
       "       2, 2, 2, 2, 2, 2, 2, 2, 2, 2, 2, 2])"
      ]
     },
     "execution_count": 158,
     "metadata": {},
     "output_type": "execute_result"
    }
   ],
   "source": [
    "iterations = []\n",
    "results_iter = []\n",
    "rates = []\n",
    "regret = []\n",
    "for _ in range(100):\n",
    "    results_thompson,betas_thompson, counts_rate = thompson_experiment(p, n)\n",
    "    \n",
    "    #get post probabilities that arm i is best\n",
    "    samples = np.array([np.random.beta(betas_thompson[0][i],betas_thompson[1][i], size=(100)) for i in range(6)])\n",
    "    # reg = np.array(max([p[i] - np.mean(samples[i]) for i in range(6)]))\n",
    "    # regret.append(reg)\n",
    "    \n",
    "    # Count how many times each arm has the max sample\n",
    "    best_counts = (samples == samples.max(axis=0)).sum(axis=1)\n",
    "    results_iter.append(best_counts)\n",
    "\n",
    "    probs = best_counts*p/100\n",
    "    regret.append(np.mean(max(p) - probs[probs!=0]))\n",
    "\n",
    "    # iteration_rand2 = iterations_rand - 1\n",
    "    # p_values = np.array([p[i] for i in iteration_rand2])\n",
    "    # max(p)-np.mean(p_values)\n",
    "\n",
    "    # iterations.append(best_counts.max())\n",
    "    iterations.append(np.argmax(best_counts)+1)\n",
    "    rate_iter = best_counts.max() / 100\n",
    "    rates.append(rate_iter)\n",
    "\n",
    "iterations_thom = np.array(iterations)\n",
    "iterations_thom"
   ]
  },
  {
   "cell_type": "code",
   "execution_count": 159,
   "metadata": {},
   "outputs": [
    {
     "data": {
      "text/plain": [
       "np.float64(0.2758050833333333)"
      ]
     },
     "execution_count": 159,
     "metadata": {},
     "output_type": "execute_result"
    }
   ],
   "source": [
    "np.mean(regret)"
   ]
  },
  {
   "cell_type": "code",
   "execution_count": 160,
   "metadata": {},
   "outputs": [
    {
     "data": {
      "text/plain": [
       "array([ 0.  , 49.  ,  0.  ,  0.  ,  0.1 ,  0.45])"
      ]
     },
     "execution_count": 160,
     "metadata": {},
     "output_type": "execute_result"
    }
   ],
   "source": [
    "best_counts*p"
   ]
  },
  {
   "cell_type": "code",
   "execution_count": 161,
   "metadata": {},
   "outputs": [
    {
     "data": {
      "text/plain": [
       "np.float64(0.3348333333333333)"
      ]
     },
     "execution_count": 161,
     "metadata": {},
     "output_type": "execute_result"
    }
   ],
   "source": [
    "probs = best_counts*p/100\n",
    "np.mean(max(p) - probs[probs!=0])\n"
   ]
  },
  {
   "cell_type": "code",
   "execution_count": 162,
   "metadata": {},
   "outputs": [
    {
     "data": {
      "text/html": [
       "<div>\n",
       "<style scoped>\n",
       "    .dataframe tbody tr th:only-of-type {\n",
       "        vertical-align: middle;\n",
       "    }\n",
       "\n",
       "    .dataframe tbody tr th {\n",
       "        vertical-align: top;\n",
       "    }\n",
       "\n",
       "    .dataframe thead th {\n",
       "        text-align: right;\n",
       "    }\n",
       "</style>\n",
       "<table border=\"1\" class=\"dataframe\">\n",
       "  <thead>\n",
       "    <tr style=\"text-align: right;\">\n",
       "      <th></th>\n",
       "      <th>true_prob</th>\n",
       "      <th>fraction</th>\n",
       "    </tr>\n",
       "  </thead>\n",
       "  <tbody>\n",
       "    <tr>\n",
       "      <th>0</th>\n",
       "      <td>0.20</td>\n",
       "      <td>0.0</td>\n",
       "    </tr>\n",
       "    <tr>\n",
       "      <th>1</th>\n",
       "      <td>0.50</td>\n",
       "      <td>1.0</td>\n",
       "    </tr>\n",
       "    <tr>\n",
       "      <th>2</th>\n",
       "      <td>0.45</td>\n",
       "      <td>0.0</td>\n",
       "    </tr>\n",
       "    <tr>\n",
       "      <th>3</th>\n",
       "      <td>0.30</td>\n",
       "      <td>0.0</td>\n",
       "    </tr>\n",
       "    <tr>\n",
       "      <th>4</th>\n",
       "      <td>0.10</td>\n",
       "      <td>0.0</td>\n",
       "    </tr>\n",
       "    <tr>\n",
       "      <th>5</th>\n",
       "      <td>0.45</td>\n",
       "      <td>0.0</td>\n",
       "    </tr>\n",
       "  </tbody>\n",
       "</table>\n",
       "</div>"
      ],
      "text/plain": [
       "   true_prob  fraction\n",
       "0       0.20       0.0\n",
       "1       0.50       1.0\n",
       "2       0.45       0.0\n",
       "3       0.30       0.0\n",
       "4       0.10       0.0\n",
       "5       0.45       0.0"
      ]
     },
     "execution_count": 162,
     "metadata": {},
     "output_type": "execute_result"
    }
   ],
   "source": [
    "#get dataframe of the fraction of times each arm appears in list\n",
    "df = pd.DataFrame()\n",
    "df['true_prob'] = p\n",
    "# create column of the fraction of times each arm value is in list iterations\n",
    "df['fraction'] = [list(iterations_thom).count(i)/100 for i in range(1,7)]\n",
    "df"
   ]
  },
  {
   "cell_type": "markdown",
   "metadata": {},
   "source": [
    "E"
   ]
  },
  {
   "cell_type": "code",
   "execution_count": 163,
   "metadata": {},
   "outputs": [
    {
     "data": {
      "text/plain": [
       "np.float64(0.0025000000000000022)"
      ]
     },
     "execution_count": 163,
     "metadata": {},
     "output_type": "execute_result"
    }
   ],
   "source": [
    "iteration_rand2 = iterations_rand - 1\n",
    "p_values = np.array([p[i] for i in iteration_rand2])\n",
    "max(p)-np.mean(p_values)\n"
   ]
  },
  {
   "cell_type": "code",
   "execution_count": 164,
   "metadata": {},
   "outputs": [
    {
     "data": {
      "text/plain": [
       "np.float64(0.0)"
      ]
     },
     "execution_count": 164,
     "metadata": {},
     "output_type": "execute_result"
    }
   ],
   "source": [
    "iterations_thom2 = iterations_thom - 1\n",
    "p_values = np.array([p[i] for i in iterations_thom2])\n",
    "max(p)-np.mean(p_values)\n"
   ]
  }
 ],
 "metadata": {
  "kernelspec": {
   "display_name": "Python 3",
   "language": "python",
   "name": "python3"
  },
  "language_info": {
   "codemirror_mode": {
    "name": "ipython",
    "version": 3
   },
   "file_extension": ".py",
   "mimetype": "text/x-python",
   "name": "python",
   "nbconvert_exporter": "python",
   "pygments_lexer": "ipython3",
   "version": "3.9.6"
  }
 },
 "nbformat": 4,
 "nbformat_minor": 2
}
