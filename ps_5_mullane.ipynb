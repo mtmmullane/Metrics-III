{
 "cells": [
  {
   "cell_type": "code",
   "execution_count": 468,
   "metadata": {},
   "outputs": [],
   "source": [
    "import numpy as np\n",
    "import pandas as pd\n",
    "import math\n",
    "import scipy as sp\n",
    "import statsmodels.discrete.discrete_model as sm_model\n",
    "import statsmodels.tools as sm_tools\n",
    "import statsmodels.api as sm\n",
    "from sklearn.utils import resample"
   ]
  },
  {
   "cell_type": "code",
   "execution_count": 328,
   "metadata": {},
   "outputs": [
    {
     "data": {
      "text/plain": [
       "dict_keys(['__header__', '__version__', '__globals__', 't', 'age', 'education', 'black', 'hispanic', 'married', 'nodegree', 're74', 're75', 're78', 'u74', 'u75'])"
      ]
     },
     "execution_count": 328,
     "metadata": {},
     "output_type": "execute_result"
    }
   ],
   "source": [
    "file1_path = \"nswre74_treated.mat\"\n",
    "mat_data = sp.io.loadmat(file1_path)\n",
    "mat_data.keys()"
   ]
  },
  {
   "cell_type": "code",
   "execution_count": 249,
   "metadata": {},
   "outputs": [
    {
     "data": {
      "text/html": [
       "<div>\n",
       "<style scoped>\n",
       "    .dataframe tbody tr th:only-of-type {\n",
       "        vertical-align: middle;\n",
       "    }\n",
       "\n",
       "    .dataframe tbody tr th {\n",
       "        vertical-align: top;\n",
       "    }\n",
       "\n",
       "    .dataframe thead th {\n",
       "        text-align: right;\n",
       "    }\n",
       "</style>\n",
       "<table border=\"1\" class=\"dataframe\">\n",
       "  <thead>\n",
       "    <tr style=\"text-align: right;\">\n",
       "      <th></th>\n",
       "      <th>treated</th>\n",
       "      <th>age</th>\n",
       "      <th>educ</th>\n",
       "      <th>black</th>\n",
       "      <th>hisp</th>\n",
       "      <th>married</th>\n",
       "      <th>nodegree</th>\n",
       "      <th>earn_74</th>\n",
       "      <th>earn_75</th>\n",
       "      <th>earn_78</th>\n",
       "      <th>u_74</th>\n",
       "      <th>u_75</th>\n",
       "    </tr>\n",
       "  </thead>\n",
       "  <tbody>\n",
       "    <tr>\n",
       "      <th>0</th>\n",
       "      <td>1</td>\n",
       "      <td>37</td>\n",
       "      <td>11</td>\n",
       "      <td>1</td>\n",
       "      <td>0</td>\n",
       "      <td>1</td>\n",
       "      <td>1</td>\n",
       "      <td>0.00000</td>\n",
       "      <td>0.00000</td>\n",
       "      <td>9.930046</td>\n",
       "      <td>1</td>\n",
       "      <td>1</td>\n",
       "    </tr>\n",
       "    <tr>\n",
       "      <th>1</th>\n",
       "      <td>1</td>\n",
       "      <td>22</td>\n",
       "      <td>9</td>\n",
       "      <td>0</td>\n",
       "      <td>1</td>\n",
       "      <td>0</td>\n",
       "      <td>1</td>\n",
       "      <td>0.00000</td>\n",
       "      <td>0.00000</td>\n",
       "      <td>3.595894</td>\n",
       "      <td>1</td>\n",
       "      <td>1</td>\n",
       "    </tr>\n",
       "    <tr>\n",
       "      <th>2</th>\n",
       "      <td>1</td>\n",
       "      <td>30</td>\n",
       "      <td>12</td>\n",
       "      <td>1</td>\n",
       "      <td>0</td>\n",
       "      <td>0</td>\n",
       "      <td>0</td>\n",
       "      <td>0.00000</td>\n",
       "      <td>0.00000</td>\n",
       "      <td>24.909450</td>\n",
       "      <td>1</td>\n",
       "      <td>1</td>\n",
       "    </tr>\n",
       "    <tr>\n",
       "      <th>3</th>\n",
       "      <td>1</td>\n",
       "      <td>27</td>\n",
       "      <td>11</td>\n",
       "      <td>1</td>\n",
       "      <td>0</td>\n",
       "      <td>0</td>\n",
       "      <td>1</td>\n",
       "      <td>0.00000</td>\n",
       "      <td>0.00000</td>\n",
       "      <td>7.506146</td>\n",
       "      <td>1</td>\n",
       "      <td>1</td>\n",
       "    </tr>\n",
       "    <tr>\n",
       "      <th>4</th>\n",
       "      <td>1</td>\n",
       "      <td>33</td>\n",
       "      <td>8</td>\n",
       "      <td>1</td>\n",
       "      <td>0</td>\n",
       "      <td>0</td>\n",
       "      <td>1</td>\n",
       "      <td>0.00000</td>\n",
       "      <td>0.00000</td>\n",
       "      <td>0.289790</td>\n",
       "      <td>1</td>\n",
       "      <td>1</td>\n",
       "    </tr>\n",
       "    <tr>\n",
       "      <th>...</th>\n",
       "      <td>...</td>\n",
       "      <td>...</td>\n",
       "      <td>...</td>\n",
       "      <td>...</td>\n",
       "      <td>...</td>\n",
       "      <td>...</td>\n",
       "      <td>...</td>\n",
       "      <td>...</td>\n",
       "      <td>...</td>\n",
       "      <td>...</td>\n",
       "      <td>...</td>\n",
       "      <td>...</td>\n",
       "    </tr>\n",
       "    <tr>\n",
       "      <th>180</th>\n",
       "      <td>1</td>\n",
       "      <td>33</td>\n",
       "      <td>12</td>\n",
       "      <td>1</td>\n",
       "      <td>0</td>\n",
       "      <td>1</td>\n",
       "      <td>0</td>\n",
       "      <td>20.27995</td>\n",
       "      <td>10.94135</td>\n",
       "      <td>15.952600</td>\n",
       "      <td>0</td>\n",
       "      <td>0</td>\n",
       "    </tr>\n",
       "    <tr>\n",
       "      <th>181</th>\n",
       "      <td>1</td>\n",
       "      <td>25</td>\n",
       "      <td>14</td>\n",
       "      <td>1</td>\n",
       "      <td>0</td>\n",
       "      <td>1</td>\n",
       "      <td>0</td>\n",
       "      <td>35.04007</td>\n",
       "      <td>11.53657</td>\n",
       "      <td>36.646950</td>\n",
       "      <td>0</td>\n",
       "      <td>0</td>\n",
       "    </tr>\n",
       "    <tr>\n",
       "      <th>182</th>\n",
       "      <td>1</td>\n",
       "      <td>35</td>\n",
       "      <td>9</td>\n",
       "      <td>1</td>\n",
       "      <td>0</td>\n",
       "      <td>1</td>\n",
       "      <td>1</td>\n",
       "      <td>13.60243</td>\n",
       "      <td>13.83064</td>\n",
       "      <td>12.803970</td>\n",
       "      <td>0</td>\n",
       "      <td>0</td>\n",
       "    </tr>\n",
       "    <tr>\n",
       "      <th>183</th>\n",
       "      <td>1</td>\n",
       "      <td>35</td>\n",
       "      <td>8</td>\n",
       "      <td>1</td>\n",
       "      <td>0</td>\n",
       "      <td>1</td>\n",
       "      <td>1</td>\n",
       "      <td>13.73207</td>\n",
       "      <td>17.97615</td>\n",
       "      <td>3.786628</td>\n",
       "      <td>0</td>\n",
       "      <td>0</td>\n",
       "    </tr>\n",
       "    <tr>\n",
       "      <th>184</th>\n",
       "      <td>1</td>\n",
       "      <td>33</td>\n",
       "      <td>11</td>\n",
       "      <td>1</td>\n",
       "      <td>0</td>\n",
       "      <td>1</td>\n",
       "      <td>1</td>\n",
       "      <td>14.66071</td>\n",
       "      <td>25.14224</td>\n",
       "      <td>4.181942</td>\n",
       "      <td>0</td>\n",
       "      <td>0</td>\n",
       "    </tr>\n",
       "  </tbody>\n",
       "</table>\n",
       "<p>185 rows × 12 columns</p>\n",
       "</div>"
      ],
      "text/plain": [
       "     treated  age  educ  black  hisp  married  nodegree   earn_74   earn_75  \\\n",
       "0          1   37    11      1     0        1         1   0.00000   0.00000   \n",
       "1          1   22     9      0     1        0         1   0.00000   0.00000   \n",
       "2          1   30    12      1     0        0         0   0.00000   0.00000   \n",
       "3          1   27    11      1     0        0         1   0.00000   0.00000   \n",
       "4          1   33     8      1     0        0         1   0.00000   0.00000   \n",
       "..       ...  ...   ...    ...   ...      ...       ...       ...       ...   \n",
       "180        1   33    12      1     0        1         0  20.27995  10.94135   \n",
       "181        1   25    14      1     0        1         0  35.04007  11.53657   \n",
       "182        1   35     9      1     0        1         1  13.60243  13.83064   \n",
       "183        1   35     8      1     0        1         1  13.73207  17.97615   \n",
       "184        1   33    11      1     0        1         1  14.66071  25.14224   \n",
       "\n",
       "       earn_78  u_74  u_75  \n",
       "0     9.930046     1     1  \n",
       "1     3.595894     1     1  \n",
       "2    24.909450     1     1  \n",
       "3     7.506146     1     1  \n",
       "4     0.289790     1     1  \n",
       "..         ...   ...   ...  \n",
       "180  15.952600     0     0  \n",
       "181  36.646950     0     0  \n",
       "182  12.803970     0     0  \n",
       "183   3.786628     0     0  \n",
       "184   4.181942     0     0  \n",
       "\n",
       "[185 rows x 12 columns]"
      ]
     },
     "execution_count": 249,
     "metadata": {},
     "output_type": "execute_result"
    }
   ],
   "source": [
    "# Extract the variables\n",
    "treated = mat_data['t'].flatten()\n",
    "age = mat_data['age'].flatten()\n",
    "educ = mat_data['education'].flatten()\n",
    "black = mat_data['black'].flatten()\n",
    "hisp = mat_data['hispanic'].flatten()\n",
    "married = mat_data['married'].flatten()\n",
    "nodegree = mat_data['nodegree'].flatten()\n",
    "earn_74 = mat_data['re74'].flatten()\n",
    "earn_75 = mat_data['re75'].flatten()\n",
    "earn_78 = mat_data['re78'].flatten()\n",
    "u_74 = mat_data['u74'].flatten()\n",
    "u_75 = mat_data['u75'].flatten()\n",
    "\n",
    "# Create a DataFrame\n",
    "df_treat = pd.DataFrame({\n",
    "    'treated': treated,\n",
    "    'age': age,\n",
    "    'educ': educ,\n",
    "    'black': black,\n",
    "    'hisp': hisp,\n",
    "    'married': married,\n",
    "    'nodegree': nodegree,\n",
    "    'earn_74': earn_74/1000,\n",
    "    'earn_75': earn_75/1000,\n",
    "    'earn_78': earn_78/1000,\n",
    "    'u_74': u_74,\n",
    "    'u_75': u_75\n",
    "})\n",
    "df_treat"
   ]
  },
  {
   "cell_type": "code",
   "execution_count": 298,
   "metadata": {},
   "outputs": [
    {
     "data": {
      "text/plain": [
       "dict_keys(['__header__', '__version__', '__globals__', 't', 'age', 'education', 'black', 'hispanic', 'married', 'nodegree', 're74', 're75', 're78', 'u74', 'u75'])"
      ]
     },
     "execution_count": 298,
     "metadata": {},
     "output_type": "execute_result"
    }
   ],
   "source": [
    "file3_path = \"cps_controls.mat\"\n",
    "mat_data = sp.io.loadmat(file3_path)\n",
    "mat_data.keys()"
   ]
  },
  {
   "cell_type": "code",
   "execution_count": 303,
   "metadata": {},
   "outputs": [],
   "source": [
    "file3_path = \"cps_controls.mat\"\n",
    "mat_data = sp.io.loadmat(file3_path)\n",
    "mat_data.keys()\n",
    "\n",
    "# Extract the variables\n",
    "treated = mat_data['t'].flatten()\n",
    "age = mat_data['age'].flatten()\n",
    "educ = mat_data['education'].flatten()\n",
    "black = mat_data['black'].flatten()\n",
    "hisp = mat_data['hispanic'].flatten()\n",
    "married = mat_data['married'].flatten()\n",
    "nodegree = mat_data['nodegree'].flatten()\n",
    "earn_74 = mat_data['re74'].flatten()\n",
    "earn_75 = mat_data['re75'].flatten()\n",
    "earn_78 = mat_data['re78'].flatten()\n",
    "u_74 = mat_data['u74'].flatten()\n",
    "u_75 = mat_data['u75'].flatten()\n",
    "\n",
    "# Create a DataFrame\n",
    "df_control = pd.DataFrame({\n",
    "    'treated': treated,\n",
    "    'age': age,\n",
    "    'educ': educ,\n",
    "    'black': black,\n",
    "    'hisp': hisp,\n",
    "    'married': married,\n",
    "    'nodegree': nodegree,\n",
    "    'earn_74': earn_74/1000,\n",
    "    'earn_75': earn_75/1000,\n",
    "    'earn_78': earn_78/1000,\n",
    "    'u_74': u_74,\n",
    "    'u_75': u_75,\n",
    "})"
   ]
  },
  {
   "cell_type": "markdown",
   "metadata": {},
   "source": [
    "1.a. Contruct table with normalized differences in covars"
   ]
  },
  {
   "cell_type": "code",
   "execution_count": 305,
   "metadata": {},
   "outputs": [],
   "source": [
    "treat_covars = df_treat.iloc[:, 1:].drop(columns=['earn_78'])\n",
    "control_covars = df_control.iloc[:, 1:].drop(columns=['earn_78'])"
   ]
  },
  {
   "cell_type": "code",
   "execution_count": 307,
   "metadata": {},
   "outputs": [
    {
     "data": {
      "text/plain": [
       "age         -7.409021\n",
       "educ        -1.681568\n",
       "black        0.769706\n",
       "hisp        -0.012577\n",
       "married     -0.522542\n",
       "nodegree     0.412273\n",
       "earn_74    -11.921227\n",
       "earn_75    -12.118748\n",
       "u_74         0.588486\n",
       "u_75         0.490695\n",
       "dtype: float64"
      ]
     },
     "execution_count": 307,
     "metadata": {},
     "output_type": "execute_result"
    }
   ],
   "source": [
    "df_diff = treat_covars.mean()-control_covars.mean()\n",
    "df_diff"
   ]
  },
  {
   "cell_type": "code",
   "execution_count": 322,
   "metadata": {},
   "outputs": [
    {
     "name": "stderr",
     "output_type": "stream",
     "text": [
      "/Users/tmullane/Library/Python/3.9/lib/python/site-packages/numpy/_core/fromnumeric.py:84: FutureWarning: The behavior of DataFrame.sum with axis=None is deprecated, in a future version this will reduce over both axes and return a scalar. To retain the old behavior, pass axis=0 (or do not pass axis)\n",
      "  return reduction(axis=axis, out=out, **passkwargs)\n"
     ]
    },
    {
     "data": {
      "text/plain": [
       "age         121.996792\n",
       "educ          8.241754\n",
       "black         0.068133\n",
       "hisp          0.066851\n",
       "married       0.205183\n",
       "nodegree      0.208330\n",
       "earn_74      91.580993\n",
       "earn_75      85.940376\n",
       "u_74          0.105319\n",
       "u_75          0.097363\n",
       "dtype: float64"
      ]
     },
     "execution_count": 322,
     "metadata": {},
     "output_type": "execute_result"
    }
   ],
   "source": [
    "s_0 = (np.sum((control_covars - control_covars.mean())**2))/(len(control_covars)-1)\n",
    "s_0"
   ]
  },
  {
   "cell_type": "code",
   "execution_count": 327,
   "metadata": {},
   "outputs": [
    {
     "name": "stderr",
     "output_type": "stream",
     "text": [
      "/Users/tmullane/Library/Python/3.9/lib/python/site-packages/numpy/_core/fromnumeric.py:84: FutureWarning: The behavior of DataFrame.sum with axis=None is deprecated, in a future version this will reduce over both axes and return a scalar. To retain the old behavior, pass axis=0 (or do not pass axis)\n",
      "  return reduction(axis=axis, out=out, **passkwargs)\n"
     ]
    },
    {
     "data": {
      "text/plain": [
       "age         51.194301\n",
       "educ         4.042714\n",
       "black        0.132902\n",
       "hisp         0.056228\n",
       "married      0.154230\n",
       "nodegree     0.207814\n",
       "earn_74     23.879058\n",
       "earn_75     10.363576\n",
       "u_74         0.207814\n",
       "u_75         0.241304\n",
       "dtype: float64"
      ]
     },
     "execution_count": 327,
     "metadata": {},
     "output_type": "execute_result"
    }
   ],
   "source": [
    "s_1 = (np.sum((treat_covars - treat_covars.mean())**2))/(len(treat_covars)-1)\n",
    "s_1"
   ]
  },
  {
   "cell_type": "code",
   "execution_count": 310,
   "metadata": {},
   "outputs": [
    {
     "data": {
      "text/plain": [
       "age        -0.796183\n",
       "educ       -0.678502\n",
       "black       2.427747\n",
       "hisp       -0.050697\n",
       "married    -1.232648\n",
       "nodegree    0.903811\n",
       "earn_74    -1.568990\n",
       "earn_75    -1.746428\n",
       "u_74        1.487257\n",
       "u_75        1.192450\n",
       "dtype: float64"
      ]
     },
     "execution_count": 310,
     "metadata": {},
     "output_type": "execute_result"
    }
   ],
   "source": [
    "norm_dist = df_diff/np.sqrt((s_0 + s_1)/2)\n",
    "norm_dist"
   ]
  },
  {
   "cell_type": "markdown",
   "metadata": {},
   "source": [
    "b. Estimate propensity score (linear covars)"
   ]
  },
  {
   "cell_type": "code",
   "execution_count": 311,
   "metadata": {},
   "outputs": [
    {
     "data": {
      "text/html": [
       "<div>\n",
       "<style scoped>\n",
       "    .dataframe tbody tr th:only-of-type {\n",
       "        vertical-align: middle;\n",
       "    }\n",
       "\n",
       "    .dataframe tbody tr th {\n",
       "        vertical-align: top;\n",
       "    }\n",
       "\n",
       "    .dataframe thead th {\n",
       "        text-align: right;\n",
       "    }\n",
       "</style>\n",
       "<table border=\"1\" class=\"dataframe\">\n",
       "  <thead>\n",
       "    <tr style=\"text-align: right;\">\n",
       "      <th></th>\n",
       "      <th>treated</th>\n",
       "      <th>age</th>\n",
       "      <th>educ</th>\n",
       "      <th>black</th>\n",
       "      <th>hisp</th>\n",
       "      <th>married</th>\n",
       "      <th>nodegree</th>\n",
       "      <th>earn_74</th>\n",
       "      <th>earn_75</th>\n",
       "      <th>earn_78</th>\n",
       "      <th>u_74</th>\n",
       "      <th>u_75</th>\n",
       "    </tr>\n",
       "  </thead>\n",
       "  <tbody>\n",
       "    <tr>\n",
       "      <th>0</th>\n",
       "      <td>1</td>\n",
       "      <td>37</td>\n",
       "      <td>11</td>\n",
       "      <td>1</td>\n",
       "      <td>0</td>\n",
       "      <td>1</td>\n",
       "      <td>1</td>\n",
       "      <td>0.000000</td>\n",
       "      <td>0.000000</td>\n",
       "      <td>9.930046</td>\n",
       "      <td>1</td>\n",
       "      <td>1</td>\n",
       "    </tr>\n",
       "    <tr>\n",
       "      <th>1</th>\n",
       "      <td>1</td>\n",
       "      <td>22</td>\n",
       "      <td>9</td>\n",
       "      <td>0</td>\n",
       "      <td>1</td>\n",
       "      <td>0</td>\n",
       "      <td>1</td>\n",
       "      <td>0.000000</td>\n",
       "      <td>0.000000</td>\n",
       "      <td>3.595894</td>\n",
       "      <td>1</td>\n",
       "      <td>1</td>\n",
       "    </tr>\n",
       "    <tr>\n",
       "      <th>2</th>\n",
       "      <td>1</td>\n",
       "      <td>30</td>\n",
       "      <td>12</td>\n",
       "      <td>1</td>\n",
       "      <td>0</td>\n",
       "      <td>0</td>\n",
       "      <td>0</td>\n",
       "      <td>0.000000</td>\n",
       "      <td>0.000000</td>\n",
       "      <td>24.909450</td>\n",
       "      <td>1</td>\n",
       "      <td>1</td>\n",
       "    </tr>\n",
       "    <tr>\n",
       "      <th>3</th>\n",
       "      <td>1</td>\n",
       "      <td>27</td>\n",
       "      <td>11</td>\n",
       "      <td>1</td>\n",
       "      <td>0</td>\n",
       "      <td>0</td>\n",
       "      <td>1</td>\n",
       "      <td>0.000000</td>\n",
       "      <td>0.000000</td>\n",
       "      <td>7.506146</td>\n",
       "      <td>1</td>\n",
       "      <td>1</td>\n",
       "    </tr>\n",
       "    <tr>\n",
       "      <th>4</th>\n",
       "      <td>1</td>\n",
       "      <td>33</td>\n",
       "      <td>8</td>\n",
       "      <td>1</td>\n",
       "      <td>0</td>\n",
       "      <td>0</td>\n",
       "      <td>1</td>\n",
       "      <td>0.000000</td>\n",
       "      <td>0.000000</td>\n",
       "      <td>0.289790</td>\n",
       "      <td>1</td>\n",
       "      <td>1</td>\n",
       "    </tr>\n",
       "    <tr>\n",
       "      <th>...</th>\n",
       "      <td>...</td>\n",
       "      <td>...</td>\n",
       "      <td>...</td>\n",
       "      <td>...</td>\n",
       "      <td>...</td>\n",
       "      <td>...</td>\n",
       "      <td>...</td>\n",
       "      <td>...</td>\n",
       "      <td>...</td>\n",
       "      <td>...</td>\n",
       "      <td>...</td>\n",
       "      <td>...</td>\n",
       "    </tr>\n",
       "    <tr>\n",
       "      <th>16172</th>\n",
       "      <td>0</td>\n",
       "      <td>22</td>\n",
       "      <td>12</td>\n",
       "      <td>1</td>\n",
       "      <td>0</td>\n",
       "      <td>0</td>\n",
       "      <td>0</td>\n",
       "      <td>3.975352</td>\n",
       "      <td>6.801435</td>\n",
       "      <td>2.757438</td>\n",
       "      <td>0</td>\n",
       "      <td>0</td>\n",
       "    </tr>\n",
       "    <tr>\n",
       "      <th>16173</th>\n",
       "      <td>0</td>\n",
       "      <td>20</td>\n",
       "      <td>12</td>\n",
       "      <td>1</td>\n",
       "      <td>0</td>\n",
       "      <td>1</td>\n",
       "      <td>0</td>\n",
       "      <td>1.445939</td>\n",
       "      <td>11.832240</td>\n",
       "      <td>6.895072</td>\n",
       "      <td>0</td>\n",
       "      <td>0</td>\n",
       "    </tr>\n",
       "    <tr>\n",
       "      <th>16174</th>\n",
       "      <td>0</td>\n",
       "      <td>37</td>\n",
       "      <td>12</td>\n",
       "      <td>0</td>\n",
       "      <td>0</td>\n",
       "      <td>0</td>\n",
       "      <td>0</td>\n",
       "      <td>1.733951</td>\n",
       "      <td>1.559371</td>\n",
       "      <td>4.221865</td>\n",
       "      <td>0</td>\n",
       "      <td>0</td>\n",
       "    </tr>\n",
       "    <tr>\n",
       "      <th>16175</th>\n",
       "      <td>0</td>\n",
       "      <td>47</td>\n",
       "      <td>9</td>\n",
       "      <td>0</td>\n",
       "      <td>0</td>\n",
       "      <td>1</td>\n",
       "      <td>1</td>\n",
       "      <td>16.914350</td>\n",
       "      <td>11.384660</td>\n",
       "      <td>13.671930</td>\n",
       "      <td>0</td>\n",
       "      <td>0</td>\n",
       "    </tr>\n",
       "    <tr>\n",
       "      <th>16176</th>\n",
       "      <td>0</td>\n",
       "      <td>40</td>\n",
       "      <td>10</td>\n",
       "      <td>0</td>\n",
       "      <td>0</td>\n",
       "      <td>0</td>\n",
       "      <td>1</td>\n",
       "      <td>13.628660</td>\n",
       "      <td>13.144550</td>\n",
       "      <td>7.979724</td>\n",
       "      <td>0</td>\n",
       "      <td>0</td>\n",
       "    </tr>\n",
       "  </tbody>\n",
       "</table>\n",
       "<p>16177 rows × 12 columns</p>\n",
       "</div>"
      ],
      "text/plain": [
       "       treated  age  educ  black  hisp  married  nodegree    earn_74  \\\n",
       "0            1   37    11      1     0        1         1   0.000000   \n",
       "1            1   22     9      0     1        0         1   0.000000   \n",
       "2            1   30    12      1     0        0         0   0.000000   \n",
       "3            1   27    11      1     0        0         1   0.000000   \n",
       "4            1   33     8      1     0        0         1   0.000000   \n",
       "...        ...  ...   ...    ...   ...      ...       ...        ...   \n",
       "16172        0   22    12      1     0        0         0   3.975352   \n",
       "16173        0   20    12      1     0        1         0   1.445939   \n",
       "16174        0   37    12      0     0        0         0   1.733951   \n",
       "16175        0   47     9      0     0        1         1  16.914350   \n",
       "16176        0   40    10      0     0        0         1  13.628660   \n",
       "\n",
       "         earn_75    earn_78  u_74  u_75  \n",
       "0       0.000000   9.930046     1     1  \n",
       "1       0.000000   3.595894     1     1  \n",
       "2       0.000000  24.909450     1     1  \n",
       "3       0.000000   7.506146     1     1  \n",
       "4       0.000000   0.289790     1     1  \n",
       "...          ...        ...   ...   ...  \n",
       "16172   6.801435   2.757438     0     0  \n",
       "16173  11.832240   6.895072     0     0  \n",
       "16174   1.559371   4.221865     0     0  \n",
       "16175  11.384660  13.671930     0     0  \n",
       "16176  13.144550   7.979724     0     0  \n",
       "\n",
       "[16177 rows x 12 columns]"
      ]
     },
     "execution_count": 311,
     "metadata": {},
     "output_type": "execute_result"
    }
   ],
   "source": [
    "df = pd.concat([df_treat, df_control], axis=0, ignore_index=True)\n",
    "df"
   ]
  },
  {
   "cell_type": "code",
   "execution_count": 315,
   "metadata": {},
   "outputs": [],
   "source": [
    "covars = df.iloc[:, 1:].drop(columns=['earn_78'])\n",
    "covars = sm_tools.add_constant(covars)\n",
    "treat = df['treated']"
   ]
  },
  {
   "cell_type": "code",
   "execution_count": 316,
   "metadata": {},
   "outputs": [
    {
     "name": "stdout",
     "output_type": "stream",
     "text": [
      "Optimization terminated successfully.\n",
      "         Current function value: -0.000000\n",
      "         Iterations 9612\n",
      "                          Probit Regression Results                           \n",
      "==============================================================================\n",
      "Dep. Variable:                treated   No. Observations:                16177\n",
      "Model:                         Probit   Df Residuals:                    16166\n",
      "Method:                           MLE   Df Model:                           10\n",
      "Date:                Sat, 10 May 2025   Pseudo R-squ.:                     nan\n",
      "Time:                        14:33:21   Log-Likelihood:                 0.0000\n",
      "converged:                       True   LL-Null:                        0.0000\n",
      "Covariance Type:            nonrobust   LLR p-value:                     1.000\n",
      "==============================================================================\n",
      "                 coef    std err          z      P>|z|      [0.025      0.975]\n",
      "------------------------------------------------------------------------------\n",
      "const          7.2856   8.74e+08   8.34e-09      1.000   -1.71e+09    1.71e+09\n",
      "age            0.0982    4.5e+07   2.18e-09      1.000   -8.83e+07    8.83e+07\n",
      "educ          -0.0460   6.46e+07  -7.13e-10      1.000   -1.27e+08    1.27e+08\n",
      "black          0.1109   1.72e+08   6.45e-10      1.000   -3.37e+08    3.37e+08\n",
      "hisp           0.0244   5.09e+08   4.79e-11      1.000   -9.97e+08    9.97e+08\n",
      "married        0.0581   6.12e+08   9.48e-11      1.000    -1.2e+09     1.2e+09\n",
      "nodegree       0.5469   2.61e+08    2.1e-09      1.000   -5.11e+08    5.11e+08\n",
      "earn_74        0.0299   6.19e+07   4.82e-10      1.000   -1.21e+08    1.21e+08\n",
      "earn_75       -0.0073   5.09e+07  -1.44e-10      1.000   -9.98e+07    9.98e+07\n",
      "u_74           0.0688   2.57e+08   2.68e-10      1.000   -5.04e+08    5.04e+08\n",
      "u_75           0.0194   2.01e+08   9.68e-11      1.000   -3.93e+08    3.93e+08\n",
      "==============================================================================\n"
     ]
    },
    {
     "name": "stderr",
     "output_type": "stream",
     "text": [
      "/Users/tmullane/Library/Python/3.9/lib/python/site-packages/statsmodels/discrete/discrete_model.py:4469: RuntimeWarning: invalid value encountered in scalar divide\n",
      "  return 1 - self.llf/self.llnull\n"
     ]
    }
   ],
   "source": [
    "probit = sm_model.Probit(treat, covars)\n",
    "probit_results = probit.fit(maxiter=10000)\n",
    "print(probit_results.summary())"
   ]
  },
  {
   "cell_type": "code",
   "execution_count": 333,
   "metadata": {},
   "outputs": [
    {
     "name": "stdout",
     "output_type": "stream",
     "text": [
      "count    16177.000000\n",
      "mean        10.528588\n",
      "std          1.269856\n",
      "min          8.314903\n",
      "25%          9.449845\n",
      "50%         10.323356\n",
      "75%         11.525749\n",
      "max         13.738076\n",
      "Name: propensity_score, dtype: float64\n"
     ]
    }
   ],
   "source": [
    "# Calculate propensity scores\n",
    "df['propensity_score'] = probit_results.predict(covars, linear=True)\n",
    "\n",
    "# Examine the distribution of propensity scores\n",
    "print(df['propensity_score'].describe())"
   ]
  },
  {
   "cell_type": "markdown",
   "metadata": {},
   "source": [
    "c. Calculate weighted ATT"
   ]
  },
  {
   "cell_type": "code",
   "execution_count": 338,
   "metadata": {},
   "outputs": [],
   "source": [
    "df['weight'] = np.where(\n",
    "    df['treated'] == 1,\n",
    "    1,\n",
    "    df['propensity_score'] / (1 - df['propensity_score'])    # equation when flag == 0\n",
    ")"
   ]
  },
  {
   "cell_type": "code",
   "execution_count": 341,
   "metadata": {},
   "outputs": [
    {
     "name": "stdout",
     "output_type": "stream",
     "text": [
      "count    15992.000000\n",
      "mean         1.000000\n",
      "std          0.012524\n",
      "min          0.974515\n",
      "25%          0.989298\n",
      "50%          1.000418\n",
      "75%          1.010493\n",
      "max          1.027105\n",
      "Name: weight, dtype: float64\n"
     ]
    }
   ],
   "source": [
    "weights_control = df['weight'][df['treated'] == 0]\n",
    "weights_control_norm = weights_control * len(weights_control)/sum(weights_control)\n",
    "print(weights_control_norm.describe())"
   ]
  },
  {
   "cell_type": "code",
   "execution_count": 346,
   "metadata": {},
   "outputs": [
    {
     "data": {
      "text/plain": [
       "10833    1.027105\n",
       "704      1.026181\n",
       "884      1.026053\n",
       "7079     1.025724\n",
       "15673    1.025685\n",
       "Name: weight, dtype: float64"
      ]
     },
     "execution_count": 346,
     "metadata": {},
     "output_type": "execute_result"
    }
   ],
   "source": [
    "top_5_weights = weights_control_norm.sort_values(ascending=False).head(5)\n",
    "top_5_weights"
   ]
  },
  {
   "cell_type": "code",
   "execution_count": 349,
   "metadata": {},
   "outputs": [
    {
     "data": {
      "text/html": [
       "<div>\n",
       "<style scoped>\n",
       "    .dataframe tbody tr th:only-of-type {\n",
       "        vertical-align: middle;\n",
       "    }\n",
       "\n",
       "    .dataframe tbody tr th {\n",
       "        vertical-align: top;\n",
       "    }\n",
       "\n",
       "    .dataframe thead th {\n",
       "        text-align: right;\n",
       "    }\n",
       "</style>\n",
       "<table border=\"1\" class=\"dataframe\">\n",
       "  <thead>\n",
       "    <tr style=\"text-align: right;\">\n",
       "      <th></th>\n",
       "      <th>const</th>\n",
       "      <th>age</th>\n",
       "      <th>educ</th>\n",
       "      <th>black</th>\n",
       "      <th>hisp</th>\n",
       "      <th>married</th>\n",
       "      <th>nodegree</th>\n",
       "      <th>earn_74</th>\n",
       "      <th>earn_75</th>\n",
       "      <th>u_74</th>\n",
       "      <th>u_75</th>\n",
       "    </tr>\n",
       "  </thead>\n",
       "  <tbody>\n",
       "    <tr>\n",
       "      <th>10833</th>\n",
       "      <td>1.0</td>\n",
       "      <td>17</td>\n",
       "      <td>14</td>\n",
       "      <td>0</td>\n",
       "      <td>0</td>\n",
       "      <td>0</td>\n",
       "      <td>0</td>\n",
       "      <td>1.780974</td>\n",
       "      <td>6.615242</td>\n",
       "      <td>0</td>\n",
       "      <td>0</td>\n",
       "    </tr>\n",
       "    <tr>\n",
       "      <th>704</th>\n",
       "      <td>1.0</td>\n",
       "      <td>17</td>\n",
       "      <td>14</td>\n",
       "      <td>0</td>\n",
       "      <td>0</td>\n",
       "      <td>0</td>\n",
       "      <td>0</td>\n",
       "      <td>0.000000</td>\n",
       "      <td>1.226371</td>\n",
       "      <td>1</td>\n",
       "      <td>0</td>\n",
       "    </tr>\n",
       "    <tr>\n",
       "      <th>884</th>\n",
       "      <td>1.0</td>\n",
       "      <td>17</td>\n",
       "      <td>12</td>\n",
       "      <td>0</td>\n",
       "      <td>0</td>\n",
       "      <td>0</td>\n",
       "      <td>0</td>\n",
       "      <td>0.423202</td>\n",
       "      <td>5.061242</td>\n",
       "      <td>0</td>\n",
       "      <td>0</td>\n",
       "    </tr>\n",
       "    <tr>\n",
       "      <th>7079</th>\n",
       "      <td>1.0</td>\n",
       "      <td>17</td>\n",
       "      <td>12</td>\n",
       "      <td>0</td>\n",
       "      <td>0</td>\n",
       "      <td>0</td>\n",
       "      <td>0</td>\n",
       "      <td>0.211601</td>\n",
       "      <td>1.484177</td>\n",
       "      <td>0</td>\n",
       "      <td>0</td>\n",
       "    </tr>\n",
       "    <tr>\n",
       "      <th>15673</th>\n",
       "      <td>1.0</td>\n",
       "      <td>19</td>\n",
       "      <td>16</td>\n",
       "      <td>0</td>\n",
       "      <td>0</td>\n",
       "      <td>0</td>\n",
       "      <td>0</td>\n",
       "      <td>0.215519</td>\n",
       "      <td>2.857355</td>\n",
       "      <td>0</td>\n",
       "      <td>0</td>\n",
       "    </tr>\n",
       "  </tbody>\n",
       "</table>\n",
       "</div>"
      ],
      "text/plain": [
       "       const  age  educ  black  hisp  married  nodegree   earn_74   earn_75  \\\n",
       "10833    1.0   17    14      0     0        0         0  1.780974  6.615242   \n",
       "704      1.0   17    14      0     0        0         0  0.000000  1.226371   \n",
       "884      1.0   17    12      0     0        0         0  0.423202  5.061242   \n",
       "7079     1.0   17    12      0     0        0         0  0.211601  1.484177   \n",
       "15673    1.0   19    16      0     0        0         0  0.215519  2.857355   \n",
       "\n",
       "       u_74  u_75  \n",
       "10833     0     0  \n",
       "704       1     0  \n",
       "884       0     0  \n",
       "7079      0     0  \n",
       "15673     0     0  "
      ]
     },
     "execution_count": 349,
     "metadata": {},
     "output_type": "execute_result"
    }
   ],
   "source": [
    "covars.loc[top_5_weights.index]"
   ]
  },
  {
   "cell_type": "code",
   "execution_count": 358,
   "metadata": {},
   "outputs": [],
   "source": [
    "def att(df):\n",
    "    treated = df['treated'] == 1\n",
    "    control = df['treated'] == 0\n",
    "        \n",
    "    weights_control = df['propensity_score'][control] / (1 - df['propensity_score'][control])\n",
    "    weights_control_norm = weights_control * len(weights_control) / sum(weights_control)\n",
    "        \n",
    "    att = np.mean(df['earn_78'][treated]) - np.average(df['earn_78'][control], weights=weights_control_norm)\n",
    "    return att"
   ]
  },
  {
   "cell_type": "code",
   "execution_count": 359,
   "metadata": {},
   "outputs": [
    {
     "data": {
      "text/plain": [
       "np.float64(-8.472230160094853)"
      ]
     },
     "execution_count": 359,
     "metadata": {},
     "output_type": "execute_result"
    }
   ],
   "source": [
    "att_estimate = att(df)\n",
    "att_estimate"
   ]
  },
  {
   "cell_type": "code",
   "execution_count": 362,
   "metadata": {},
   "outputs": [
    {
     "name": "stdout",
     "output_type": "stream",
     "text": [
      "SE= 0.574976052363246\n"
     ]
    }
   ],
   "source": [
    "att_boots = []\n",
    "for _ in range(1000):\n",
    "    boot_sample = resample(df)\n",
    "    att_boots.append(att(boot_sample))\n",
    "\n",
    "att_std_error = np.std(att_boots)\n",
    "print(\"SE=\", att_std_error)"
   ]
  },
  {
   "cell_type": "markdown",
   "metadata": {},
   "source": [
    "d. Repeat with logit"
   ]
  },
  {
   "cell_type": "code",
   "execution_count": 363,
   "metadata": {},
   "outputs": [
    {
     "name": "stdout",
     "output_type": "stream",
     "text": [
      "Optimization terminated successfully.\n",
      "         Current function value: inf\n",
      "         Iterations 12\n",
      "logit:                            Logit Regression Results                           \n",
      "==============================================================================\n",
      "Dep. Variable:                treated   No. Observations:                16177\n",
      "Model:                          Logit   Df Residuals:                    16166\n",
      "Method:                           MLE   Df Model:                           10\n",
      "Date:                Sat, 10 May 2025   Pseudo R-squ.:                     inf\n",
      "Time:                        22:03:49   Log-Likelihood:                   -inf\n",
      "converged:                       True   LL-Null:                        0.0000\n",
      "Covariance Type:            nonrobust   LLR p-value:                     1.000\n",
      "==============================================================================\n",
      "                 coef    std err          z      P>|z|      [0.025      0.975]\n",
      "------------------------------------------------------------------------------\n",
      "const         -6.3408      0.812     -7.804      0.000      -7.933      -4.748\n",
      "age           -0.0179      0.011     -1.683      0.092      -0.039       0.003\n",
      "educ           0.0195      0.049      0.401      0.688      -0.076       0.115\n",
      "black          4.2858      0.263     16.319      0.000       3.771       4.801\n",
      "hisp           1.8356      0.394      4.663      0.000       1.064       2.607\n",
      "married       -0.9943      0.241     -4.120      0.000      -1.467      -0.521\n",
      "nodegree       0.9028      0.275      3.282      0.001       0.364       1.442\n",
      "earn_74        0.0625      0.028      2.197      0.028       0.007       0.118\n",
      "earn_75       -0.1773      0.036     -4.923      0.000      -0.248      -0.107\n",
      "u_74           1.5720      0.264      5.956      0.000       1.055       2.089\n",
      "u_75           0.2347      0.239      0.984      0.325      -0.233       0.702\n",
      "==============================================================================\n",
      "\n",
      "Possibly complete quasi-separation: A fraction 0.39 of observations can be\n",
      "perfectly predicted. This might indicate that there is complete\n",
      "quasi-separation. In this case some parameters will not be identified.\n"
     ]
    },
    {
     "name": "stderr",
     "output_type": "stream",
     "text": [
      "/Users/tmullane/Library/Python/3.9/lib/python/site-packages/statsmodels/discrete/discrete_model.py:2385: RuntimeWarning: overflow encountered in exp\n",
      "  return 1/(1+np.exp(-X))\n",
      "/Users/tmullane/Library/Python/3.9/lib/python/site-packages/statsmodels/discrete/discrete_model.py:2443: RuntimeWarning: divide by zero encountered in log\n",
      "  return np.sum(np.log(self.cdf(q * linpred)))\n",
      "/Users/tmullane/Library/Python/3.9/lib/python/site-packages/statsmodels/base/model.py:595: HessianInversionWarning: Inverting hessian failed, no bse or cov_params available\n",
      "  warnings.warn('Inverting hessian failed, no bse or cov_params '\n",
      "/Users/tmullane/Library/Python/3.9/lib/python/site-packages/statsmodels/base/model.py:595: HessianInversionWarning: Inverting hessian failed, no bse or cov_params available\n",
      "  warnings.warn('Inverting hessian failed, no bse or cov_params '\n"
     ]
    }
   ],
   "source": [
    "logit = sm_model.Logit(treat, covars)\n",
    "logit_results = logit.fit(maxiter=10000)\n",
    "print(\"logit:\",logit_results.summary())"
   ]
  },
  {
   "cell_type": "code",
   "execution_count": 367,
   "metadata": {},
   "outputs": [
    {
     "name": "stdout",
     "output_type": "stream",
     "text": [
      "count    16177.000000\n",
      "mean        -7.947289\n",
      "std          2.409537\n",
      "min        -12.267045\n",
      "25%         -9.937779\n",
      "50%         -8.475962\n",
      "75%         -6.350024\n",
      "max          0.564578\n",
      "Name: propensity_score, dtype: float64\n"
     ]
    },
    {
     "name": "stderr",
     "output_type": "stream",
     "text": [
      "/Users/tmullane/Library/Python/3.9/lib/python/site-packages/statsmodels/discrete/discrete_model.py:530: FutureWarning: linear keyword is deprecated, use which=\"linear\"\n",
      "  warnings.warn(msg, FutureWarning)\n"
     ]
    }
   ],
   "source": [
    "# Calculate propensity scores\n",
    "df['propensity_score'] = logit_results.predict(covars, linear=True)\n",
    "\n",
    "# Examine the distribution of propensity scores\n",
    "print(df['propensity_score'].describe())"
   ]
  },
  {
   "cell_type": "code",
   "execution_count": 368,
   "metadata": {},
   "outputs": [],
   "source": [
    "df['weight'] = np.where(\n",
    "    df['treated'] == 1,\n",
    "    1,\n",
    "    df['propensity_score'] / (1 - df['propensity_score'])    # equation when flag == 0\n",
    ")"
   ]
  },
  {
   "cell_type": "code",
   "execution_count": 370,
   "metadata": {},
   "outputs": [
    {
     "name": "stdout",
     "output_type": "stream",
     "text": [
      "count    15992.000000\n",
      "mean         1.000000\n",
      "std          0.122440\n",
      "min         -1.485408\n",
      "25%          0.991857\n",
      "50%          1.025243\n",
      "75%          1.040981\n",
      "max          1.059250\n",
      "Name: weight, dtype: float64\n"
     ]
    }
   ],
   "source": [
    "weights_control = df['weight'][df['treated'] == 0]\n",
    "weights_control_norm = weights_control * len(weights_control)/sum(weights_control)\n",
    "print(weights_control_norm.describe())"
   ]
  },
  {
   "cell_type": "code",
   "execution_count": 371,
   "metadata": {},
   "outputs": [
    {
     "data": {
      "text/plain": [
       "7480     1.059250\n",
       "14533    1.058716\n",
       "15980    1.057552\n",
       "7045     1.057309\n",
       "9098     1.057222\n",
       "Name: weight, dtype: float64"
      ]
     },
     "execution_count": 371,
     "metadata": {},
     "output_type": "execute_result"
    }
   ],
   "source": [
    "top_5_weights = weights_control_norm.sort_values(ascending=False).head(5)\n",
    "top_5_weights"
   ]
  },
  {
   "cell_type": "code",
   "execution_count": 372,
   "metadata": {},
   "outputs": [
    {
     "data": {
      "text/html": [
       "<div>\n",
       "<style scoped>\n",
       "    .dataframe tbody tr th:only-of-type {\n",
       "        vertical-align: middle;\n",
       "    }\n",
       "\n",
       "    .dataframe tbody tr th {\n",
       "        vertical-align: top;\n",
       "    }\n",
       "\n",
       "    .dataframe thead th {\n",
       "        text-align: right;\n",
       "    }\n",
       "</style>\n",
       "<table border=\"1\" class=\"dataframe\">\n",
       "  <thead>\n",
       "    <tr style=\"text-align: right;\">\n",
       "      <th></th>\n",
       "      <th>const</th>\n",
       "      <th>age</th>\n",
       "      <th>educ</th>\n",
       "      <th>black</th>\n",
       "      <th>hisp</th>\n",
       "      <th>married</th>\n",
       "      <th>nodegree</th>\n",
       "      <th>earn_74</th>\n",
       "      <th>earn_75</th>\n",
       "      <th>u_74</th>\n",
       "      <th>u_75</th>\n",
       "    </tr>\n",
       "  </thead>\n",
       "  <tbody>\n",
       "    <tr>\n",
       "      <th>7480</th>\n",
       "      <td>1.0</td>\n",
       "      <td>46</td>\n",
       "      <td>16</td>\n",
       "      <td>0</td>\n",
       "      <td>0</td>\n",
       "      <td>1</td>\n",
       "      <td>0</td>\n",
       "      <td>0.869914</td>\n",
       "      <td>25.24355</td>\n",
       "      <td>0</td>\n",
       "      <td>0</td>\n",
       "    </tr>\n",
       "    <tr>\n",
       "      <th>14533</th>\n",
       "      <td>1.0</td>\n",
       "      <td>51</td>\n",
       "      <td>16</td>\n",
       "      <td>0</td>\n",
       "      <td>0</td>\n",
       "      <td>1</td>\n",
       "      <td>0</td>\n",
       "      <td>3.607010</td>\n",
       "      <td>25.24355</td>\n",
       "      <td>0</td>\n",
       "      <td>0</td>\n",
       "    </tr>\n",
       "    <tr>\n",
       "      <th>15980</th>\n",
       "      <td>1.0</td>\n",
       "      <td>37</td>\n",
       "      <td>18</td>\n",
       "      <td>0</td>\n",
       "      <td>0</td>\n",
       "      <td>1</td>\n",
       "      <td>0</td>\n",
       "      <td>1.763340</td>\n",
       "      <td>25.24355</td>\n",
       "      <td>0</td>\n",
       "      <td>0</td>\n",
       "    </tr>\n",
       "    <tr>\n",
       "      <th>7045</th>\n",
       "      <td>1.0</td>\n",
       "      <td>44</td>\n",
       "      <td>12</td>\n",
       "      <td>0</td>\n",
       "      <td>0</td>\n",
       "      <td>1</td>\n",
       "      <td>0</td>\n",
       "      <td>6.208916</td>\n",
       "      <td>25.24355</td>\n",
       "      <td>0</td>\n",
       "      <td>0</td>\n",
       "    </tr>\n",
       "    <tr>\n",
       "      <th>9098</th>\n",
       "      <td>1.0</td>\n",
       "      <td>45</td>\n",
       "      <td>18</td>\n",
       "      <td>0</td>\n",
       "      <td>0</td>\n",
       "      <td>1</td>\n",
       "      <td>0</td>\n",
       "      <td>4.829593</td>\n",
       "      <td>25.24355</td>\n",
       "      <td>0</td>\n",
       "      <td>0</td>\n",
       "    </tr>\n",
       "  </tbody>\n",
       "</table>\n",
       "</div>"
      ],
      "text/plain": [
       "       const  age  educ  black  hisp  married  nodegree   earn_74   earn_75  \\\n",
       "7480     1.0   46    16      0     0        1         0  0.869914  25.24355   \n",
       "14533    1.0   51    16      0     0        1         0  3.607010  25.24355   \n",
       "15980    1.0   37    18      0     0        1         0  1.763340  25.24355   \n",
       "7045     1.0   44    12      0     0        1         0  6.208916  25.24355   \n",
       "9098     1.0   45    18      0     0        1         0  4.829593  25.24355   \n",
       "\n",
       "       u_74  u_75  \n",
       "7480      0     0  \n",
       "14533     0     0  \n",
       "15980     0     0  \n",
       "7045      0     0  \n",
       "9098      0     0  "
      ]
     },
     "execution_count": 372,
     "metadata": {},
     "output_type": "execute_result"
    }
   ],
   "source": [
    "covars.loc[top_5_weights.index]"
   ]
  },
  {
   "cell_type": "code",
   "execution_count": 373,
   "metadata": {},
   "outputs": [
    {
     "data": {
      "text/plain": [
       "np.float64(-8.799531451887969)"
      ]
     },
     "execution_count": 373,
     "metadata": {},
     "output_type": "execute_result"
    }
   ],
   "source": [
    "att_estimate_logit = att(df)\n",
    "att_estimate_logit"
   ]
  },
  {
   "cell_type": "code",
   "execution_count": 375,
   "metadata": {},
   "outputs": [
    {
     "name": "stdout",
     "output_type": "stream",
     "text": [
      "SE= 0.5692725643236859\n"
     ]
    }
   ],
   "source": [
    "att_logit_boots = []\n",
    "for _ in range(1000):\n",
    "    boot_sample = resample(df)\n",
    "    att_logit_boots.append(att(boot_sample))\n",
    "\n",
    "att_logit_std_error = np.std(att_logit_boots)\n",
    "print(\"SE=\", att_logit_std_error)"
   ]
  },
  {
   "cell_type": "markdown",
   "metadata": {},
   "source": [
    "e. Construct strata"
   ]
  },
  {
   "cell_type": "code",
   "execution_count": 377,
   "metadata": {},
   "outputs": [
    {
     "data": {
      "text/plain": [
       "stratum\n",
       "1    15640\n",
       "2      228\n",
       "3       57\n",
       "4       41\n",
       "5       26\n",
       "Name: count, dtype: int64"
      ]
     },
     "execution_count": 377,
     "metadata": {},
     "output_type": "execute_result"
    }
   ],
   "source": [
    "treated_ps = df[df['treated'] == 1]['propensity_score']\n",
    "quintiles = np.percentile(treated_ps, [20, 40, 60, 80])\n",
    "df['stratum'] = pd.cut(df['propensity_score'], \n",
    "                       bins=[-np.inf] + list(quintiles) + [np.inf], \n",
    "                       labels=[1, 2, 3, 4, 5])\n",
    "control_counts = df[df['treated'] == 0]['stratum'].value_counts().sort_index()\n",
    "control_counts"
   ]
  },
  {
   "cell_type": "markdown",
   "metadata": {},
   "source": [
    "f. Normalized differences in each stratum"
   ]
  },
  {
   "cell_type": "code",
   "execution_count": 427,
   "metadata": {},
   "outputs": [
    {
     "data": {
      "text/plain": [
       "array(['age', 'educ', 'black', 'hisp', 'married', 'nodegree', 'earn_74',\n",
       "       'earn_75', 'u_74', 'u_75'], dtype=object)"
      ]
     },
     "execution_count": 427,
     "metadata": {},
     "output_type": "execute_result"
    }
   ],
   "source": [
    "s_0.index.values"
   ]
  },
  {
   "cell_type": "code",
   "execution_count": 441,
   "metadata": {},
   "outputs": [
    {
     "data": {
      "text/plain": [
       "np.float64(3.895384615384616)"
      ]
     },
     "execution_count": 441,
     "metadata": {},
     "output_type": "execute_result"
    }
   ],
   "source": [
    "s_0['age']"
   ]
  },
  {
   "cell_type": "code",
   "execution_count": 442,
   "metadata": {},
   "outputs": [
    {
     "data": {
      "text/plain": [
       "{'age': age         1.010489\n",
       " educ        0.036830\n",
       " black       0.000000\n",
       " hisp        0.000000\n",
       " married     0.000000\n",
       " nodegree    0.000000\n",
       " earn_74     0.000000\n",
       " earn_75     0.000000\n",
       " u_74        0.000000\n",
       " u_75        0.000000\n",
       " dtype: float64,\n",
       " 'educ': age         2.566712\n",
       " educ        0.093550\n",
       " black       0.000000\n",
       " hisp        0.000000\n",
       " married     0.000000\n",
       " nodegree    0.000000\n",
       " earn_74     0.000000\n",
       " earn_75     0.000000\n",
       " u_74        0.000000\n",
       " u_75        0.000000\n",
       " dtype: float64,\n",
       " 'black': 0,\n",
       " 'hisp': 0,\n",
       " 'married': 0,\n",
       " 'nodegree': 0,\n",
       " 'earn_74': 0,\n",
       " 'earn_75': 0,\n",
       " 'u_74': 0,\n",
       " 'u_75': 0}"
      ]
     },
     "execution_count": 442,
     "metadata": {},
     "output_type": "execute_result"
    }
   ],
   "source": [
    "norm_dist[stratum]"
   ]
  },
  {
   "cell_type": "code",
   "execution_count": 450,
   "metadata": {},
   "outputs": [
    {
     "data": {
      "text/plain": [
       "{'age': age        -0.834958\n",
       " educ       -0.130291\n",
       " black       0.030015\n",
       " hisp        0.013162\n",
       " married    -0.035405\n",
       " nodegree    0.028087\n",
       " earn_74    -1.046289\n",
       " earn_75    -1.075145\n",
       " u_74        0.036003\n",
       " u_75        0.021974\n",
       " dtype: float64,\n",
       " 'educ': age        -3.188174\n",
       " educ       -0.497498\n",
       " black       0.114607\n",
       " hisp        0.050257\n",
       " married    -0.135190\n",
       " nodegree    0.107245\n",
       " earn_74    -3.995115\n",
       " earn_75    -4.105295\n",
       " u_74        0.137471\n",
       " u_75        0.083904\n",
       " dtype: float64,\n",
       " 'black': age        -20.105287\n",
       " educ        -3.137325\n",
       " black        0.722733\n",
       " hisp         0.316932\n",
       " married     -0.852538\n",
       " nodegree     0.676310\n",
       " earn_74    -25.194028\n",
       " earn_75    -25.888848\n",
       " u_74         0.866923\n",
       " u_75         0.529113\n",
       " dtype: float64,\n",
       " 'hisp': age        -22.384220\n",
       " educ        -3.492940\n",
       " black        0.804654\n",
       " hisp         0.352857\n",
       " married     -0.949173\n",
       " nodegree     0.752970\n",
       " earn_74    -28.049768\n",
       " earn_75    -28.823346\n",
       " u_74         0.965188\n",
       " u_75         0.589088\n",
       " dtype: float64,\n",
       " 'married': age        -15.818175\n",
       " educ        -2.468343\n",
       " black        0.568622\n",
       " hisp         0.249352\n",
       " married     -0.670748\n",
       " nodegree     0.532099\n",
       " earn_74    -19.821828\n",
       " earn_75    -20.368489\n",
       " u_74         0.682066\n",
       " u_75         0.416289\n",
       " dtype: float64,\n",
       " 'nodegree': age        -15.601492\n",
       " educ        -2.434531\n",
       " black        0.560833\n",
       " hisp         0.245936\n",
       " married     -0.661560\n",
       " nodegree     0.524810\n",
       " earn_74    -19.550301\n",
       " earn_75    -20.089474\n",
       " u_74         0.672723\n",
       " u_75         0.410586\n",
       " dtype: float64,\n",
       " 'earn_74': age        -0.878079\n",
       " educ       -0.137020\n",
       " black       0.031565\n",
       " hisp        0.013842\n",
       " married    -0.037234\n",
       " nodegree    0.029537\n",
       " earn_74    -1.100325\n",
       " earn_75    -1.130671\n",
       " u_74        0.037862\n",
       " u_75        0.023109\n",
       " dtype: float64,\n",
       " 'earn_75': age        -0.979298\n",
       " educ       -0.152814\n",
       " black       0.035203\n",
       " hisp        0.015437\n",
       " married    -0.041526\n",
       " nodegree    0.032942\n",
       " earn_74    -1.227163\n",
       " earn_75    -1.261007\n",
       " u_74        0.042226\n",
       " u_75        0.025772\n",
       " dtype: float64,\n",
       " 'u_74': age        -17.901946\n",
       " educ        -2.793505\n",
       " black        0.643528\n",
       " hisp         0.282200\n",
       " married     -0.759108\n",
       " nodegree     0.602193\n",
       " earn_74    -22.433011\n",
       " earn_75    -23.051685\n",
       " u_74         0.771917\n",
       " u_75         0.471128\n",
       " dtype: float64,\n",
       " 'u_75': age        -19.175112\n",
       " educ        -2.992176\n",
       " black        0.689295\n",
       " hisp         0.302270\n",
       " married     -0.813095\n",
       " nodegree     0.645021\n",
       " earn_74    -24.028421\n",
       " earn_75    -24.691095\n",
       " u_74         0.826814\n",
       " u_75         0.504634\n",
       " dtype: float64}"
      ]
     },
     "execution_count": 450,
     "metadata": {},
     "output_type": "execute_result"
    }
   ],
   "source": [
    "norm_dist[1]"
   ]
  },
  {
   "cell_type": "markdown",
   "metadata": {},
   "source": [
    "why is this spitting out too many lists for each cov? there should just be one per stratum"
   ]
  },
  {
   "cell_type": "code",
   "execution_count": 453,
   "metadata": {},
   "outputs": [
    {
     "name": "stderr",
     "output_type": "stream",
     "text": [
      "/Users/tmullane/Library/Python/3.9/lib/python/site-packages/numpy/_core/fromnumeric.py:84: FutureWarning: The behavior of DataFrame.sum with axis=None is deprecated, in a future version this will reduce over both axes and return a scalar. To retain the old behavior, pass axis=0 (or do not pass axis)\n",
      "  return reduction(axis=axis, out=out, **passkwargs)\n",
      "/Users/tmullane/Library/Python/3.9/lib/python/site-packages/numpy/_core/fromnumeric.py:84: FutureWarning: The behavior of DataFrame.sum with axis=None is deprecated, in a future version this will reduce over both axes and return a scalar. To retain the old behavior, pass axis=0 (or do not pass axis)\n",
      "  return reduction(axis=axis, out=out, **passkwargs)\n",
      "/Users/tmullane/Library/Python/3.9/lib/python/site-packages/numpy/_core/fromnumeric.py:84: FutureWarning: The behavior of DataFrame.sum with axis=None is deprecated, in a future version this will reduce over both axes and return a scalar. To retain the old behavior, pass axis=0 (or do not pass axis)\n",
      "  return reduction(axis=axis, out=out, **passkwargs)\n",
      "/Users/tmullane/Library/Python/3.9/lib/python/site-packages/numpy/_core/fromnumeric.py:84: FutureWarning: The behavior of DataFrame.sum with axis=None is deprecated, in a future version this will reduce over both axes and return a scalar. To retain the old behavior, pass axis=0 (or do not pass axis)\n",
      "  return reduction(axis=axis, out=out, **passkwargs)\n",
      "/Users/tmullane/Library/Python/3.9/lib/python/site-packages/numpy/_core/fromnumeric.py:84: FutureWarning: The behavior of DataFrame.sum with axis=None is deprecated, in a future version this will reduce over both axes and return a scalar. To retain the old behavior, pass axis=0 (or do not pass axis)\n",
      "  return reduction(axis=axis, out=out, **passkwargs)\n"
     ]
    },
    {
     "data": {
      "text/plain": [
       "{1: {'age': np.float64(-0.8349576068166848),\n",
       "  'educ': np.float64(-0.49749777871901985),\n",
       "  'black': np.float64(0.7227325873537844),\n",
       "  'hisp': np.float64(0.35285671315376954),\n",
       "  'married': np.float64(-0.6707483642248573),\n",
       "  'nodegree': np.float64(0.5248097322768831),\n",
       "  'earn_74': np.float64(-1.1003250192884422),\n",
       "  'earn_75': np.float64(-1.2610067155153504),\n",
       "  'u_74': np.float64(0.7719165315845047),\n",
       "  'u_75': np.float64(0.5046337189295692)},\n",
       " 2: {'age': np.float64(-0.06071993986732214),\n",
       "  'educ': np.float64(-0.29511108822457477),\n",
       "  'black': np.float64(0.18113349331692472),\n",
       "  'hisp': np.float64(-0.1811334933169248),\n",
       "  'married': np.float64(-0.2169114450737581),\n",
       "  'nodegree': np.float64(0.3387941813610128),\n",
       "  'earn_74': np.float64(0.24556951625016615),\n",
       "  'earn_75': np.float64(0.4130350497864614),\n",
       "  'u_74': np.float64(-0.33615135864580875),\n",
       "  'u_75': np.float64(-0.49820650586251625)},\n",
       " 3: {'age': np.float64(-0.46155222426246095),\n",
       "  'educ': np.float64(0.307899343379012),\n",
       "  'black': 0,\n",
       "  'hisp': 0,\n",
       "  'married': np.float64(0.09312591423125363),\n",
       "  'nodegree': np.float64(-0.11187422380307539),\n",
       "  'earn_74': np.float64(-0.060436939304781896),\n",
       "  'earn_75': np.float64(0.1398441666177167),\n",
       "  'u_74': np.float64(0.3607546894483361),\n",
       "  'u_75': np.float64(-0.05574260814585663)},\n",
       " 4: {'age': np.float64(0.35966884839259194),\n",
       "  'educ': np.float64(-0.02288669178467052),\n",
       "  'black': 0,\n",
       "  'hisp': 0,\n",
       "  'married': 0,\n",
       "  'nodegree': np.float64(-0.11500481782948203),\n",
       "  'earn_74': 0,\n",
       "  'earn_75': np.float64(-0.3226372711821615),\n",
       "  'u_74': 0,\n",
       "  'u_75': np.float64(0.802731925929673)},\n",
       " 5: {'age': np.float64(1.0104889609412762),\n",
       "  'educ': np.float64(0.09354965811441955),\n",
       "  'black': 0,\n",
       "  'hisp': 0,\n",
       "  'married': 0,\n",
       "  'nodegree': 0,\n",
       "  'earn_74': 0,\n",
       "  'earn_75': 0,\n",
       "  'u_74': 0,\n",
       "  'u_75': 0}}"
      ]
     },
     "execution_count": 453,
     "metadata": {},
     "output_type": "execute_result"
    }
   ],
   "source": [
    "norm_dist = {}\n",
    "for stratum in range(1, 6):\n",
    "    strat_cov = {}\n",
    "    stratum_data = df[df['stratum'] == stratum].drop(columns=['earn_78','propensity_score', 'stratum','weight', 'weight_log'])\n",
    "    treat_covars = stratum_data[stratum_data['treated'] == 1].iloc[:, 1:]\n",
    "    control_covars = stratum_data[stratum_data['treated'] == 0].iloc[:, 1:]\n",
    "    df_diff = treat_covars.mean()-control_covars.mean()\n",
    "    s_0 = (np.sum((control_covars - control_covars.mean())**2))/(len(control_covars)-1)\n",
    "    s_1 = (np.sum((treat_covars - treat_covars.mean())**2))/(len(treat_covars)-1)\n",
    "\n",
    "    for cov in s_0.index.values:\n",
    "        if s_0[cov] == 0 and s_1[cov] == 0:\n",
    "            strat_cov[cov] = 0\n",
    "        elif s_0[cov] == 0 or s_1[cov] == 0:\n",
    "            strat_cov[cov] = np.inf if df_diff[cov]!= 0 else 0\n",
    "        else:\n",
    "            strat_cov[cov] = df_diff[cov]/np.sqrt((s_0[cov] + s_1[cov])/2)\n",
    "\n",
    "        norm_dist[stratum] = strat_cov\n",
    "\n",
    "norm_dist"
   ]
  },
  {
   "cell_type": "code",
   "execution_count": 440,
   "metadata": {},
   "outputs": [],
   "source": [
    "stratum_sizes = df[df['treated'] == 1]['stratum'].value_counts().sort_index()"
   ]
  },
  {
   "cell_type": "code",
   "execution_count": 456,
   "metadata": {},
   "outputs": [
    {
     "name": "stdout",
     "output_type": "stream",
     "text": [
      "age 0.0025856076774800458\n",
      "educ -0.08280931144696672\n",
      "black 0.18077321613414182\n",
      "hisp 0.03434464396736895\n",
      "married -0.15890677901347236\n",
      "nodegree 0.12734497440106768\n",
      "earn_74 -0.18303848846861157\n",
      "earn_75 -0.2061529540586667\n",
      "u_74 0.1593039724774064\n",
      "u_75 0.1506833061701739\n"
     ]
    }
   ],
   "source": [
    "weighted_diffs = {}\n",
    "for cov in covars.columns[1:]:\n",
    "    weighted_diff = sum(norm_dist[s][cov] * stratum_sizes[s] for s in range(1, 6)) / sum(stratum_sizes)\n",
    "    weighted_diffs[cov] = weighted_diff\n",
    "\n",
    "for cov, diff in weighted_diffs.items():\n",
    "    print(cov, diff)"
   ]
  },
  {
   "cell_type": "code",
   "execution_count": 465,
   "metadata": {},
   "outputs": [
    {
     "name": "stdout",
     "output_type": "stream",
     "text": [
      "\n",
      "Unbalanced covariates:\n",
      "black: 0.1808\n",
      "married: -0.1589\n",
      "nodegree: 0.1273\n",
      "earn_74: -0.1830\n",
      "earn_75: -0.2062\n",
      "u_74: 0.1593\n",
      "u_75: 0.1507\n",
      "\n",
      "Most imbalanced stratum: 1 (max normalized difference: 1.2610)\n"
     ]
    }
   ],
   "source": [
    "# Identify unbalanced covariates (e.g., |diff| > 0.1)\n",
    "unbalanced = {cov: diff for cov, diff in weighted_diffs.items() if abs(diff) > 0.1}\n",
    "if unbalanced:\n",
    "    print(\"\\nUnbalanced covariates:\")\n",
    "    for cov, diff in unbalanced.items():\n",
    "        print(f\"{cov}: {diff:.4f}\")\n",
    "else:\n",
    "    print(\"\\nNo covariates are very unbalanced.\")\n",
    "\n",
    "# Identify most imbalanced stratum\n",
    "stratum_imbalance = {}\n",
    "for stratum in range(1, 6):\n",
    "    stratum_imbalance[stratum] = max(abs(diff) for diff in norm_dist[stratum].values())\n",
    "\n",
    "most_imbalanced = max(stratum_imbalance, key=stratum_imbalance.get)\n",
    "print(f\"\\nMost imbalanced stratum: {most_imbalanced} (max normalized difference: {stratum_imbalance[most_imbalanced]:.4f})\")"
   ]
  },
  {
   "cell_type": "markdown",
   "metadata": {},
   "source": [
    "g. Avg effect within each strata "
   ]
  },
  {
   "cell_type": "code",
   "execution_count": 475,
   "metadata": {},
   "outputs": [
    {
     "data": {
      "text/plain": [
       "{1: {'effect': np.float64(-0.5473752309469494),\n",
       "  'se': np.float64(1.1584031156630086),\n",
       "  'p_value': np.float64(0.6365581924021968),\n",
       "  'n_treated': 37,\n",
       "  'n_control': 26,\n",
       "  'model': <statsmodels.regression.linear_model.RegressionResultsWrapper at 0x169b92dc0>},\n",
       " 2: {'effect': np.float64(-0.5616618207808856),\n",
       "  'se': np.float64(1.1020698805314393),\n",
       "  'p_value': np.float64(0.6107443439556998),\n",
       "  'n_treated': 37,\n",
       "  'n_control': 26,\n",
       "  'model': <statsmodels.regression.linear_model.RegressionResultsWrapper at 0x169b664c0>},\n",
       " 3: {'effect': np.float64(5.148354818875074),\n",
       "  'se': np.float64(1.4987489302534485),\n",
       "  'p_value': np.float64(0.0009227051752241839),\n",
       "  'n_treated': 37,\n",
       "  'n_control': 26,\n",
       "  'model': <statsmodels.regression.linear_model.RegressionResultsWrapper at 0x168984700>},\n",
       " 4: {'effect': np.float64(5.1275315210809405),\n",
       "  'se': np.float64(2.13162855721193),\n",
       "  'p_value': np.float64(0.018760286790387357),\n",
       "  'n_treated': 37,\n",
       "  'n_control': 26,\n",
       "  'model': <statsmodels.regression.linear_model.RegressionResultsWrapper at 0x169c2c160>},\n",
       " 5: {'effect': np.float64(0.05568742335794896),\n",
       "  'se': np.float64(1.3598780954386465),\n",
       "  'p_value': np.float64(0.9674737765075326),\n",
       "  'n_treated': 37,\n",
       "  'n_control': 26,\n",
       "  'model': <statsmodels.regression.linear_model.RegressionResultsWrapper at 0x169c2c580>}}"
      ]
     },
     "execution_count": 475,
     "metadata": {},
     "output_type": "execute_result"
    }
   ],
   "source": [
    "def lin_model(df):\n",
    "    covars = df.drop(columns=['earn_78'])\n",
    "    covars = sm_tools.add_constant(covars)\n",
    "    out = df['earn_78']\n",
    "\n",
    "    lin_reg = sm.OLS(out, covars).fit()\n",
    "    return lin_reg.params['treated'], lin_reg.bse['treated'], lin_reg.pvalues['treated'], lin_reg\n",
    "\n",
    "results = {}\n",
    "for strata in range(1, 6):\n",
    "    df_stat = df[df['stratum'] == strata].drop(columns=['propensity_score', 'stratum','weight', 'weight_log'])\n",
    "    effect, se, p_value, model = lin_model(df_stat)\n",
    "    results[strata]= {\n",
    "            'effect': effect,\n",
    "            'se': se,\n",
    "            'p_value': p_value,\n",
    "            'n_treated': sum(stratum_data['treated'] == 1),\n",
    "            'n_control': sum(stratum_data['treated'] == 0),\n",
    "            'model': model\n",
    "        }\n",
    "results"
   ]
  },
  {
   "cell_type": "code",
   "execution_count": 476,
   "metadata": {},
   "outputs": [
    {
     "data": {
      "text/plain": [
       "np.float64(1.8445073423172256)"
      ]
     },
     "execution_count": 476,
     "metadata": {},
     "output_type": "execute_result"
    }
   ],
   "source": [
    "# Calculate overall weighted average effect\n",
    "total_treated = sum(res['n_treated'] for res in results.values())\n",
    "weighted_effect = sum(res['effect'] * res['n_treated'] for res in results.values()) / total_treated\n",
    "weighted_effect"
   ]
  },
  {
   "cell_type": "markdown",
   "metadata": {},
   "source": [
    "h. ATT using within strata"
   ]
  },
  {
   "cell_type": "code",
   "execution_count": 481,
   "metadata": {},
   "outputs": [],
   "source": [
    "def strata_att(df):\n",
    "    strata_effect = {}\n",
    "    strata_weight = {}\n",
    "\n",
    "    for strata in range(1, 6):\n",
    "        df_stat = df[df['stratum'] == strata].drop(columns=['propensity_score', 'stratum','weight', 'weight_log'])\n",
    "        effect = results[strata]['effect']\n",
    "        n_treated = results[strata]['n_treated']\n",
    "        \n",
    "        strata_effect[strata] = effect\n",
    "        strata_weight[strata] = n_treated\n",
    "    total_weight = sum(strata_weight.values())\n",
    "    weighted_effect = sum(strata_effect[s] * strata_weight[s] for s in range(1, 6)) / total_weight\n",
    "\n",
    "    return weighted_effect"
   ]
  },
  {
   "cell_type": "code",
   "execution_count": 482,
   "metadata": {},
   "outputs": [],
   "source": [
    "att_strata = strata_att(df)"
   ]
  },
  {
   "cell_type": "code",
   "execution_count": 484,
   "metadata": {},
   "outputs": [
    {
     "name": "stdout",
     "output_type": "stream",
     "text": [
      "SE= 2.220446049250313e-16\n"
     ]
    }
   ],
   "source": [
    "att_boots = []\n",
    "for _ in range(1000):\n",
    "    boot_sample = resample(df)\n",
    "    att_boots.append(strata_att(boot_sample))\n",
    "\n",
    "att_std_error = np.std(att_boots)\n",
    "print(\"SE=\", att_std_error)"
   ]
  },
  {
   "cell_type": "markdown",
   "metadata": {},
   "source": [
    "The standard error of the strata estimates is smaller than for the strictly weighted estimates. This is expected because by construction, although total N in the regression is less, the control group more closely resembles the treated group. This makes the variance of observables and outcomes smaller, leading to smaller SE. "
   ]
  },
  {
   "cell_type": "markdown",
   "metadata": {},
   "source": [
    "i. Are these estimates reasonable? "
   ]
  },
  {
   "cell_type": "markdown",
   "metadata": {},
   "source": [
    "These estimates both assume unconfoundedness, which may or may not be valid depending on whether you believe an argument about treatment being a related to the distrobutions of previous earnings or actions. Also, although the SE is smaller and the estimate is more precise for the stratified regression, this regression loses some of the nuance of the relationships of differences between groups as opposed to the more strictly defined differences within groups. "
   ]
  }
 ],
 "metadata": {
  "kernelspec": {
   "display_name": "Python 3",
   "language": "python",
   "name": "python3"
  },
  "language_info": {
   "codemirror_mode": {
    "name": "ipython",
    "version": 3
   },
   "file_extension": ".py",
   "mimetype": "text/x-python",
   "name": "python",
   "nbconvert_exporter": "python",
   "pygments_lexer": "ipython3",
   "version": "3.9.6"
  }
 },
 "nbformat": 4,
 "nbformat_minor": 2
}
